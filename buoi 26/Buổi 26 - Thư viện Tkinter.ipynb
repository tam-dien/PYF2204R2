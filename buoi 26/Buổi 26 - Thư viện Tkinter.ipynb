{
 "cells": [
  {
   "cell_type": "markdown",
   "id": "4176de20",
   "metadata": {},
   "source": [
    "# Tkinter\n",
    "\n",
    "### Thư viện Tkinter là gì?\n",
    "\n",
    "Thư viện Tkinter là thư viện hỗ trợ chúng ta xây dựng GUI bằng python"
   ]
  },
  {
   "cell_type": "markdown",
   "id": "24a7daef",
   "metadata": {},
   "source": [
    "### Thêm thư viện\n",
    "\n",
    "Cú pháp:\n",
    "\n",
    "`from tkinter import *`\n",
    "\n",
    "<b> Thêm thư viện: </b>"
   ]
  },
  {
   "cell_type": "code",
   "execution_count": null,
   "id": "b121d891",
   "metadata": {},
   "outputs": [],
   "source": []
  },
  {
   "cell_type": "markdown",
   "id": "688e7f69",
   "metadata": {},
   "source": [
    "### Khởi tạo cửa số\n",
    "\n",
    "Cú pháp:\n",
    "\n",
    "`<tên đối tượng> = Tk()`\n",
    "\n",
    "Đổi tiêu đề cửa số:\n",
    "\n",
    "`<tên đối tượng>.title(\"Tiêu đề mới\")`\n",
    "\n",
    "##### Lưu ý: ta cần thêm hàm `<tên đối tượng>.mainloop()` để cửa sổ hoạt động\n",
    "\n",
    "<b>Hãy khởi tạo một cửa sổ:</b>"
   ]
  },
  {
   "cell_type": "code",
   "execution_count": null,
   "id": "32f0a643",
   "metadata": {},
   "outputs": [],
   "source": []
  },
  {
   "cell_type": "markdown",
   "id": "c22ffe69",
   "metadata": {},
   "source": [
    "### Thêm widget cho cửa sổ\n",
    "\n",
    "Widget là những đối tượng sẽ hiển thị và hoạt động trên cửa số\n",
    "\n",
    "Có rất nhiều loại Widget như: nút nhấn (button), nhãn (label), khung nhập dữ liệu (Entry),..."
   ]
  },
  {
   "cell_type": "markdown",
   "id": "d45725b0",
   "metadata": {},
   "source": [
    "### Label\n",
    "\n",
    "Cú pháp:\n",
    "\n",
    "`<tên đối tượng> = Label(<cửa số>,text = <nội dung>)`\n",
    "\n",
    "##### Lưu ý, ta cần dùng lệnh `<tên đối tượng>.pack()` để Label có thể hiển thị lên cửa sổ\n",
    "\n",
    "<b> Hãy thêm một đối tượng Label vào cửa sổ: </b>"
   ]
  },
  {
   "cell_type": "code",
   "execution_count": null,
   "id": "1d1b6df8",
   "metadata": {},
   "outputs": [],
   "source": []
  },
  {
   "cell_type": "markdown",
   "id": "12ac622f",
   "metadata": {},
   "source": [
    "### Button\n",
    "\n",
    "Cú pháp:\n",
    "\n",
    "`<tên đối tượng> = Button(<cửa số>,text = <nội dung>)`\n",
    "\n",
    "##### Lưu ý, ta cần dùng lệnh `<tên đối tượng>.pack()` để Button có thể hiển thị lên cửa sổ\n",
    "\n",
    "<b> Hãy thêm một đối tượng Button vào cửa sổ: </b>"
   ]
  },
  {
   "cell_type": "code",
   "execution_count": null,
   "id": "e6b93091",
   "metadata": {},
   "outputs": [],
   "source": []
  },
  {
   "cell_type": "markdown",
   "id": "ebe86e9e",
   "metadata": {},
   "source": [
    "### Entry\n",
    "\n",
    "Cú pháp:\n",
    "\n",
    "`<tên đối tượng> = Entry(<cửa số>)`\n",
    "\n",
    "##### Lưu ý, ta cần dùng lệnh `<tên đối tượng>.pack()` để Entry có thể hiển thị lên cửa sổ\n",
    "\n",
    "<b> Hãy thêm một đối tượng Entry vào cửa sổ: </b>"
   ]
  },
  {
   "cell_type": "code",
   "execution_count": null,
   "id": "fadee207",
   "metadata": {},
   "outputs": [],
   "source": []
  },
  {
   "cell_type": "markdown",
   "id": "97038368",
   "metadata": {},
   "source": [
    "### pack()\n",
    "\n",
    "Lệnh `pack()` sẽ giúp sắp xếp các đối tượng theo thứ tự nhất định\n",
    "\n",
    "pack() có các tham số:\n",
    "\n",
    "- <b>expand</b>:  Tùy chọn này sẽ quyết định các widget có được mở rộng để lấp đầy bất kì khoảng trống thừa trong tống thể hình học hay không. Nó có các giá trị Boolean, True hoặc False, giá trị mặc định là False\n",
    "- <b>fill</b>: Nó được sử dụng để lấp đầy các khoảng trống thừa . Giá trị mặc định là NONE, và có giá định khác như X (lấp theo chiều ngang) , Y(lấp theo chiều dọc) hoặc BOTH (lấp theo chiều ngang và dọc)\n",
    "- <b>side</b>: Được sử dụng để chỉ hướng mặt của widget được đóng gói bên trong cửa sổ , có các giá trị TOP(mặc định) ,BOTTOM, LEFT hoặc RIGHT"
   ]
  },
  {
   "attachments": {
    "image.png": {
     "image/png": "[encoded data removed]"
    }
   },
   "cell_type": "markdown",
   "id": "76d95ede",
   "metadata": {},
   "source": [
    "<b>Hãy ứng dụng lệnh pack() để xây dựng cửa sổ sau:</b>\n",
    "\n",
    "![image.png](attachment:image.png)"
   ]
  },
  {
   "cell_type": "code",
   "execution_count": null,
   "id": "27d2610f",
   "metadata": {},
   "outputs": [],
   "source": []
  },
  {
   "cell_type": "markdown",
   "id": "22e11c16",
   "metadata": {},
   "source": [
    "### grid()\n",
    "\n",
    "Lệnh `grid()` sẽ giúp sắp xếp các đối tượng theo một bảng\n",
    "\n",
    "grid() có các tham số:\n",
    "\n",
    "- column : Tùy chọn này chỉ định số cột mà widget sẽ được đặt. Giá trị mặc định là 0\n",
    "- columnspan:  Dùng chỉ định số lượng cột mà widget sẽ được mở rộng\n",
    "- row: Tùy chọn này chỉ định số hàng cho widget sẽ được đặt .  Giá trị mặc định là 0\n",
    "- rowspan: Dùng chỉ định số lượng hàng mà widget sẽ được mở rộng\n",
    "- padx, pady: Dùng thể hiện pixel của padding được thêm vào bên ngoài đường viền widget . padx,  là phần padding theo chiều ngang, còn pady là phần padding theo chiều dọc.\n",
    "- ipadx, ipady : Dùng thể hiện pixel của padding được thêm vào bên trong đường viền widget. ipadx,  là phần padding theo chiều ngang, còn ipady là phần padding theo chiều dọc.\n",
    "- sticky : Được sử dụng trong điều kiện ô lớn hơn widget, được sử dụng chỉ định vị trí của widget bên trong ô. Nếu không sử dụng sticky, thì widget mặc định đặt ở giữa ô. Sticky có thể có các giá trị như N, E, S, W, NE, NW, SE & SW."
   ]
  },
  {
   "attachments": {
    "image.png": {
     "image/png": "[encoded data removed]"
    }
   },
   "cell_type": "markdown",
   "id": "80da0d3e",
   "metadata": {},
   "source": [
    "<b>Hãy ứng dụng lệnh grid() để xây dựng cửa sổ sau:</b>\n",
    "\n",
    "![image.png](attachment:image.png)"
   ]
  },
  {
   "cell_type": "code",
   "execution_count": null,
   "id": "166d9f77",
   "metadata": {},
   "outputs": [],
   "source": []
  },
  {
   "cell_type": "markdown",
   "id": "c42c2771",
   "metadata": {},
   "source": [
    "<b>Lập trình cho ứng dụng trên hoạt động:</b>"
   ]
  },
  {
   "cell_type": "code",
   "execution_count": null,
   "id": "df9b6ab3",
   "metadata": {},
   "outputs": [],
   "source": []
  }
 ],
 "metadata": {
  "kernelspec": {
   "display_name": "Python 3 (ipykernel)",
   "language": "python",
   "name": "python3"
  },
  "language_info": {
   "codemirror_mode": {
    "name": "ipython",
    "version": 3
   },
   "file_extension": ".py",
   "mimetype": "text/x-python",
   "name": "python",
   "nbconvert_exporter": "python",
   "pygments_lexer": "ipython3",
   "version": "3.10.1"
  }
 },
 "nbformat": 4,
 "nbformat_minor": 5
}
