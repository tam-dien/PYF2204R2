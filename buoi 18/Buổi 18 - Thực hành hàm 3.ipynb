{
 "cells": [
  {
   "cell_type": "markdown",
   "id": "f13965b3",
   "metadata": {},
   "source": [
    "### Bài 1\n",
    "\n",
    "Viết hàm `tientaxi` tính tiền taxi với tham số đầu vào là số km đi được và trả về số tiền\n",
    "\n",
    "- 1km đầu là 15000.\n",
    "- Từ km thứ 2 đến km thứ 10 là 14000.\n",
    "- Từ km thứ 11 đến km thứ 20 là 12500.\n",
    "- Từ km thứ 21 đến km thứ 30 là 11000.\n",
    "- Trên 30km thì mỗi km tăng thêm là 9000."
   ]
  },
  {
   "cell_type": "code",
   "execution_count": 3,
   "id": "112a50d0",
   "metadata": {},
   "outputs": [
    {
     "name": "stdout",
     "output_type": "stream",
     "text": [
      "266000\n"
     ]
    }
   ],
   "source": [
    "def tientaxi(sokm):\n",
    "    if sokm <= 1:\n",
    "        return 15000\n",
    "    if sokm <= 10:\n",
    "        return 15000 + (sokm - 1)*14000\n",
    "    if sokm <= 20:\n",
    "        return 15000 + 9*14000 + (sokm - 10)*12500\n",
    "    if sokm <= 30:\n",
    "        return 15000 + 9*14000 + 10*12500 + (sokm - 20)*11000\n",
    "    return 15000 + 9*14000 + 10*12500 + 10*11000 + (sokm-30)*9000\n",
    "\n",
    "print(tientaxi(20))"
   ]
  },
  {
   "cell_type": "markdown",
   "id": "7c40ebdb",
   "metadata": {},
   "source": [
    "### Bài 2\n",
    "\n",
    "Một hãng cung cấp dịch vụ điện thoại khuyến khích người dùng đăng ký số thuê bao mới bằng cách, khi người dùng đến đăng ký thuê báo sẽ được tặng 2 số may mắn n và k, hãng sẽ khuyến mãi cho người đó số tiền vào tài khoản từ số n sau khi xóa k chữ số\n",
    "\n",
    "Hãy viết hàm `tienkm` cho vào n và k, trả về số lớn nhất có thể sau khi xóa k chữ số trong n"
   ]
  },
  {
   "cell_type": "code",
   "execution_count": 15,
   "id": "b8b6af8f",
   "metadata": {},
   "outputs": [
    {
     "name": "stdout",
     "output_type": "stream",
     "text": [
      "9831\n"
     ]
    }
   ],
   "source": [
    "def tienkm(n,k):\n",
    "    a = str(n)\n",
    "    for i in range(k):\n",
    "        x = True\n",
    "        for j in range(len(a) - 1) :\n",
    "            if int(a[j]) < int(a[j+1]):\n",
    "                x = False\n",
    "                a = a[:j] + a[j+1:]\n",
    "                break\n",
    "        if x == True:\n",
    "            a = a[:-1]\n",
    "    return a\n",
    "\n",
    "# print(tienkm(986754,3))\n",
    "print(tienkm(95782131,4))\n",
    "\n",
    "### 9869"
   ]
  },
  {
   "cell_type": "markdown",
   "id": "4c877020",
   "metadata": {},
   "source": [
    "### Bài 3\n",
    "\n",
    "Cấp số cộng là một dãy số mà kể từ số hạng thứ hai trở đi thì mỗi số hạng hơn số hạng liền trước của nó k đơn vị\n",
    "\n",
    "Ví dụ:\n",
    "- 2, 4, 6, 8, 10,.. là một cấp số cộng với k là 2\n",
    "- 3, 6, 9, 12,... là một cấp số cộng với k là 3\n",
    "\n",
    "Tí đã viết được 4 số là 1 cấp số cộng nhưng Tèo lại xóa đi mất 1 số\n",
    "\n",
    "Bạn hãy viết hàm `timcsc` cho vào 3 số hạng là 3 số còn lại của cấp số cộng, trả về số bị thiếu (trong trường hợp có 2 đáp án, trả về đáp án lớn nhất)\n",
    "\n",
    "Ví dụ:\n",
    "\n",
    "- timcsc(4,6,8) kết quả là 10\n",
    "- timcsc(10,1,4) kết quả là 7"
   ]
  },
  {
   "cell_type": "code",
   "execution_count": 12,
   "id": "3b7d80bc",
   "metadata": {},
   "outputs": [
    {
     "name": "stdout",
     "output_type": "stream",
     "text": [
      "7\n"
     ]
    }
   ],
   "source": [
    "def timcsc(a,b,c):\n",
    "    if a > b:\n",
    "        a, b = b, a\n",
    "    if a > c:\n",
    "        a, c = c, a\n",
    "    if b > c:\n",
    "        b, c = c, b\n",
    "    if (b - a) == (c - b)*2:\n",
    "        return a + (c - b)\n",
    "    if (b - a)*2 == (c - b):\n",
    "        return b + (b - a)\n",
    "    return c + (c - b)\n",
    "\n",
    "print(timcsc(10,1,4))"
   ]
  }
 ],
 "metadata": {
  "kernelspec": {
   "display_name": "Python 3 (ipykernel)",
   "language": "python",
   "name": "python3"
  },
  "language_info": {
   "codemirror_mode": {
    "name": "ipython",
    "version": 3
   },
   "file_extension": ".py",
   "mimetype": "text/x-python",
   "name": "python",
   "nbconvert_exporter": "python",
   "pygments_lexer": "ipython3",
   "version": "3.10.4"
  }
 },
 "nbformat": 4,
 "nbformat_minor": 5
}
