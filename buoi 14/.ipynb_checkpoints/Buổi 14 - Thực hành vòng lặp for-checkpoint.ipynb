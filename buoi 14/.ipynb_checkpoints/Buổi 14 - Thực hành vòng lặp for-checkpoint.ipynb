{
 "cells": [
  {
   "cell_type": "markdown",
   "id": "83131812",
   "metadata": {},
   "source": [
    "#  Thực hành vòng lặp for\n",
    "\n",
    "### Bài 1\n",
    "\n",
    "Nhập vào một số số, in ra bảng cửa chương của số đó"
   ]
  },
  {
   "cell_type": "code",
   "execution_count": null,
   "id": "778a2671",
   "metadata": {},
   "outputs": [],
   "source": []
  },
  {
   "cell_type": "markdown",
   "id": "0a8ffc55",
   "metadata": {},
   "source": [
    "### Bài 2\n",
    "\n",
    "Nhập vào một câu nói (mỗi từ cách nhau một khoảng trắng, không có dấu phẩy, chấm), hãy tách từng từ trong chuỗi ra rồi in lên màn hình. Mỗi từ in kèm với độ dài cửa từ đó\n",
    "\n",
    "Ví dụ:\n",
    "\n",
    "Nhập: Xin chào\n",
    "\n",
    "In:\n",
    "\n",
    "Xin 3\n",
    "\n",
    "Chào 4"
   ]
  },
  {
   "cell_type": "code",
   "execution_count": null,
   "id": "3549d53a",
   "metadata": {},
   "outputs": [],
   "source": []
  },
  {
   "cell_type": "markdown",
   "id": "8462cc76",
   "metadata": {},
   "source": [
    "### Bài 3\n",
    "\n",
    "Nhập vào một chuỗi có 2 số nguyên, mỗi số cách nhau một dấu phẩy, hãy tính tổng của hai số đó\n",
    "\n",
    "Ví dụ:\n",
    "\n",
    "Nhập: 2,3\n",
    "In: 5"
   ]
  },
  {
   "cell_type": "code",
   "execution_count": null,
   "id": "692e3585",
   "metadata": {},
   "outputs": [],
   "source": []
  },
  {
   "cell_type": "markdown",
   "id": "040a87d1",
   "metadata": {},
   "source": [
    "### Bài 4\n",
    "\n",
    "Nhập vào một chuỗi, hãy tách toàn bộ số trong chuỗi và tính tổng của chuỗi đó (chuỗi chỉ có số nguyên dương)"
   ]
  },
  {
   "cell_type": "code",
   "execution_count": null,
   "id": "ce5aa114",
   "metadata": {},
   "outputs": [],
   "source": []
  },
  {
   "attachments": {
    "image-2.png": {
     "image/png": "[encoded data removed]"
    }
   },
   "cell_type": "markdown",
   "id": "a53fd2b8",
   "metadata": {},
   "source": [
    "### Bài 5\n",
    "\n",
    "Nhập vào chuỗi không giới hạn được tạo bởi 3 keywords: tròn, vuông, tam giác (mỗi một keyworks cách nhau một dấu phẩy)\n",
    "\n",
    "Nhập vào a (nhập a từ 50 - 100)\n",
    "\n",
    "Hãy vẽ các hình đã nhập dựa theo kích thước a (đối với tam giác (tam giác đều) và vuông là cạnh, đối với hình tròn là đường kính)\n",
    "\n",
    "Cho kích cỡ màn hình là (1000,a+50), canh chỉnh sao cho hình được vẽ bắt đầu từ trên xuống, mỗi hình cách nhau 20 đơn vị\n",
    "\n",
    "VD:\n",
    "\n",
    "Mời nhập chuỗi:tròn,vuông,tam giác,tròn,vuông\n",
    "\n",
    "Mời nhập a:50\n",
    "\n",
    "Vẽ:\n",
    "\n",
    "![image-2.png](attachment:image-2.png)"
   ]
  },
  {
   "cell_type": "code",
   "execution_count": null,
   "id": "01e21840",
   "metadata": {},
   "outputs": [],
   "source": []
  },
  {
   "cell_type": "markdown",
   "id": "2171e7dc",
   "metadata": {},
   "source": [
    "### Bài 6\n",
    "\n",
    "Cần có tổng 200.000đ từ 3 loại giấy bạc 1000đ, 2000đ, và 5000đ. Lập \n",
    "chương tình để tìm tất cả các phương án có thể."
   ]
  },
  {
   "cell_type": "code",
   "execution_count": null,
   "id": "a81d94b3",
   "metadata": {},
   "outputs": [],
   "source": []
  },
  {
   "cell_type": "markdown",
   "id": "b120507c",
   "metadata": {},
   "source": [
    "### **** Câu 3 đề thi học sinh giỏi thành phố Hà Nội lớp 9 năm 2008 ****\n",
    "\n",
    "Trong trò chơi đổi số, một cặp số nguyên dương (x, y) có thể đổi lấy một cặp số mới trong có cặp số (x + y, y), (y, x) hoặc (x-y, y) nếu x-y cũng là số nguyên dương.\n",
    "\n",
    "Cho trước 4 số nguyên dương a, b, c và d. Người chơi cần tìm cách đổi từ cặp số (a, b)\n",
    "thành cặp số (c, d).\n",
    "\n",
    "<b>Nhập từ bàn phím:</b> 4 số nguyên dương a, b, c và d không vượt qua 1000.\n",
    "\n",
    "<b>Xuất ra màn hình:</b> số k là số lượng số lần đổi số ít nhất từ cặp số (a, b) nhận được cặp số (c, d). Nếu không tìm được cách đổi số thì xuất K = -1.\n",
    "\n",
    "Ví dụ: Với a= 14, b = 35, c= 28 và d = 21 thi K = 7. \n",
    "\n",
    "Quá trình đổi số có thể thực hiện như sau:\n",
    "\n",
    "Từ cặp số (14,35) ta lần lượt đổi thành các cặp sô (35, 14), (21, 14), (7, 14), (14, 7), (21,7), (7,21) và cuối cùng nhân được cặp số (28,21)."
   ]
  },
  {
   "cell_type": "code",
   "execution_count": null,
   "id": "8071e75b",
   "metadata": {},
   "outputs": [],
   "source": []
  }
 ],
 "metadata": {
  "kernelspec": {
   "display_name": "Python 3 (ipykernel)",
   "language": "python",
   "name": "python3"
  },
  "language_info": {
   "codemirror_mode": {
    "name": "ipython",
    "version": 3
   },
   "file_extension": ".py",
   "mimetype": "text/x-python",
   "name": "python",
   "nbconvert_exporter": "python",
   "pygments_lexer": "ipython3",
   "version": "3.10.1"
  }
 },
 "nbformat": 4,
 "nbformat_minor": 5
}
