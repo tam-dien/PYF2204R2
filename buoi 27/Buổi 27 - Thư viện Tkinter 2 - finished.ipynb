{
 "cells": [
  {
   "attachments": {
    "image-2.png": {
     "image/png": "[encoded data removed]"
    }
   },
   "cell_type": "markdown",
   "id": "5881260a",
   "metadata": {},
   "source": [
    "# Ứng dụng thư viện Tkinter\n",
    "\n",
    "Sử dụng thư viện Tkinter để thiết kế và lập trình cho phần mềm calculator như sau (có thể cải tiến thêm nếu muốn):\n",
    "\n",
    "![image-2.png](attachment:image-2.png)"
   ]
  },
  {
   "cell_type": "markdown",
   "id": "941040cd",
   "metadata": {},
   "source": [
    "<b> Thiết kế giao diện </b>"
   ]
  },
  {
   "cell_type": "code",
   "execution_count": 4,
   "id": "7d24275d",
   "metadata": {},
   "outputs": [],
   "source": [
    "from tkinter.ttk import *\n",
    "from tkinter import *\n",
    "\n",
    "sc = Tk()\n",
    "#sc.geometry(\"600x600\")\n",
    "sc.title(\"Calulator\")\n",
    "sc.config(bg = 'black')\n",
    "\n",
    "height = 2\n",
    "width = 10\n",
    "relief = \"ridge\"\n",
    "font = (\"Arial\",14,'bold')\n",
    "bg = 'gray'\n",
    "fg = 'yellow'\n",
    "\n",
    "et=Entry(sc, text=\"\",font = (\"Arial\",25)).grid(column=0, row=0, sticky = \"WE\",columnspan = 4)\n",
    "\n",
    "\n",
    "bt1 = Button(sc, text=\"MR\", height=height, width=width,relief = relief,font = font,bg = bg,fg = fg).grid(column=0, row=1)\n",
    "bt2 = Button(sc, text=\"DEL\", height=height, width=width,relief = relief,font = font,bg = bg,fg = fg).grid(column=1, row=1)\n",
    "bt3 = Button(sc, text=\"(\", height=height, width=width,relief = relief,font = font,bg = bg,fg = fg).grid(column=2, row=1)\n",
    "bt4 = Button(sc, text=\")\", height=height, width=width,relief = relief,font = font,bg = bg,fg = fg).grid(column=3, row=1)\n",
    "\n",
    "bt5 = Button(sc, text=\"1\", height=height, width=width,relief = relief,font = font,bg = bg,fg = fg).grid(column=0, row=2)\n",
    "bt6 = Button(sc, text=\"2\", height=height, width=width,relief = relief,font = font,bg = bg,fg = fg).grid(column=1, row=2)\n",
    "bt7 = Button(sc, text=\"3\", height=height, width=width,relief = relief,font = font,bg = bg,fg = fg).grid(column=2, row=2)\n",
    "bt8 = Button(sc, text=\"+\", height=height, width=width,relief = relief,font = font,bg = bg,fg = fg).grid(column=3, row=2)\n",
    "\n",
    "bt9 = Button(sc, text=\"4\", height=height, width=width,relief = relief,font = font,bg = bg,fg = fg).grid(column=0, row=3)\n",
    "bt10 = Button(sc, text=\"5\", height=height, width=width,relief = relief,font = font,bg = bg,fg = fg).grid(column=1, row=3)\n",
    "bt11 = Button(sc, text=\"6\", height=height, width=width,relief = relief,font = font,bg = bg,fg = fg).grid(column=2, row=3)\n",
    "bt12 = Button(sc, text=\"-\", height=height, width=width,relief = relief,font = font,bg = bg,fg = fg).grid(column=3, row=3)\n",
    "\n",
    "bt13 = Button(sc, text=\"7\", height=height, width=width,relief = relief,font = font,bg = bg,fg = fg).grid(column=0, row=4)\n",
    "bt14 = Button(sc, text=\"8\", height=height, width=width,relief = relief,font = font,bg = bg,fg = fg).grid(column=1, row=4)\n",
    "bt15 = Button(sc, text=\"9\", height=height, width=width,relief = relief,font = font,bg = bg,fg = fg).grid(column=2, row=4)\n",
    "bt16 = Button(sc, text=\"*\", height=height, width=width,relief = relief,font = font,bg = bg,fg = fg).grid(column=3, row=4)\n",
    "\n",
    "bt17 = Button(sc, text=\".\", height=height, width=width,relief = relief,font = font,bg = bg,fg = fg).grid(column=0, row=5)\n",
    "bt18 = Button(sc, text=\"0\", height=height, width=width,relief = relief,font = font,bg = bg,fg = fg).grid(column=1, row=5)\n",
    "bt19 = Button(sc, text=\"=\", height=height, width=width,relief = relief,font = font,bg = bg,fg = fg).grid(column=2, row=5)\n",
    "bt20 = Button(sc, text=\"/\", height=height, width=width,relief = relief,font = font,bg = bg,fg = fg).grid(column=3, row=5)\n",
    "\n",
    "sc.mainloop()"
   ]
  },
  {
   "cell_type": "markdown",
   "id": "d5aa563f",
   "metadata": {},
   "source": [
    "<b> Lập trình hoạt động </b>"
   ]
  },
  {
   "cell_type": "code",
   "execution_count": null,
   "id": "3f688c39",
   "metadata": {},
   "outputs": [],
   "source": []
  },
  {
   "cell_type": "code",
   "execution_count": 11,
   "id": "96869074",
   "metadata": {},
   "outputs": [
    {
     "name": "stdout",
     "output_type": "stream",
     "text": [
      "day la dong so 1\n",
      "day la dong so 2\n",
      "day la dong so 3\n"
     ]
    }
   ],
   "source": [
    "#### Cách xử lý file (đọc, ghi)\n",
    "## đọc file\n",
    "f = open(\"demo.txt\",\"r\") ## file phải cùng thư mục với file lập trình\n",
    "### r là read ~~> đọc file\n",
    "\n",
    "data1 = f.readline() ## lệnh readline sẽ đọc 1 dòng trong file trả về một chuỗi\n",
    "data2 = f.readline() ## lệnh readline sẽ đọc 1 dòng trong file\n",
    "data3 = f.readline()\n",
    "data4 = f.readline()\n",
    "data5 = f.readline()\n",
    "\n",
    "print(data1,end = \"\")\n",
    "print(data2,end = \"\")\n",
    "print(data3,end = \"\")\n",
    "print(data4,end = \"\")\n",
    "print(data5,end = \"\")"
   ]
  },
  {
   "cell_type": "code",
   "execution_count": 14,
   "id": "664627fd",
   "metadata": {},
   "outputs": [
    {
     "name": "stdout",
     "output_type": "stream",
     "text": [
      "['day la dong so 1', 'day la dong so 2', 'day la dong so 3']\n"
     ]
    }
   ],
   "source": [
    "f = open(\"demo.txt\",\"r\")\n",
    "\n",
    "L_data = f.readlines() ## lệnh này đọc hết toàn bộ file, trả về một list\n",
    "## mỗi một phần tử trong list là một chuỗi tương ứng với 1 dòng\n",
    "\n",
    "for i in range(len(L_data)):\n",
    "    L_data[i] = L_data[i].strip()\n",
    "\n",
    "print(L_data)"
   ]
  },
  {
   "cell_type": "code",
   "execution_count": 15,
   "id": "79b70775",
   "metadata": {},
   "outputs": [
    {
     "name": "stdout",
     "output_type": "stream",
     "text": [
      "day la dong so 1\n",
      "day la dong so 2\n",
      "day la dong so 3\n",
      "\n"
     ]
    }
   ],
   "source": [
    "f = open(\"demo.txt\",\"r\")\n",
    "\n",
    "data = f.read() ## trả về một chứa toàn bộ nội dung file\n",
    "\n",
    "print(data)"
   ]
  },
  {
   "cell_type": "code",
   "execution_count": 19,
   "id": "259245b5",
   "metadata": {},
   "outputs": [],
   "source": [
    "## ghi file\n",
    "f = open(\"demo2.txt\",\"w\")\n",
    "### w là write ~~> ghi file\n",
    "### nếu ta mở file với mode w thì:\n",
    "##### Trong trường hợp file chưa tồn tại, chương trình sẽ tạo file mới\n",
    "##### Trong trường hợp file đã có rồi ~~> chương trình sẽ XÓA TOÀN BỘ NỘI DUNG TRONG FILE\n",
    "f.write(\"Hello cac ban\")\n",
    "\n",
    "f.close()"
   ]
  },
  {
   "cell_type": "code",
   "execution_count": 23,
   "id": "3df5e495",
   "metadata": {},
   "outputs": [],
   "source": [
    "## ghi file\n",
    "f = open(\"demo2.txt\",\"w\",encoding = 'utf8') ## nếu muốn ghi vào nội dung tiếng việt thì phải thêm tham số encoding = 'utf8'\n",
    "\n",
    "f.write(\"hello các bạn\\nhello mọi người\")\n",
    "\n",
    "f.close()"
   ]
  },
  {
   "cell_type": "code",
   "execution_count": 29,
   "id": "d8ee1d5e",
   "metadata": {},
   "outputs": [],
   "source": [
    "## thêm file (thêm nội dung vào file)\n",
    "f = open(\"demo3.txt\",\"a\",encoding = 'utf8')\n",
    "### a là append ~~> thêm file\n",
    "### nếu ta mở file với mode w thì:\n",
    "##### Trong trường hợp file chưa tồn tại, chương trình sẽ tạo file mới\n",
    "##### Trong trường hợp file đã có rồi ~~> chương trình sẽ ghi tiếp vào nội dung mới\n",
    "f.write(\"Đây là một dòng ghi thêm\\n\")\n",
    "\n",
    "f.close()"
   ]
  }
 ],
 "metadata": {
  "kernelspec": {
   "display_name": "Python 3 (ipykernel)",
   "language": "python",
   "name": "python3"
  },
  "language_info": {
   "codemirror_mode": {
    "name": "ipython",
    "version": 3
   },
   "file_extension": ".py",
   "mimetype": "text/x-python",
   "name": "python",
   "nbconvert_exporter": "python",
   "pygments_lexer": "ipython3",
   "version": "3.10.4"
  }
 },
 "nbformat": 4,
 "nbformat_minor": 5
}
