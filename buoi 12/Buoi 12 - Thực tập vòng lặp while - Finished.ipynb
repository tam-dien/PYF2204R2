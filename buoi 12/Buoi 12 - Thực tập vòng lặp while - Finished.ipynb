{
 "cells": [
  {
   "cell_type": "markdown",
   "id": "1f7be993",
   "metadata": {},
   "source": [
    "# Thực tập vòng lặp While\n",
    "\n",
    "### Bài 1\n",
    "\n",
    "Nhập vào số a, sử dụng lệnh while (không sử dụng break và for) để xác định xem số đó có phải là số nguyên tố hay không"
   ]
  },
  {
   "cell_type": "code",
   "execution_count": 2,
   "id": "8cb73965",
   "metadata": {},
   "outputs": [
    {
     "name": "stdout",
     "output_type": "stream",
     "text": [
      "Nhập số a = 9\n",
      "Đây không là số nguyên tố!\n"
     ]
    }
   ],
   "source": [
    "a = float(input(\"Nhập số a = \"))\n",
    "while a <= 0 or a % 1 != 0:\n",
    "    a = float(input(\"Nhập số a = \"))\n",
    "    \n",
    "i = 1\n",
    "dem = 0\n",
    "while i <= a:\n",
    "    if a % i == 0:\n",
    "        dem += 1\n",
    "    i += 1\n",
    "if (dem == 2):\n",
    "    print(\"Đây chính là số nguyên tố!\")\n",
    "else:\n",
    "    print(\"Đây không là số nguyên tố!\")"
   ]
  },
  {
   "cell_type": "code",
   "execution_count": 4,
   "id": "f47d9779",
   "metadata": {},
   "outputs": [
    {
     "name": "stdout",
     "output_type": "stream",
     "text": [
      "Nhập số a = 7\n",
      "Đây chính là số nguyến tố!\n"
     ]
    }
   ],
   "source": [
    "a = float(input(\"Nhập số a = \"))\n",
    "while a <= 0 or a % 1 != 0:\n",
    "    a = float(input(\"Nhập số a = \"))\n",
    "\n",
    "### Chỉ cần số có ước trong khoảng từ 2 đến a - 1 thì đó chính là số nguyên tố\n",
    "\n",
    "i = 2\n",
    "co = True\n",
    "while i < a and co: ## cờ bằng true thì while mới chạy, cờ bằng false thì while không chạy nữa\n",
    "    if a % i == 0:\n",
    "        co = False ## cho cờ bằng false để ngưng dòng while\n",
    "    i += 1\n",
    "if co: ## Nếu cờ bằng true thì đây là số nguyên tố\n",
    "    print(\"Đây chính là số nguyến tố!\")\n",
    "else:\n",
    "    print(\"Đây không là số nguyên tố!\")"
   ]
  },
  {
   "cell_type": "markdown",
   "id": "9f2357ca",
   "metadata": {},
   "source": [
    "### Bài 2\n",
    "\n",
    "Hãy sử dụng lệnh while lập trình cho bài đoán số ở buổi thứ 9"
   ]
  },
  {
   "cell_type": "code",
   "execution_count": null,
   "id": "db79cb9d",
   "metadata": {},
   "outputs": [],
   "source": []
  },
  {
   "cell_type": "markdown",
   "id": "58f5b789",
   "metadata": {},
   "source": [
    "### Bài 3\n",
    "\n",
    "Nhập vào số a, hãy đếm a có bao nhiêu chữ số chẵn, bao nhiêu cữ số lẻ\n",
    "\n",
    "#### Cách 1 (dùng chuỗi):"
   ]
  },
  {
   "cell_type": "code",
   "execution_count": 6,
   "id": "e7f9da21",
   "metadata": {},
   "outputs": [
    {
     "name": "stdout",
     "output_type": "stream",
     "text": [
      "nhập a: 56489\n",
      "a có 3 số chẵn!\n",
      "a có 2 số lẻ!\n"
     ]
    }
   ],
   "source": [
    "a = float(input('nhập a: '))\n",
    "while(a < 0 or a%1 !=0):\n",
    "    a = float(input('nhập lại a: '))\n",
    "    \n",
    "a = str(int(a)) ## Chuyển nhanh a từ số thực ~~> số nguyên ~~> chuỗi\n",
    "\n",
    "i = 0\n",
    "dem_chan = 0\n",
    "dem_le = 0\n",
    "while i < len(a):\n",
    "    if int(a[i]) % 2 == 0:\n",
    "        dem_chan += 1\n",
    "    else:\n",
    "        dem_le += 1\n",
    "    i += 1\n",
    "print(\"a có\",dem_chan,\"số chẵn!\")\n",
    "print(\"a có\",dem_le,\"số lẻ!\")"
   ]
  },
  {
   "cell_type": "markdown",
   "id": "9a3d9703",
   "metadata": {},
   "source": [
    "#### Cách 2 (không dùng chuỗi):"
   ]
  },
  {
   "cell_type": "code",
   "execution_count": 7,
   "id": "d4e474c8",
   "metadata": {},
   "outputs": [
    {
     "name": "stdout",
     "output_type": "stream",
     "text": [
      "nhập a: 56489\n",
      "a có 3 số chẵn!\n",
      "a có 2 số lẻ!\n"
     ]
    }
   ],
   "source": [
    "a = float(input('nhập a: '))\n",
    "while(a < 0 or a%1 !=0):\n",
    "    a = float(input('nhập lại a: '))\n",
    "    \n",
    "dem_chan = 0\n",
    "dem_le = 0\n",
    "while a > 0:\n",
    "    b = a % 10\n",
    "    a = a // 10\n",
    "    if b % 2 == 0:\n",
    "        dem_chan += 1\n",
    "    else:\n",
    "        dem_le += 1\n",
    "print(\"a có\",dem_chan,\"số chẵn!\")\n",
    "print(\"a có\",dem_le,\"số lẻ!\")"
   ]
  },
  {
   "cell_type": "markdown",
   "id": "69539ece",
   "metadata": {},
   "source": [
    "### Bài 4\n",
    "\n",
    "Nhập vào số a, hãy tính tổng các chữ số nguyên tố của a"
   ]
  },
  {
   "cell_type": "code",
   "execution_count": 11,
   "id": "f001bd9a",
   "metadata": {},
   "outputs": [
    {
     "name": "stdout",
     "output_type": "stream",
     "text": [
      "nhập a: 546897\n",
      "12.0\n"
     ]
    }
   ],
   "source": [
    "a = float(input('nhập a: '))\n",
    "while(a < 0 or a%1 !=0):\n",
    "    a = float(input('nhập lại a: '))\n",
    "    \n",
    "tong = 0\n",
    "while a > 0:\n",
    "    b = a % 10\n",
    "    a = a // 10 \n",
    "    ### Những số có 1 chữ số là số nguyên tố: 2, 3, 5, 7\n",
    "    if b == 2 or b == 3 or b == 5 or b == 7:\n",
    "        tong += b\n",
    "print(tong)"
   ]
  },
  {
   "cell_type": "markdown",
   "id": "0a5075a4",
   "metadata": {},
   "source": [
    "### Bài 5\n",
    "\n",
    "Số armstrong là số có tổng của các chữ số mũ số lượng chữ số bằng chính nó\n",
    "\n",
    "Ví dụ\n",
    "\n",
    "Số 371 là một số armstrong vì:\n",
    "\n",
    "371 = 3^3 + 7^3 + 1^3 (3 là số lượng chữ số của 371)\n",
    "\n",
    "Số 1634 là một số armstrong vì:\n",
    "\n",
    "1634 = 1^4 + 6^4 + 3^4 + 4^4 (4 là số lượng chữ số của 1634)\n",
    "\n",
    "Nhập vào số a, kiểm tra xem a có phải là số armstrong không"
   ]
  },
  {
   "cell_type": "code",
   "execution_count": 16,
   "id": "b9ed54a5",
   "metadata": {},
   "outputs": [
    {
     "name": "stdout",
     "output_type": "stream",
     "text": [
      "nhập a: 246\n",
      "Đây không là số Armstrong!\n"
     ]
    }
   ],
   "source": [
    "a = float(input('nhập a: '))\n",
    "while(a < 0 or a%1 !=0):\n",
    "    a = float(input('nhập lại a: '))\n",
    "\n",
    "b = a ## cho a vào b để giữ giá trị biến a\n",
    "dem = 0\n",
    "while a > 0:\n",
    "    a = a//10\n",
    "    dem += 1\n",
    "\n",
    "a = b ## cho b vào a để lưu trữ giá trị biến b (tức giá trị biến a cũ)\n",
    "tong = 0\n",
    "while b > 0:\n",
    "    c = b % 10\n",
    "    b = b // 10\n",
    "    tong += c**dem ## dem là số lượng chữ số của a (tính được từ đoạn code ở dòng số 6 đến dòng số 9)\n",
    "\n",
    "if tong == a:\n",
    "    print(\"Đây là số Armstrong!\")\n",
    "else:\n",
    "    print(\"Đây không là số Armstrong!\")"
   ]
  },
  {
   "cell_type": "markdown",
   "id": "f8a584d3",
   "metadata": {},
   "source": [
    "### Bài 6\n",
    "\n",
    "Dãy số fibonacci là dãy số được định nghĩa như sau: 1, 1, 2, 3, 5, 8, 13,... với số kế tiếp sẽ bằng tổng hai số trước đó\n",
    "\n",
    "Nhập vào A, hãy tìm số trong dãy số fibonacci lớn nhất nhưng không vượt quá A"
   ]
  },
  {
   "cell_type": "code",
   "execution_count": null,
   "id": "3ad4d85b",
   "metadata": {},
   "outputs": [],
   "source": [
    "a = float(input('nhập a: '))\n",
    "while(a < 0 or a%1 !=0):\n",
    "    a = float(input('nhập lại a: '))\n",
    "\n",
    "a = b = 1 ## cho a = 1 và b = 1\n",
    "c = a + b\n",
    "###############\n",
    "a = b ## a sẽ thành 1\n",
    "b = c ## b sẽ thành 2\n",
    "c = a + b ## c sẽ thành 3\n",
    "###############\n",
    "a = b ## a sẽ thành 2\n",
    "b = c ## b sẽ thành 3\n",
    "c = a + b ## c sẽ thành 5\n",
    "###############\n",
    "a = b ## a sẽ thành 3\n",
    "b = c ## b sẽ thành 5\n",
    "c = a + b ## c sẽ thành 8\n",
    "##### mỗi một lần thực hiện 3 lệnh trên thì c sẽ là một số fibonacci mới"
   ]
  },
  {
   "cell_type": "code",
   "execution_count": 2,
   "id": "866dcbba",
   "metadata": {},
   "outputs": [
    {
     "name": "stdout",
     "output_type": "stream",
     "text": [
      "Nhập a: 9\n",
      "Số fibonacci cần tìm là: 8\n"
     ]
    }
   ],
   "source": [
    "A = float(input('Nhập a: '))\n",
    "while(a < 0 or a%1 !=0):\n",
    "    A = float(input('Nhập lại a: '))\n",
    "\n",
    "a = b = 1\n",
    "c = a + b\n",
    "while True:\n",
    "    a = b\n",
    "    b = c\n",
    "    c = a + b\n",
    "    if c > A:\n",
    "        break\n",
    "print(\"Số fibonacci cần tìm là:\",b)"
   ]
  },
  {
   "cell_type": "markdown",
   "id": "9fa794f2",
   "metadata": {},
   "source": [
    "### Bài 7\n",
    "\n",
    "Nhập vào A, tìm n nhỏ nhất sao cho\n",
    "\n",
    "1 + 1/2 + 1/3 + 1/4 + ... + 1/n > A"
   ]
  },
  {
   "cell_type": "code",
   "execution_count": 7,
   "id": "246ec002",
   "metadata": {},
   "outputs": [
    {
     "name": "stdout",
     "output_type": "stream",
     "text": [
      "Nhập a: 1.5\n",
      "n cần tìm là: 3\n"
     ]
    }
   ],
   "source": [
    "A = float(input('Nhập a: '))\n",
    "while(a < 0 or a%1 !=0):\n",
    "    A = float(input('Nhập lại a: '))\n",
    "    \n",
    "n = 1\n",
    "S = 0\n",
    "while True:\n",
    "    S += 1/n\n",
    "    if S > A:\n",
    "        break\n",
    "    n += 1\n",
    "\n",
    "print(\"n cần tìm là:\",n)"
   ]
  },
  {
   "cell_type": "markdown",
   "id": "c5fd4d8a",
   "metadata": {},
   "source": [
    "### Bài 8\n",
    "\n",
    "Nhập vào a và b là số nguyên dương (b có một chữ số, nhập sai yêu cầu nhập lại), hãy tìm vị trí đầu tiên (bắt đầu từ bên trái) của b trong a, nếu không tìm thấy thì in kết quả là 0 (ví trí đầu bắt đầu từ 1)\n",
    "\n",
    "<b>Ví dụ:</b>\n",
    "\n",
    "<b>Nhập:</b>\n",
    "- a = 125785\n",
    "- b = 5\n",
    "\n",
    "<b>Kết quả:</b> 3 (do số 5 nằm ở vị trí 3)"
   ]
  },
  {
   "cell_type": "code",
   "execution_count": 13,
   "id": "9edf35ac",
   "metadata": {},
   "outputs": [
    {
     "name": "stdout",
     "output_type": "stream",
     "text": [
      "Nhập số a = 1235468\n",
      "Nhập số b = 9\n",
      "0\n"
     ]
    }
   ],
   "source": [
    "a = float(input(\"Nhập số a = \"))\n",
    "while a <= 0 or a % 1 != 0:\n",
    "    a = float(input(\"Nhập số a = \"))\n",
    "b = float(input(\"Nhập số b = \"))\n",
    "while b <= 0 or b % 1 != 0 or b >= 10:\n",
    "    b = float(input(\"Nhập số b = \"))\n",
    "\n",
    "a = str(int(a))\n",
    "b = str(int(b))\n",
    "\n",
    "ketqua = a.find(b)\n",
    "print(ketqua + 1)"
   ]
  }
 ],
 "metadata": {
  "kernelspec": {
   "display_name": "Python 3 (ipykernel)",
   "language": "python",
   "name": "python3"
  },
  "language_info": {
   "codemirror_mode": {
    "name": "ipython",
    "version": 3
   },
   "file_extension": ".py",
   "mimetype": "text/x-python",
   "name": "python",
   "nbconvert_exporter": "python",
   "pygments_lexer": "ipython3",
   "version": "3.10.4"
  }
 },
 "nbformat": 4,
 "nbformat_minor": 5
}
