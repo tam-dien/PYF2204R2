{
 "cells": [
  {
   "cell_type": "markdown",
   "id": "028ffec3",
   "metadata": {},
   "source": [
    "# Thực hành hàm\n",
    "\n",
    "### Bài 1\n",
    "\n",
    "Viết hàm có dữ liệu đầu vào là 2 số a và b, số nào lớn hơn thì in bảng cửu chương của số đó"
   ]
  },
  {
   "cell_type": "code",
   "execution_count": 2,
   "id": "1974966b",
   "metadata": {},
   "outputs": [
    {
     "name": "stdout",
     "output_type": "stream",
     "text": [
      "7 x 1 = 7\n",
      "7 x 2 = 14\n",
      "7 x 3 = 21\n",
      "7 x 4 = 28\n",
      "7 x 5 = 35\n",
      "7 x 6 = 42\n",
      "7 x 7 = 49\n",
      "7 x 8 = 56\n",
      "7 x 9 = 63\n",
      "7 x 10 = 70\n"
     ]
    }
   ],
   "source": [
    "def cuuchuongmax(a,b):\n",
    "    if a > b:\n",
    "        for i in range(1,11): # i chạy từ 1 đến 10\n",
    "            print(a,\"x\",i,\"=\",a*i)\n",
    "    else:\n",
    "        for i in range(1,11): # i chạy từ 1 đến 10\n",
    "            print(b,\"x\",i,\"=\",b*i)\n",
    "            \n",
    "cuuchuongmax(7,5)"
   ]
  },
  {
   "cell_type": "markdown",
   "id": "9de8ffaa",
   "metadata": {},
   "source": [
    "### Bài 2\n",
    "\n",
    "Viết hàm `xoachuoi` có dữ liệu đầu vào là 2 chuỗi a và b, hãy tìm trong chuỗi a có chuỗi b hay không, nếu có hãy xóa toán bộ chuỗi b trong a.\n",
    "\n",
    "Sau đó trả về chuỗi a mới\n",
    "\n",
    "Ví dụ:\n",
    "\n",
    "chuoi1 = \"xin chào các bạn, các bạn có khỏe không?\"\n",
    "\n",
    "chuoi2 = \"các bạn\"\n",
    "\n",
    "chuoi3 = xoachuoi(chuoi1,chuoi2)\n",
    "\n",
    "print(chuoi3)\n",
    "\n",
    "Kết quả in ra là:\n",
    "xin chào ,  có khỏe không"
   ]
  },
  {
   "cell_type": "code",
   "execution_count": 8,
   "id": "05de1584",
   "metadata": {},
   "outputs": [
    {
     "data": {
      "text/plain": [
       "'xin chào , có khoẻ không'"
      ]
     },
     "execution_count": 8,
     "metadata": {},
     "output_type": "execute_result"
    }
   ],
   "source": [
    "def xoachuoi(a,b):\n",
    "    c = \"\"\n",
    "    k = 0\n",
    "    d = len(b)\n",
    "#     for i in range(len(a)):\n",
    "#         if a[i:i+d] == b:\n",
    "#             k = k + d\n",
    "#         if i < k:\n",
    "#             continue\n",
    "#         c += a[i]\n",
    "#         k += 1\n",
    "    i = 0\n",
    "    while i < len(a):\n",
    "        if a[i:i+d] == b:\n",
    "            i += d\n",
    "            continue\n",
    "        c += a[i]\n",
    "        i += 1\n",
    "    return c\n",
    "xoachuoi(\"xin chào các bạn,các bạn có khoẻ không\",\"các bạn\")\n"
   ]
  },
  {
   "cell_type": "code",
   "execution_count": 10,
   "id": "b951b847",
   "metadata": {},
   "outputs": [
    {
     "name": "stdout",
     "output_type": "stream",
     "text": [
      "xin chào , có khoẻ không\n"
     ]
    }
   ],
   "source": [
    "def xoachuoi(a,b):\n",
    "    return a.replace(b,\"\")\n",
    "\n",
    "print(xoachuoi(\"xin chào các bạn,các bạn có khoẻ không\",\"các bạn\"))"
   ]
  },
  {
   "cell_type": "markdown",
   "id": "d626394e",
   "metadata": {},
   "source": [
    "### Bài 3\n",
    "\n",
    "Viết hàm `kiemtramatkhau` với dữ liệu đầu vào là 1 chuỗi có công dụng như sau:\n",
    "\n",
    "Kiểm tra xem chuỗi đầu vào có phải là mật khẩu mạnh hay không, nếu có trả về True, nếu không trả về False\n",
    "\n",
    "Mật khẩu mạnh là mật khẩu phải có ít nhất 1 chữ hoa, 1 chữ thường, 1 số và 1 ký tự đặc biệt"
   ]
  },
  {
   "cell_type": "code",
   "execution_count": null,
   "id": "875d88f5",
   "metadata": {},
   "outputs": [],
   "source": [
    "def kiemtramatkhau(matkhau): ## tham số\n",
    "    upper=False\n",
    "    lower=False\n",
    "    number=False\n",
    "    special=False\n",
    "    for i in a: ## i là từng ký tự trong a\n",
    "        if i.isupper():\n",
    "            upper = True\n",
    "        elif i.islower():\n",
    "            lower = True\n",
    "        elif i.isnumeric():\n",
    "            number = True\n",
    "        else:\n",
    "            special = True\n",
    "    return upper and lower and number and special ## chỉ cần 1 cái là False thì kết quả trả về False\n",
    "    ## kết quả trả về true khi tất cả là true"
   ]
  },
  {
   "cell_type": "markdown",
   "id": "1572568f",
   "metadata": {},
   "source": [
    "### Bài 4\n",
    "\n",
    "Viết hàm có 5 dữ liệu đầu vào là 5 số nguyên, tìm giá trị lớn nhì trong 5 số đó"
   ]
  },
  {
   "cell_type": "code",
   "execution_count": 11,
   "id": "876707ae",
   "metadata": {},
   "outputs": [
    {
     "name": "stdout",
     "output_type": "stream",
     "text": [
      "số lớn nhì 5\n"
     ]
    }
   ],
   "source": [
    "def timsolonnhi(a,b,c,d,e):\n",
    "    m = max(a,b,c,d,e)\n",
    "    m2 = a\n",
    "    for i in [a,b,c,d,e]:\n",
    "        if i != m and i>=m2:\n",
    "            m2 = i\n",
    "    return(m2)\n",
    "x = timsolonnhi(1,5,8,8,5)\n",
    "print('số lớn nhì', x)"
   ]
  },
  {
   "cell_type": "code",
   "execution_count": 15,
   "id": "abfcdb1c",
   "metadata": {},
   "outputs": [
    {
     "name": "stdout",
     "output_type": "stream",
     "text": [
      "13 1\n",
      "13 5\n",
      "13 7\n",
      "13 9\n",
      "9\n"
     ]
    }
   ],
   "source": [
    "def thunhi(a,b,c,d,e):\n",
    "    nhat = a\n",
    "    nhi = b\n",
    "    if b > a:\n",
    "        nhat = b\n",
    "        nhi = a\n",
    "    if c > nhat:\n",
    "        nhi = nhat\n",
    "        nhat = c\n",
    "    elif c > nhi:\n",
    "        nhi = c\n",
    "    if d > nhat:\n",
    "        nhi = nhat\n",
    "        nhat = d\n",
    "    elif d > nhi:\n",
    "        nhi = d\n",
    "    if e > nhat:\n",
    "        nhi = nhat\n",
    "        nhat = e\n",
    "    elif e > nhi:\n",
    "        nhi = e\n",
    "    return nhi\n",
    "\n",
    "print(thunhi(1,13,5,7,9))"
   ]
  },
  {
   "cell_type": "code",
   "execution_count": 16,
   "id": "7e895a5e",
   "metadata": {},
   "outputs": [
    {
     "name": "stdout",
     "output_type": "stream",
     "text": [
      "9\n"
     ]
    }
   ],
   "source": [
    "def thunhi(a,b,c,d,e):\n",
    "    ## tìm số lớn nhất\n",
    "    ## đưa số lớn nhất lên a\n",
    "    if a < b:\n",
    "        a, b = b, a ## hoán đổi giá trị, cách viết này chỉ có trong python\n",
    "    if a < c:\n",
    "        a, c = c, a\n",
    "    if a < d:\n",
    "        a, d = d, a\n",
    "    if a < e:\n",
    "        a, e = e, a\n",
    "    ## bằng 4 lệnh if sẽ đưa số lớn nhất lên a\n",
    "    m = b\n",
    "    if m < c:\n",
    "        m = c\n",
    "    if m < d:\n",
    "        m = d\n",
    "    if m < e:\n",
    "        m = e\n",
    "    return m\n",
    "\n",
    "print(thunhi(10,5,7,8,9))"
   ]
  },
  {
   "cell_type": "markdown",
   "id": "974d7da1",
   "metadata": {},
   "source": [
    "### Bài 5\n",
    "\n",
    "Nhập vào 2 cặp tọa độ tâm đường tròn và 2 bán kính R\n",
    "\n",
    "Hãy vẽ 2 hình tròn theo tọa độ và bán kính trên (tọa độ thứ nhất và bán kính thứ nhất là hình tròn thứ nhất, tọa độ thứ 2 với bán kính thứ 2 là hình tròn thứ hai)\n",
    "\n",
    "Viết hàm kiểm tra xem 2 hình tròn trên cắt nhau bao nhiêu điểm"
   ]
  },
  {
   "cell_type": "code",
   "execution_count": null,
   "id": "f7722021",
   "metadata": {},
   "outputs": [],
   "source": []
  },
  {
   "cell_type": "markdown",
   "id": "a2157de8",
   "metadata": {},
   "source": [
    "### Bài 6\n",
    "\n",
    "Nhập vào 2 tọa độ là 2 đỉnh của một hình chữ nhật\n",
    "\n",
    "Sau đó\n",
    "\n",
    "Nhập vào tọa độ tâm đường tròn và bán kính R\n",
    "\n",
    "Hãy vẽ hình hình chữ nhật và đường tròn trên\n",
    "\n",
    "Viết hàm kiểm tra xem đường tròn trên và hình chữ nhật cắt nhau tại bao nhiêu điểm"
   ]
  },
  {
   "cell_type": "code",
   "execution_count": null,
   "id": "e0d7b1a2",
   "metadata": {},
   "outputs": [],
   "source": []
  },
  {
   "cell_type": "markdown",
   "id": "d1491579",
   "metadata": {},
   "source": [
    "### Bài 7\n",
    "\n",
    "Viết hàm kiểm tra số nguyên tố\n",
    "\n",
    "Viết hàm kiểm tra số hoàn hảo\n",
    "\n",
    "Viết hàm kiểm tra số chính phương\n",
    "\n",
    "Viết hàm kiểm tra số Armstrong\n",
    "\n",
    "Nhập vào một chuỗi, hãy lọc và tìm ra những số ở trong chuỗi (2 chữ số liền nhau là một số)\n",
    "\n",
    "Ví dụ chuỗi: \"AB25SDc5DSjjh52\"\n",
    "\n",
    "Trong chuỗi này ta có 3 số: 25, 5 và 52\n",
    "\n",
    "Sau khi lọc số, dùng các hàm trên để kiểm tra và thực hiện như sau:\n",
    "\n",
    "Cho biến S\n",
    "\n",
    "- Nếu số đó là số nguyên tố, ta thực hiện S += số đó\n",
    "- Nếu số đó là số hoàn hảo, ta thực hiện S -= số đó\n",
    "- Nếu số đó là số chính phương, ta thực hiện S /= số đó\n",
    "- Nếu đó là số Armstrong ta cho S = 0\n",
    "\n",
    "Hãy tính và in S"
   ]
  },
  {
   "cell_type": "code",
   "execution_count": 11,
   "id": "0b699e33",
   "metadata": {},
   "outputs": [
    {
     "name": "stdout",
     "output_type": "stream",
     "text": [
      "Nhập vào chuỗi:AB25SDc5DSjjh52\n",
      "5.0\n"
     ]
    }
   ],
   "source": [
    "## Tất cả các hàm kiểm tra đều có 1 tham số đầu vào là số nguyên và trả về True/False\n",
    "def songuyento(a):\n",
    "    if a < 2:\n",
    "        return False ## (return số 1)\n",
    "    for i in range(2,a): ## i chạy từ 2 đến a - 1\n",
    "        if a % i == 0: ## nếu trong khoảng này mà có 1 số mà a chia hết thì ta ngưng luôn dòng for\n",
    "            return False ## bằng cách return False (khi thực hiện lệnh return, sẽ thoát hàm ngay lập tức) (return số 2)\n",
    "    return True ## (return số 3)\n",
    "\n",
    "# print(songuyento(1)) ## hàm sẽ trả về bằng lệnh return số 1\n",
    "# print(songuyento(7)) ## hàm sẽ trả về bằng lệnh return số 3\n",
    "# print(songuyento(16)) ## hàm sẽ trả về bằng lệnh return số ?\n",
    "\n",
    "def sohoanhao(a):\n",
    "    ## số hoàn hảo là số mà tổng ước của nó (không bao gồm nó) bằng chính nó\n",
    "    tong = 0\n",
    "    for i in range(1,a): ## i chạy từ 1 đến a - 1\n",
    "        if a % i == 0:\n",
    "            tong += i\n",
    "    ## return tong == a ## có thể viết như vầy thay cho 3 dòng lệnh ở dòng 21 22 23\n",
    "    if tong == a:\n",
    "        return True ## nếu if đúng thì hàm sẽ return True ~~> thoát hàm ngay lập tức, return False ở dòng 23 sẽ không chạy\n",
    "    return False ## nếu if sai, không return True ~~> hàm sẽ return False\n",
    "\n",
    "# print(sohoanhao(6)) ## số 6 là số hoàn hảo vì có các ước là 1 + 2 + 3 = 6\n",
    "\n",
    "def sochinhphuong(a):\n",
    "    cana = a**0.5\n",
    "    return cana % 1 == 0\n",
    "\n",
    "# print(sochinhphuong(16))\n",
    "\n",
    "def Armstrong(a):\n",
    "    slchuso = len(str(a))\n",
    "    tong = 0\n",
    "    a0 = a\n",
    "    while a != 0:\n",
    "        tong += (a%10)**slchuso\n",
    "        a //= 10\n",
    "    return tong == a0\n",
    "\n",
    "# print(Armstrong(371))\n",
    "\n",
    "chuoi = input(\"Nhập vào chuỗi:\")\n",
    "chuoi += \"a\"\n",
    "luutru = \"\"\n",
    "S = 0\n",
    "\n",
    "for i in chuoi:\n",
    "    if i.isnumeric():\n",
    "        luutru += i\n",
    "    else:\n",
    "        if luutru != \"\":\n",
    "            luutru = int(luutru)\n",
    "            if songuyento(luutru):\n",
    "                S += luutru\n",
    "            elif sohoanhao(luutru):\n",
    "                S -= luutru\n",
    "            elif sochinhphuong(luutru):\n",
    "                S /= luutru\n",
    "            elif Armstrong(luutru):\n",
    "                S = 0\n",
    "            luutru = \"\"\n",
    "print(S)"
   ]
  }
 ],
 "metadata": {
  "kernelspec": {
   "display_name": "Python 3 (ipykernel)",
   "language": "python",
   "name": "python3"
  },
  "language_info": {
   "codemirror_mode": {
    "name": "ipython",
    "version": 3
   },
   "file_extension": ".py",
   "mimetype": "text/x-python",
   "name": "python",
   "nbconvert_exporter": "python",
   "pygments_lexer": "ipython3",
   "version": "3.10.4"
  }
 },
 "nbformat": 4,
 "nbformat_minor": 5
}
