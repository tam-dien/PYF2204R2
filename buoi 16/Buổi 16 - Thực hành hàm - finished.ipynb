{
 "cells": [
  {
   "cell_type": "markdown",
   "id": "028ffec3",
   "metadata": {},
   "source": [
    "# Thực hành hàm\n",
    "\n",
    "### Bài 1\n",
    "\n",
    "Viết hàm có dữ liệu đầu vào là 2 số a và b, số nào lớn hơn thì in bảng cửu chương của số đó"
   ]
  },
  {
   "cell_type": "code",
   "execution_count": 1,
   "id": "1974966b",
   "metadata": {},
   "outputs": [
    {
     "name": "stdout",
     "output_type": "stream",
     "text": [
      "Nhập a:7\n",
      "Nhập b:9\n",
      "9 x 1 = 9\n",
      "9 x 2 = 18\n",
      "9 x 3 = 27\n",
      "9 x 4 = 36\n",
      "9 x 5 = 45\n",
      "9 x 6 = 54\n",
      "9 x 7 = 63\n",
      "9 x 8 = 72\n",
      "9 x 9 = 81\n",
      "9 x 10 = 90\n"
     ]
    }
   ],
   "source": [
    "a = int(input(\"Nhập a:\"))\n",
    "b = int(input(\"Nhập b:\"))\n",
    "\n",
    "def incuuchuong(a,b):\n",
    "    if (a > b):\n",
    "        for i in range(1,11):\n",
    "            print(a,\"x\",i,\"=\",a*i)\n",
    "    else:\n",
    "        for i in range(1,11):\n",
    "            print(b,\"x\",i,\"=\",b*i)\n",
    "            \n",
    "incuuchuong(a,b)"
   ]
  },
  {
   "cell_type": "markdown",
   "id": "9de8ffaa",
   "metadata": {},
   "source": [
    "### Bài 2\n",
    "\n",
    "Viết hàm `xoachuoi` có dữ liệu đầu vào là 2 chuỗi a và b, hãy tìm trong chuỗi a có chuỗi b hay không, nếu có hãy xóa toán bộ chuỗi b trong a.\n",
    "\n",
    "Sau đó trả về chuỗi a mới\n",
    "\n",
    "Ví dụ:\n",
    "\n",
    "chuoi1 = \"xin chào các bạn, các bạn có khỏe không?\"\n",
    "\n",
    "chuoi2 = \"các bạn\"\n",
    "\n",
    "chuoi3 = xoachuoi(chuoi1,chuoi2)\n",
    "\n",
    "print(chuoi3)\n",
    "\n",
    "Kết quả in ra là:\n",
    "xin chào ,  có khỏe không"
   ]
  },
  {
   "cell_type": "code",
   "execution_count": 7,
   "id": "05de1584",
   "metadata": {},
   "outputs": [
    {
     "name": "stdout",
     "output_type": "stream",
     "text": [
      "Nhập chuỗi 1:xin chào các bạn, các bạn có khỏe không?\n",
      "Nhập chuỗi 2:hello\n",
      "Không có \"hello\" trong \"xin chào các bạn, các bạn có khỏe không?\"\n"
     ]
    }
   ],
   "source": [
    "chuoi1 = input(\"Nhập chuỗi 1:\")\n",
    "chuoi2 = input(\"Nhập chuỗi 2:\")\n",
    "\n",
    "def xoachuoi(a,b):\n",
    "    t = a.find(b)\n",
    "    if t == -1:\n",
    "        return \"Không có \\\"\" + b + \"\\\" trong \\\"\" + a + \"\\\"\"\n",
    "    else:\n",
    "        return a.replace(b,\"\")\n",
    "    \n",
    "print(xoachuoi(chuoi1,chuoi2))\n"
   ]
  },
  {
   "cell_type": "markdown",
   "id": "d626394e",
   "metadata": {},
   "source": [
    "### Bài 3\n",
    "\n",
    "Viết hàm `kiemtramatkhau` với dữ liệu đầu vào là 1 chuỗi có công dụng như sau:\n",
    "\n",
    "Kiểm tra xem chuỗi đầu vào có phải là mật khẩu mạnh hay không, nếu có trả về True, nếu không trả về False\n",
    "\n",
    "Mật khẩu mạnh là mật khẩu phải có ít nhất 1 chữ hoa, 1 chữ thường, 1 số và 1 ký tự đặc biệt"
   ]
  },
  {
   "cell_type": "code",
   "execution_count": 9,
   "id": "875d88f5",
   "metadata": {},
   "outputs": [
    {
     "name": "stdout",
     "output_type": "stream",
     "text": [
      "Nhập mật khẩu:bB11\n",
      "False\n"
     ]
    }
   ],
   "source": [
    "matkhau = input(\"Nhập mật khẩu:\")\n",
    "\n",
    "def kiemtramatkhau(s):\n",
    "    dem = 0\n",
    "    for i in s:\n",
    "        if i.isupper():\n",
    "            dem += 1\n",
    "            break\n",
    "    for i in s:\n",
    "        if i.islower():\n",
    "            dem += 1\n",
    "            break\n",
    "    for i in s:\n",
    "        if i.isdecimal():\n",
    "            dem += 1\n",
    "            break\n",
    "    for i in s:\n",
    "        if not (i.isalpha()) and not (i.isdecimal()):\n",
    "            dem += 1\n",
    "            break\n",
    "    if (dem == 4):\n",
    "        return True\n",
    "    else:\n",
    "        return False\n",
    "\n",
    "print(kiemtramatkhau(matkhau))"
   ]
  },
  {
   "cell_type": "code",
   "execution_count": 2,
   "id": "c44f113e",
   "metadata": {},
   "outputs": [
    {
     "name": "stdout",
     "output_type": "stream",
     "text": [
      "Nhập mật khẩu:bB11\n",
      "False\n"
     ]
    }
   ],
   "source": [
    "matkhau = input(\"Nhập mật khẩu:\")\n",
    "\n",
    "def kiemtramatkhau(s):\n",
    "    hoa = thuong = kytu = so = False\n",
    "    for i in s:\n",
    "        if (i.isupper()):\n",
    "            hoa = True\n",
    "        elif (i.islower()):\n",
    "            thuong = True\n",
    "        elif (i.isdecimal()):\n",
    "            so = True\n",
    "        else:\n",
    "            kytu = True\n",
    "        if (hoa and thuong and kytu and so):\n",
    "            return True\n",
    "    return False\n",
    "\n",
    "print(kiemtramatkhau(matkhau))"
   ]
  },
  {
   "cell_type": "markdown",
   "id": "1572568f",
   "metadata": {},
   "source": [
    "### Bài 4\n",
    "\n",
    "Viết hàm có 5 dữ liệu đầu vào là 5 số nguyên, tìm giá trị lớn nhì trong 5 số đó"
   ]
  },
  {
   "cell_type": "code",
   "execution_count": 4,
   "id": "876707ae",
   "metadata": {},
   "outputs": [
    {
     "name": "stdout",
     "output_type": "stream",
     "text": [
      "6\n"
     ]
    }
   ],
   "source": [
    "def hoandoivitri(so1,so2):\n",
    "    return so2,so1\n",
    "\n",
    "def timsolonnhi(a,b,c,d,e):\n",
    "    if (a < b):\n",
    "        a, b = hoandoivitri(a,b)\n",
    "    if (a < c):\n",
    "        a, c = hoandoivitri(a,c)\n",
    "    if (a < d):\n",
    "        a, d = hoandoivitri(a,d)\n",
    "    if (a < e):\n",
    "        a, e = hoandoivitri(a,e)\n",
    "        \n",
    "    if (b < c):\n",
    "        b, c = hoandoivitri(b,c)\n",
    "    if (b < d):\n",
    "        b, c = hoandoivitri(b,d)\n",
    "    if (b < e):\n",
    "        b, d = hoandoivitri(b,e)\n",
    "        \n",
    "    return(b)\n",
    "\n",
    "print(timsolonnhi(5,12,4,5,6))"
   ]
  },
  {
   "cell_type": "markdown",
   "id": "974d7da1",
   "metadata": {},
   "source": [
    "### Bài 5\n",
    "\n",
    "Nhập vào 2 cặp tọa độ tâm đường tròn và 2 bán kính R\n",
    "\n",
    "Hãy vẽ 2 hình tròn theo tọa độ và bán kính trên (tọa độ thứ nhất và bán kính thứ nhất là hình tròn thứ nhất, tọa độ thứ 2 với bán kính thứ 2 là hình tròn thứ hai)\n",
    "\n",
    "Viết hàm kiểm tra xem 2 hình tròn trên cắt nhau bao nhiêu điểm"
   ]
  },
  {
   "cell_type": "code",
   "execution_count": 2,
   "id": "f7722021",
   "metadata": {},
   "outputs": [
    {
     "name": "stdout",
     "output_type": "stream",
     "text": [
      "Nhập tọa độ x1:0\n",
      "Nhập tọa độ y1:0\n",
      "Nhập tọa độ x2:30\n",
      "Nhập tọa độ y2:0\n",
      "Nhập bán kính r1:75\n",
      "Nhập bán kính r2:65\n",
      "2\n"
     ]
    }
   ],
   "source": [
    "x1 = int(input(\"Nhập tọa độ x1:\"))\n",
    "y1 = int(input(\"Nhập tọa độ y1:\"))\n",
    "\n",
    "x2 = int(input(\"Nhập tọa độ x2:\"))\n",
    "y2 = int(input(\"Nhập tọa độ y2:\"))\n",
    "\n",
    "r1 = int(input(\"Nhập bán kính r1:\"))\n",
    "r2 = int(input(\"Nhập bán kính r2:\"))\n",
    "\n",
    "import turtle\n",
    "\n",
    "t = turtle.Turtle()\n",
    "\n",
    "t.penup()\n",
    "t.goto(x1,y1-r1)\n",
    "t.pendown()\n",
    "t.circle(r1)\n",
    "\n",
    "t.penup()\n",
    "t.goto(x2,y2-r2)\n",
    "t.pendown()\n",
    "t.circle(r2)\n",
    "\n",
    "def xethinhtron(x1,y1,r1,x2,y2,r2):\n",
    "    if (x1 == x2) and (y1 == y2):\n",
    "        if (r1 == r2):\n",
    "            return -1\n",
    "        else:\n",
    "            return 0\n",
    "    else:\n",
    "        kc2diem = ((x1 - x2)**2 + (y1 - y2)**2)**(1/2)\n",
    "        if (kc2diem > r1 + r2):\n",
    "            return 0\n",
    "        elif (kc2diem == r1 + r2):\n",
    "            return 1\n",
    "        else:\n",
    "            if (kc2diem == abs(r1 - r2)):\n",
    "                return 1\n",
    "            elif (kc2diem < abs(r1 - r2)):\n",
    "                return 0\n",
    "            else:\n",
    "                return 2\n",
    "\n",
    "print(xethinhtron(x1,y1,r1,x2,y2,r2))"
   ]
  },
  {
   "cell_type": "markdown",
   "id": "a2157de8",
   "metadata": {},
   "source": [
    "### Bài 6\n",
    "\n",
    "Nhập vào 2 tọa độ là 2 đỉnh của một hình chữ nhật\n",
    "\n",
    "Sau đó\n",
    "\n",
    "Nhập vào tọa độ tâm đường tròn và bán kính R\n",
    "\n",
    "Hãy vẽ hình hình chữ nhật và đường tròn trên\n",
    "\n",
    "Viết hàm kiểm tra xem đường tròn trên và hình chữ nhật cắt nhau tại bao nhiêu điểm"
   ]
  },
  {
   "cell_type": "code",
   "execution_count": null,
   "id": "e0d7b1a2",
   "metadata": {},
   "outputs": [],
   "source": []
  },
  {
   "cell_type": "markdown",
   "id": "d1491579",
   "metadata": {},
   "source": [
    "### Bài 7\n",
    "\n",
    "Viết hàm kiểm tra số nguyên tố\n",
    "\n",
    "Viết hàm kiểm tra số hoàn hảo\n",
    "\n",
    "Viết hàm kiểm tra số chính phương\n",
    "\n",
    "Viết hàm kiểm tra số Armstrong\n",
    "\n",
    "Nhập vào một chuỗi, hãy lọc và tìm ra những số ở trong chuỗi (2 chữ số liền nhau là một chuỗi)\n",
    "\n",
    "Ví dụ chuỗi: \"AB25SDc5DSjjh52\"\n",
    "\n",
    "Trong chuỗi này ta có 3 số: 25, 5 và 52\n",
    "\n",
    "Sau khi lọc số, dùng các hàm trên để kiểm tra và thực hiện như sau:\n",
    "\n",
    "Cho biến S\n",
    "\n",
    "- Nếu số đó là số nguyên tố, ta thực hiện S += số đó\n",
    "- Nếu số đó là số hoàn hảo, ta thực hiện S -= số đó\n",
    "- Nếu số đó là số chính phương, ta thực hiện S /= số đó\n",
    "- Nếu đó là số Armstrong ta cho S = 0\n",
    "\n",
    "Hãy tính và in S"
   ]
  },
  {
   "cell_type": "code",
   "execution_count": null,
   "id": "0b699e33",
   "metadata": {},
   "outputs": [],
   "source": []
  }
 ],
 "metadata": {
  "kernelspec": {
   "display_name": "Python 3 (ipykernel)",
   "language": "python",
   "name": "python3"
  },
  "language_info": {
   "codemirror_mode": {
    "name": "ipython",
    "version": 3
   },
   "file_extension": ".py",
   "mimetype": "text/x-python",
   "name": "python",
   "nbconvert_exporter": "python",
   "pygments_lexer": "ipython3",
   "version": "3.10.0"
  }
 },
 "nbformat": 4,
 "nbformat_minor": 5
}
