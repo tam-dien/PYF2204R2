{
 "cells": [
  {
   "cell_type": "markdown",
   "id": "0f1e5a14",
   "metadata": {},
   "source": [
    "# Bài tập lớn\n",
    "\n",
    "## Bài 1\n",
    "\n",
    "Viết chương trình như sau:\n",
    "\n",
    "Viết 3 hàm, cả 3 hàm đều có đầu vào là 1 chuỗi\n",
    "\n",
    "Hàm thứ nhất tách toàn bộ chữ cái ra thành 1 chuỗi riêng biệt và trả về chuỗi đó (chuỗi chỉ toàn chữ cái)\n",
    "\n",
    "Hàm thứ hai tách các con số trong chuỗi ra (các chữ số liền nhau là 1 con số), sau đó chèn các con số đó vào một chuỗi, mỗi số cách nhau một dấu phẩy. Trả về chuỗi đó (chuỗi đã tách số)\n",
    "\n",
    "Hàm thứ ba, tách các ký tự đặc biệt ra thành 1 chuỗi, mỗi 1 ký tự đặc biệt cách nhau một khoảng trắng. Trả về chuỗi đó (chuỗi đã tách)\n",
    "\n",
    "Ví dụ: Cho chuỗi a = \"ABcde456asd@34!@avd^%\"\n",
    "\n",
    "Chạy hàm 1 với đầu vào chuỗi a sẽ trả về chuỗi: \"ABcdeasdavd\"\n",
    "\n",
    "Chạy hàm 2 với đầu vào chuỗi a sẽ trả về chuỗi: \"456,34\"\n",
    "\n",
    "Chạy hàm 3 với đầu vào chuỗi a sẽ trả về chuỗi: \"@ ! @ ^ %\"\n",
    "\n",
    "Sau khi viết xong 3 hàm trên, viết chương trình chính như sau:\n",
    "\n",
    "<b>B1</b>: Yêu cầu người dùng nhập vào chuỗi\n",
    "\n",
    "<b>B2</b>: Yêu cầu người dùng chọn chạy hàm 1, hoặc hàm 2 hoặc hàm 3 bằng cách nhập vào 1 hoặc 2 hoặc 3 tương ứng\n",
    "\n",
    "<b>B3</b>: In ra màn hình giá trị chuỗi tưng ứng giá trị trả về của các hàm chạy trong B2\n",
    "\n",
    "<b>B4</b>: Thực hiện lại B2 cho đến khi nào người dùng nhập 0 thì ngưng chương trình"
   ]
  },
  {
   "cell_type": "code",
   "execution_count": null,
   "id": "f5fc915a",
   "metadata": {},
   "outputs": [],
   "source": []
  },
  {
   "attachments": {
    "image.png": {
     "image/png": "[encoded data removed]"
    }
   },
   "cell_type": "markdown",
   "id": "74fc06c8",
   "metadata": {},
   "source": [
    "## Bài 2\n",
    "\n",
    "Các số nguyên dương: 3748, 58, 859, 32435465768 được gọi là các số đơn điệu do nếu quan sát các chữ số của các số này, ta thấy chúng luân phiên tăng giảm hoặc giảm tăng. Chẳng hạn:\n",
    "\n",
    "3 < 7 > 4 < 8 và 3 > 2 < 4 > 3 < 5 > 4 < 6 > 5 < 7 > 6 < 8\n",
    "\n",
    "Số chỉ có một chữ số là số đơn điệu chiều dài 1.\n",
    "\n",
    "Nhiệm vụ:Viết chương trình xác định số chữ số đầu tiên lớn nhất tạo thành số đơn điệu của một số cho trước.\n",
    "\n",
    "Nhập vào: Từ bàn phím một số nguyên dương N có không quá 75 chữ số.\n",
    "\n",
    "In ra: Số nguyên K duy nhất chỉ số chữ số đầu tiên lớn nhất tạo thành số đơn điệu của số N.\n",
    "\n",
    "##### Yêu cầu bắt buộc, viết hàm để kiểm tra số đơn điệu\n",
    "\n",
    "![image.png](attachment:image.png)"
   ]
  },
  {
   "cell_type": "code",
   "execution_count": null,
   "id": "86aa11e7",
   "metadata": {},
   "outputs": [],
   "source": []
  }
 ],
 "metadata": {
  "kernelspec": {
   "display_name": "Python 3 (ipykernel)",
   "language": "python",
   "name": "python3"
  },
  "language_info": {
   "codemirror_mode": {
    "name": "ipython",
    "version": 3
   },
   "file_extension": ".py",
   "mimetype": "text/x-python",
   "name": "python",
   "nbconvert_exporter": "python",
   "pygments_lexer": "ipython3",
   "version": "3.10.1"
  }
 },
 "nbformat": 4,
 "nbformat_minor": 5
}
