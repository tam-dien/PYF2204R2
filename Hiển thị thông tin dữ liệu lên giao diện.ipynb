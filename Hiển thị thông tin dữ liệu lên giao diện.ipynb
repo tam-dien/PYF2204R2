{
 "cells": [
  {
   "cell_type": "code",
   "execution_count": 44,
   "id": "32058ef6",
   "metadata": {},
   "outputs": [
    {
     "name": "stdout",
     "output_type": "stream",
     "text": [
      "{'STT': [<tkinter.Label object .!frame.!label7>, <tkinter.Label object .!frame.!label12>, <tkinter.Label object .!frame.!label17>, <tkinter.Label object .!frame.!label22>, <tkinter.Label object .!frame.!label27>, <tkinter.Label object .!frame.!label32>, <tkinter.Label object .!frame.!label37>, <tkinter.Label object .!frame.!label42>, <tkinter.Label object .!frame.!label47>, <tkinter.Label object .!frame.!label52>, 11, 12, 13, 14, 15, 16, 17, 18, 19, 20, 21, 22, 23, 24, 25, 26, 27, 28, 29, 30, 31, 32, 33, 34, 35, 36, 37], 'Danh mục': [<tkinter.Label object .!frame.!label8>, <tkinter.Label object .!frame.!label13>, <tkinter.Label object .!frame.!label18>, <tkinter.Label object .!frame.!label23>, <tkinter.Label object .!frame.!label28>, <tkinter.Label object .!frame.!label33>, <tkinter.Label object .!frame.!label38>, <tkinter.Label object .!frame.!label43>, <tkinter.Label object .!frame.!label48>, <tkinter.Label object .!frame.!label53>, 'Tủ đựng nước 1 ngăn mát', 'Cọc thuê nhà', 'Thuê nhà', 'Sửa nhà', 'Máy chiếu', 'Mua đồ ăn + bia lần đầu', 'Bếp chính', 'Bếp phụ', 'Phục vụ', 'Rửa bát - dọn dẹp', 'Bảo vệ', 'Bàn chế biến thực phẩm', 'Giá chứa xoong nồi', 'Xoong nồi nấu nướng', 'Kệ để đồ ăn', 'Bếp nướng', 'Bát đĩa', 'Cốc - chén', 'Khay bê đồ', 'Chậu rửa 2 ngăn công nghiệp', 'Bếp công nghiệp', 'Dao thớt - Đồ bếp', 'Quạt công nghiệp', 'Quạt hút mùi', 'Điều hòa', 'Ống thông gió thổi mùi', 'Khai trương'], 'Số lượng': [<tkinter.Label object .!frame.!label9>, <tkinter.Label object .!frame.!label14>, <tkinter.Label object .!frame.!label19>, <tkinter.Label object .!frame.!label24>, <tkinter.Label object .!frame.!label29>, <tkinter.Label object .!frame.!label34>, <tkinter.Label object .!frame.!label39>, <tkinter.Label object .!frame.!label44>, <tkinter.Label object .!frame.!label49>, <tkinter.Label object .!frame.!label54>, 1, 1, 6, 1, 1, 1, 3, 6, 15, 6, 6, 3, 1, 1, 1, 1, 40, 300, 8, 1, 1, 1, 7, 1, 4, 1, 1], 'Đơn giá': [<tkinter.Label object .!frame.!label10>, <tkinter.Label object .!frame.!label15>, <tkinter.Label object .!frame.!label20>, <tkinter.Label object .!frame.!label25>, <tkinter.Label object .!frame.!label30>, <tkinter.Label object .!frame.!label35>, <tkinter.Label object .!frame.!label40>, <tkinter.Label object .!frame.!label45>, <tkinter.Label object .!frame.!label50>, <tkinter.Label object .!frame.!label55>, 33000000, 50000000, 35000000, 200000000, 3000000, 30000000, 20000000, 12000000, 4500000, 4500000, 4500000, 10000000, 3000000, 20000000, 3500000, 5000000, 1500000, 2500, 100000, 10000000, 20000000, 10000000, 1500000, 2000000, 12000000, 2000000, 15000000], 'Chi phí': [<tkinter.Label object .!frame.!label11>, <tkinter.Label object .!frame.!label16>, <tkinter.Label object .!frame.!label21>, <tkinter.Label object .!frame.!label26>, <tkinter.Label object .!frame.!label31>, <tkinter.Label object .!frame.!label36>, <tkinter.Label object .!frame.!label41>, <tkinter.Label object .!frame.!label46>, <tkinter.Label object .!frame.!label51>, <tkinter.Label object .!frame.!label56>, 33000000, 50000000, 210000000, 200000000, 3000000, 30000000, 60000000, 72000000, 67500000, 27000000, 27000000, 30000000, 3000000, 20000000, 3500000, 5000000, 60000000, 750000, 800000, 10000000, 20000000, 10000000, 10500000, 2000000, 48000000, 2000000, 15000000]}\n"
     ]
    }
   ],
   "source": [
    "from tkinter import *\n",
    "\n",
    "from tkinter import filedialog\n",
    "\n",
    "import pandas as pd\n",
    "\n",
    "sc = Tk()\n",
    "\n",
    "## f = filedialog.askopenfile() \n",
    "## lệnh này sẽ trả về một cái file như lệnh open\n",
    "## vấn đề là mình cần đọc file excel thì cần phải sử dụng pandas\n",
    "## vậy nên ta cần lấy đường dẫn của file nên ta sẽ sử dụng lệnh askopenfilename\n",
    "L_cot = []\n",
    "D_data = {}\n",
    "\n",
    "def click_chonfile():\n",
    "    url = filedialog.askopenfilename(title = 'Chọn file để mở',filetypes = ((\"Excel files\",\"*.xlsx\"),(\"all files\",\"*.*\")))\n",
    "    excel = pd.read_excel(url)\n",
    "    caccot = list(excel.columns.values)\n",
    "    ## xóa hết mọi thứ bên trong Frame content\n",
    "    for child in content.winfo_children():\n",
    "        child.destroy()\n",
    "    L_cot.clear()\n",
    "    D_data.clear()\n",
    "    for i in range(min(5,len(caccot))):\n",
    "        L_cot.append(Label(content,text = caccot[i],font = (\"Arial\",18),borderwidth=5, relief=\"groove\"))\n",
    "        L_cot[-1].grid(column = i+1,row = 1,sticky = \"we\")\n",
    "        D_data[caccot[i]] = list(excel[caccot[i]])\n",
    "    for i in range(10):\n",
    "        dem = 1\n",
    "        for key in D_data:\n",
    "            D_data[key][i] = Label(content,text = D_data[key][i],font = (\"Arial\",18),borderwidth=5, relief=\"groove\",justify = \"left\")\n",
    "            D_data[key][i].grid(column = dem, row = i+2,sticky = \"we\")\n",
    "            dem += 1\n",
    "    print(D_data)\n",
    "\n",
    "bt1 = Button(sc,text = 'Chọn file', font = (\"Arial\",22),command = click_chonfile)\n",
    "content = Frame(sc)\n",
    "lb1 = Label(content,text = \"Mời bạn chọn file\",font = (\"Arial\",22),fg = \"red\")\n",
    "\n",
    "bt1.grid(column = 1, row = 1, padx = 20, pady = 20)\n",
    "content.grid(column = 1, row = 2, padx = 20, pady = 20)\n",
    "lb1.grid(column = 1, row = 1)\n",
    "\n",
    "sc.mainloop()"
   ]
  }
 ],
 "metadata": {
  "kernelspec": {
   "display_name": "Python 3 (ipykernel)",
   "language": "python",
   "name": "python3"
  },
  "language_info": {
   "codemirror_mode": {
    "name": "ipython",
    "version": 3
   },
   "file_extension": ".py",
   "mimetype": "text/x-python",
   "name": "python",
   "nbconvert_exporter": "python",
   "pygments_lexer": "ipython3",
   "version": "3.10.4"
  }
 },
 "nbformat": 4,
 "nbformat_minor": 5
}
