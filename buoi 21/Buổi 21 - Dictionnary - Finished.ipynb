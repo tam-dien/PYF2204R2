{
 "cells": [
  {
   "cell_type": "markdown",
   "id": "a20f121d",
   "metadata": {},
   "source": [
    "# Dictionnary\n",
    "\n",
    "Dictionnary là một dạng list đặc biệt, nó khác list ở chỗ không lưu trữ các giá trị theo chỉ số vị trí, thay vào đó Dictionary sẽ lưu trữ các giá trị theo key\n",
    "\n",
    "##### Tài liệu tham khảo: https://www.w3schools.com/python/python_dictionaries.asp\n",
    "\n",
    "### Khai báo một dictionary\n",
    "\n",
    "Cú pháp:\n",
    "\n",
    "`<tên dictionary> = {}`\n",
    "\n",
    "### Dictionary được khai báo bằng hai dấu hoặc nhọn\n",
    "\n",
    "Đây là một dictionary rỗng\n",
    "\n",
    "<b>Ví dụ 1:</b>\n",
    "\n",
    "`a = {}`\n",
    "\n",
    "a là một dictionary rỗng\n",
    "\n",
    "<b>Ví dụ 2:</b>\n",
    "\n",
    "`a = {\"tên\": \"Nguyễn Tâm Điền\", \"tuổi\": 13, \"giới tính\": \"Nam\"}`\n",
    "\n",
    "b là một dictionary có 3 key, mõi key đều có một giá trị riêng biệt\n",
    "\n",
    "Key có thể mang kiểu dữ liệu là chuỗi hoặc số\n",
    "\n",
    "##### Mỗi một key đều phải có giá trị của riêng nó, không thể khai báo key không có giá trị\n",
    "\n",
    "<b>Hãy khai báo một dictionary có 3 phần tử</b>"
   ]
  },
  {
   "cell_type": "code",
   "execution_count": 2,
   "id": "d835f461",
   "metadata": {},
   "outputs": [
    {
     "name": "stdout",
     "output_type": "stream",
     "text": [
      "13\n"
     ]
    }
   ],
   "source": [
    "a = {\"tên\": \"Nguyễn Tâm Điền\", \"tuổi\": 13, \"giới tính\": \"Nam\"}\n",
    "print(a[\"tuổi\"])"
   ]
  },
  {
   "cell_type": "code",
   "execution_count": 3,
   "id": "c26fb70b",
   "metadata": {},
   "outputs": [
    {
     "ename": "SyntaxError",
     "evalue": "expression expected after dictionary key and ':' (Temp/ipykernel_5136/3520763399.py, line 1)",
     "output_type": "error",
     "traceback": [
      "\u001b[1;36m  File \u001b[1;32m\"C:\\Users\\tamdi\\AppData\\Local\\Temp/ipykernel_5136/3520763399.py\"\u001b[1;36m, line \u001b[1;32m1\u001b[0m\n\u001b[1;33m    a = {\"tên\": \"Nguyễn Tâm Điền\", \"tuổi\": 13, \"giới tính\": }\u001b[0m\n\u001b[1;37m                                                          ^\u001b[0m\n\u001b[1;31mSyntaxError\u001b[0m\u001b[1;31m:\u001b[0m expression expected after dictionary key and ':'\n"
     ]
    }
   ],
   "source": [
    "a = {\"tên\": \"Nguyễn Tâm Điền\", \"tuổi\": 13, \"giới tính\": }"
   ]
  },
  {
   "cell_type": "code",
   "execution_count": 5,
   "id": "5ef78a1c",
   "metadata": {},
   "outputs": [
    {
     "name": "stdout",
     "output_type": "stream",
     "text": [
      "15\n"
     ]
    }
   ],
   "source": [
    "a = {\"tên\": \"Nguyễn Tâm Điền\", \"tuổi\": 13, \"tuổi\": 15}\n",
    "print(a['tuổi'])"
   ]
  },
  {
   "cell_type": "code",
   "execution_count": 6,
   "id": "49573f92",
   "metadata": {},
   "outputs": [
    {
     "name": "stdout",
     "output_type": "stream",
     "text": [
      "hi hello\n"
     ]
    }
   ],
   "source": [
    "a = {1:\"hi\",\"2\":\"hello\"}\n",
    "print(a[1],a[\"2\"])"
   ]
  },
  {
   "cell_type": "code",
   "execution_count": 7,
   "id": "8a7826e4",
   "metadata": {},
   "outputs": [
    {
     "name": "stdout",
     "output_type": "stream",
     "text": [
      "{1: 'xin chào', '1': 'hello'}\n"
     ]
    }
   ],
   "source": [
    "a = {1:\"hi\",\"1\":\"hello\",1:'xin chào'}\n",
    "print(a)"
   ]
  },
  {
   "cell_type": "markdown",
   "id": "be1e321c",
   "metadata": {},
   "source": [
    "### Thêm key vào dictionary\n",
    "\n",
    "Cú pháp:\n",
    "\n",
    "`<tên dictionary>[<key>] = <giá trị>`\n",
    "\n",
    "<b>Ví dụ 1:</b>\n",
    "\n",
    "`a = {}\n",
    "a[\"tên\"] = \"NTD\"`\n",
    "\n",
    "a là một dictionary có một phần tử, phần tử đó có key là \"tên\" và giá trị của key đó là \"NTD\"\n",
    "\n",
    "##### Lưu ý, nếu trong trường hợp đã tồn tại key trong dictionary, dùng lệnh trên sẽ thay đổi giá trị key đó (không phải thêm key khác vào)\n",
    "\n",
    "<b>Ví dụ 2:</b>\n",
    "\n",
    "`a = {}\n",
    "a[\"tên\"] = \"NTD\"\n",
    "a[\"tên\"] = \"Nguyễn Tâm Điền\"`\n",
    "\n",
    "a vẫn là một dictionary có một phần tử, phần tử đó có key là \"tên\" và giá trị của key đó là \"Nguyễn Tâm Điền\"\n",
    "\n",
    "<b>Hãy khai báo một dictionary không có phần tử nào, sau đó thêm một phần tử vào dictionary đó</b>"
   ]
  },
  {
   "cell_type": "code",
   "execution_count": 8,
   "id": "7573ebef",
   "metadata": {},
   "outputs": [
    {
     "name": "stdout",
     "output_type": "stream",
     "text": [
      "{'tên': 'NTD', 'tuổi': 13}\n"
     ]
    }
   ],
   "source": [
    "a = {'tên':'NTD'}\n",
    "a['tuổi'] = 13\n",
    "print(a)"
   ]
  },
  {
   "cell_type": "code",
   "execution_count": 10,
   "id": "0a4355b2",
   "metadata": {},
   "outputs": [
    {
     "name": "stdout",
     "output_type": "stream",
     "text": [
      "{'tên': 'Nguyễn Tâm Điền'}\n"
     ]
    }
   ],
   "source": [
    "a = {'tên':'NTD'}\n",
    "a['tên'] = \"Nguyễn Tâm Điền\"\n",
    "print(a)"
   ]
  },
  {
   "cell_type": "code",
   "execution_count": 11,
   "id": "834bb7bd",
   "metadata": {},
   "outputs": [
    {
     "name": "stdout",
     "output_type": "stream",
     "text": [
      "{'tên': 'NTD', 'tuổi': 13}\n"
     ]
    }
   ],
   "source": [
    "a = {'tên':'NTD'}\n",
    "if 'tên' in a: ## if này đúng vì a có key 'tên'\n",
    "    a['tuổi'] = 13\n",
    "else:\n",
    "    a['tên'] = \"Nguyễn Tâm Điền\"\n",
    "print(a)"
   ]
  },
  {
   "cell_type": "code",
   "execution_count": 15,
   "id": "7bea497f",
   "metadata": {},
   "outputs": [
    {
     "name": "stdout",
     "output_type": "stream",
     "text": [
      "Nhập vào key:hi\n",
      "Nhập vào giá trị:hello\n",
      "Nhập vào key:hi\n",
      "Key bị trùng, vui lòng nhập lại key!\n",
      "Nhập vào key:3\n",
      "Nhập vào giá trị:0\n",
      "Nhập vào key:-1\n",
      "{'hi': 'hello', '3': '0'}\n"
     ]
    }
   ],
   "source": [
    "### Khởi tạo dictionary D rỗng\n",
    "### yêu cầu người dùng nhập vào key, sau đó nhập vào giá trị (sau khi nhập thì thêm key và giá trị vào trong dictionary D)\n",
    "### đến khi nào người dùng nhập key là - 1 thì dừng lại\n",
    "### nếu người dùng nhập trùng key thì không yêu cầu nhập giá trị mà hiện ra thông báo là key đã tồn tại và yêu cầu người\n",
    "### dùng nhập lại key khác\n",
    "D = {}\n",
    "while True:\n",
    "    key = input(\"Nhập vào key:\")\n",
    "    if key in D:\n",
    "        print(\"Key bị trùng, vui lòng nhập lại key!\")\n",
    "        continue\n",
    "    if key == \"-1\":\n",
    "        break\n",
    "    value = input(\"Nhập vào giá trị:\")\n",
    "    D[key] = value\n",
    "print(D)"
   ]
  },
  {
   "cell_type": "markdown",
   "id": "65c98825",
   "metadata": {},
   "source": [
    "### Truy xuất phần tử trong dictionary\n",
    "\n",
    "Cú pháp:\n",
    "\n",
    "`<tên dictionary>[<key>]`\n",
    "\n",
    "<b>Ví dụ:</b>\n",
    "\n",
    "`a = {\"tên\": \"Nguyễn Tâm Điền\", \"tuổi\": 13, \"giới tính\": \"Nam\"}\n",
    "print(a[\"tên\"])`\n",
    "\n",
    "Màn hình sẽ in: Nguyễn Tâm Điền\n",
    "\n",
    "<b>Hãy khai báo một dictionary rồi in ra màn hình một phần tử bất kỳ trong dictionary đó</b>"
   ]
  },
  {
   "cell_type": "code",
   "execution_count": 16,
   "id": "f6159385",
   "metadata": {},
   "outputs": [
    {
     "name": "stdout",
     "output_type": "stream",
     "text": [
      "Nguyễn Tâm Điền\n"
     ]
    }
   ],
   "source": [
    "a = {\"tên\": \"Nguyễn Tâm Điền\", \"tuổi\": 13, \"giới tính\": \"Nam\"}\n",
    "print(a[\"tên\"])"
   ]
  },
  {
   "cell_type": "markdown",
   "id": "afa92f87",
   "metadata": {},
   "source": [
    "### Sao chép dictionary\n",
    "\n",
    "##### Việc sao chép dictionary được thực hiện hệt như sao chép list, chúng ta cần phải sử dụng lệnh copy()"
   ]
  },
  {
   "cell_type": "markdown",
   "id": "ef7e800d",
   "metadata": {},
   "source": [
    "### Duyệt dictionary bằng lệnh for\n",
    "\n",
    "Cú pháp:\n",
    "\n",
    "`for <tên biến> in <tên dictionary>:`\n",
    "\n",
    "Biến sẽ có giá trị là từng key trong dictionary\n",
    "\n",
    "<b>Ví dụ:</b>\n",
    "\n",
    "`a = {\"tên\": \"Nguyễn Tâm Điền\", \"tuổi\": 13, \"giới tính\": \"Nam\"}\n",
    "for i in a:\n",
    "    print(i)`\n",
    "    \n",
    "Màn hình sẽ in ra:\n",
    "\n",
    "tên\n",
    "\n",
    "tuổi\n",
    "\n",
    "giới tính\n",
    "\n",
    "<b>Hãy khai báo một dictionary rồi in ra màn hình toàn bộ giá trị trong dictionary đó</b>"
   ]
  },
  {
   "cell_type": "code",
   "execution_count": 17,
   "id": "3bdd1508",
   "metadata": {},
   "outputs": [
    {
     "name": "stdout",
     "output_type": "stream",
     "text": [
      "hi\n",
      "hello\n",
      "3\n"
     ]
    }
   ],
   "source": [
    "L = ['hi','hello',3]\n",
    "for i in L: ## i sẽ là giá trị của list\n",
    "    print(i)"
   ]
  },
  {
   "cell_type": "code",
   "execution_count": 20,
   "id": "4cb87f8b",
   "metadata": {},
   "outputs": [
    {
     "name": "stdout",
     "output_type": "stream",
     "text": [
      "hi\n",
      "hello\n",
      "3\n"
     ]
    }
   ],
   "source": [
    "D = {3:'hi','he':'hello',5:3}\n",
    "for i in D: ## i sẽ là các key (không phải là giá trị)\n",
    "    print(D[i])"
   ]
  },
  {
   "cell_type": "code",
   "execution_count": 19,
   "id": "6ec8357b",
   "metadata": {},
   "outputs": [
    {
     "name": "stdout",
     "output_type": "stream",
     "text": [
      "3\n"
     ]
    }
   ],
   "source": [
    "D = {3:'hi','he':'hello',5:3}\n",
    "print(len(D))"
   ]
  },
  {
   "cell_type": "code",
   "execution_count": null,
   "id": "e15d9eac",
   "metadata": {},
   "outputs": [],
   "source": [
    "D = {3:'hi','he':'hello',5:3}\n",
    "for i in range(len(D)):\n",
    "    print(D[i]) ## in kiểu này là sai"
   ]
  },
  {
   "cell_type": "markdown",
   "id": "1982f4b1",
   "metadata": {},
   "source": [
    "### Bài tập"
   ]
  },
  {
   "cell_type": "markdown",
   "id": "3060a950",
   "metadata": {},
   "source": [
    "Viết chương trình đếm số lần xuất hiện của một từ trong một văn bản nhất định"
   ]
  },
  {
   "cell_type": "code",
   "execution_count": 31,
   "id": "af64832c",
   "metadata": {},
   "outputs": [
    {
     "name": "stdout",
     "output_type": "stream",
     "text": [
      "{'a': 3, 'anh': 5, 'tràng': 10, 'đã': 3, 'về': 3, 'chúng': 3, 'mày': 1, 'ơi': 4, 'bế': 2, 'em': 1, 'mấy': 2, 'uống': 1, 'rượu': 1, 'chưa': 1, 'đứa': 7, 'túm': 2, 'đằng': 3, 'trước': 3, 'sau': 2, 'cù': 1, 'kéo': 1, 'lôi': 1, 'chân': 1, 'không': 7, 'cho': 1, 'đi': 6, 'chỉ': 1, 'ngửa': 1, 'mặt': 4, 'lên': 5, 'cười': 2, 'hềnh': 1, 'hệch': 1, 'cái': 8, 'xóm': 3, 'ngụ': 1, 'cư': 1, 'tồi': 1, 'tàn': 1, 'ấy': 2, 'mỗi': 1, 'chiều': 3, 'lại': 2, 'xôn': 1, 'xao': 1, 'được': 1, 'một': 7, 'lúc': 2, 'nhưng': 1, 'độ': 1, 'này': 2, 'thì': 2, 'trẻ': 2, 'con': 3, 'nào': 3, 'buồn': 2, 'ra': 3, 'đón': 2, 'nữa': 2, 'nó': 2, 'ngồi': 1, 'ủ': 1, 'rũ': 1, 'dưới': 1, 'những': 5, 'xó': 1, 'đường': 2, 'nhúc': 1, 'nhích': 1, 'trong': 4, 'bóng': 2, 'nhá': 1, 'nhem': 1, 'từng': 1, 'bước': 2, 'mệt': 1, 'mỏi': 1, 'chiếc': 1, 'áo': 1, 'nâu': 1, 'tàng': 2, 'vắt': 1, 'sang': 1, 'bên': 2, 'cánh': 1, 'tay': 1, 'đầu': 3, 'trọc': 1, 'nhẵn': 1, 'chúi': 1, 'hình': 1, 'như': 5, 'lo': 1, 'lắng': 1, 'chật': 1, 'vật': 1, 'ngày': 1, 'đè': 1, 'xuống': 2, 'lưng': 2, 'to': 1, 'rộng': 1, 'gấu': 1, 'của': 3, 'hắn': 4, 'đói': 2, 'tràn': 1, 'đến': 1, 'tự': 1, 'gia': 1, 'đình': 1, 'từ': 1, 'vùng': 1, 'nam': 1, 'định': 1, 'thái': 1, 'bình': 1, 'đội': 1, 'chiếu': 1, 'lũ': 1, 'lượt': 1, 'bồng': 1, 'dắt': 1, 'díu': 1, 'nhau': 1, 'xanh': 1, 'xám': 1, 'ma': 1, 'và': 3, 'nằm': 2, 'ngổn': 1, 'ngang': 1, 'khắp': 1, 'lều': 1, 'chợ': 2, 'người': 6, 'chết': 1, 'ngả': 1, 'rạ': 1, 'buổi': 2, 'sáng': 2, 'làng': 1, 'làm': 1, 'đồng': 1, 'gặp': 1, 'ba': 2, 'bốn': 2, 'thây': 1, 'còng': 1, 'queo': 1, 'khí': 1, 'vẩn': 1, 'mùi': 2, 'ẩm': 1, 'thối': 1, 'rác': 1, 'rưởi': 1, 'gây': 1, 'xác': 1, 'giữa': 1, 'cảnh': 1, 'tối': 1, 'sầm': 1, 'vì': 1, 'khát': 1, 'bỗng': 1, 'thấy': 2, 'với': 1, 'đàn': 2, 'bà': 2, 'có': 2, 'vẻ': 2, 'gì': 1, 'phởn': 1, 'phơ': 1, 'khác': 1, 'thường': 1, 'tủm': 1, 'tỉm': 1, 'nụ': 1, 'mình': 1, 'hai': 1, 'mắt': 1, 'lấp': 1, 'lánh': 1, 'chừng': 1, 'thị': 2, 'cắp': 1, 'thúng': 1, 'hơi': 1, 'cúi': 1, 'nón': 1, 'rách': 1, 'nghiêng': 2, 'che': 1, 'khuất': 1, 'nửa': 1, 'rón': 1, 'rén': 1, 'e': 1, 'thẹn': 1, 'lạ': 1, 'vội': 2, 'chạy': 1, 'xem': 1, 'sợ': 1, 'đùa': 1, 'vàng': 1, 'nghiêm': 1, 'nét': 1, 'lắc': 1, 'hiệu': 1, 'bằng': 1, 'lòng': 1}\n"
     ]
    }
   ],
   "source": [
    "vanban = \"- A a a... Anh Tràng! Anh Tràng đã về chúng mày ơi! - Anh Tràng ơi bế em mấy... - Anh Tràng ơi đã uống rượu chưa? - Anh Tràng ơi!... Đứa túm đằng trước, đứa túm đằng sau, đứa cù, đứa kéo, đứa lôi chân không cho đi. Tràng chỉ ngửa mặt lên cười hềnh hệch. Cái xóm ngụ cư tồi tàn ấy mỗi chiều lại xôn xao lên được một lúc. Nhưng độ này thì trẻ con không đứa nào buồn ra đón Tràng nữa, chúng nó ngồi ủ rũ dưới những xó đường không buồn nhúc nhích. Trong bóng chiều nhá nhem, Tràng đi từng bước mệt mỏi, chiếc áo nâu tàng vắt sang một bên cánh tay, cái đầu trọc nhẵn chúi về đằng trước. Hình như những lo lắng, chật vật trong một ngày đè xuống cái lưng to rộng như lưng gấu của hắn. Cái đói đã tràn đến xóm này tự lúc nào. Những gia đình từ những vùng Nam Định, Thái Bình, đội chiếu lũ lượt bồng bế, dắt díu nhau lên xanh xám như những bóng ma, và nằm ngổn ngang khắp lều chợ. Người chết như ngả rạ. Không buổi sáng nào người trong làng đi chợ, đi làm đồng không gặp ba bốn cái thây nằm còng queo bên đường. Không khí vẩn lên mùi ẩm thối của rác rưởi và mùi gây của xác người. Giữa cái cảnh tối sầm lại vì đói khát ấy, một buổi chiều người trong xóm bỗng thấy Tràng về với một người đàn bà nữa. Mặt hắn có một vẻ gì phởn phơ khác thường. Hắn tủm tỉm cười nụ một mình và hai mắt thì sáng lên lấp lánh. Người đàn bà đi sau hắn chừng ba bốn bước. Thị cắp cái thúng con, đầu hơi cúi xuống, cái nón rách tàng nghiêng nghiêng che khuất đi nửa mặt. Thị có vẻ rón rén, e thẹn. Mấy đứa trẻ con thấy lạ vội chạy ra đón xem. Sợ chúng nó đùa như trước, Tràng vội vàng nghiêm nét mặt, lắc đầu ra hiệu không bằng lòng.\"\n",
    "## xóa đi các dấu câu:\n",
    "vanban = vanban.replace(\"!\",\"\")\n",
    "vanban = vanban.replace(\".\",\"\")\n",
    "vanban = vanban.replace(\",\",\"\")\n",
    "vanban = vanban.replace(\"-\",\"\")\n",
    "vanban = vanban.replace(\"?\",\"\")\n",
    "\n",
    "## cắt chuỗi vanban thành dạng list\n",
    "vanban = vanban.split()\n",
    "\n",
    "## key là từ - giá trị là số lượng từ\n",
    "D = {}\n",
    "\n",
    "for i in vanban:\n",
    "    i = i.lower() ## viết thường từ xuống\n",
    "    if i in D:\n",
    "        D[i] += 1\n",
    "    else:\n",
    "        D[i] = 1\n",
    "        \n",
    "print(D)\n",
    "\n",
    "# print(vanban)"
   ]
  },
  {
   "cell_type": "code",
   "execution_count": 32,
   "id": "174182bf",
   "metadata": {},
   "outputs": [
    {
     "name": "stdout",
     "output_type": "stream",
     "text": [
      "{'A': 1, 'a': 2, 'Anh': 5, 'Tràng': 10, 'đã': 3, 'về': 3, 'chúng': 3, 'mày': 1, 'ơi': 4, 'bế': 2, 'em': 1, 'mấy': 1, 'uống': 1, 'rượu': 1, 'chưa': 1, 'Đứa': 1, 'túm': 2, 'đằng': 3, 'trước': 3, 'đứa': 6, 'sau': 2, 'cù': 1, 'kéo': 1, 'lôi': 1, 'chân': 1, 'không': 5, 'cho': 1, 'đi': 6, 'chỉ': 1, 'ngửa': 1, 'mặt': 3, 'lên': 5, 'cười': 2, 'hềnh': 1, 'hệch': 1, 'Cái': 2, 'xóm': 3, 'ngụ': 1, 'cư': 1, 'tồi': 1, 'tàn': 1, 'ấy': 2, 'mỗi': 1, 'chiều': 3, 'lại': 2, 'xôn': 1, 'xao': 1, 'được': 1, 'một': 7, 'lúc': 2, 'Nhưng': 1, 'độ': 1, 'này': 2, 'thì': 2, 'trẻ': 2, 'con': 3, 'nào': 3, 'buồn': 2, 'ra': 3, 'đón': 2, 'nữa': 2, 'nó': 2, 'ngồi': 1, 'ủ': 1, 'rũ': 1, 'dưới': 1, 'những': 4, 'xó': 1, 'đường': 2, 'nhúc': 1, 'nhích': 1, 'Trong': 1, 'bóng': 2, 'nhá': 1, 'nhem': 1, 'từng': 1, 'bước': 2, 'mệt': 1, 'mỏi': 1, 'chiếc': 1, 'áo': 1, 'nâu': 1, 'tàng': 2, 'vắt': 1, 'sang': 1, 'bên': 2, 'cánh': 1, 'tay': 1, 'cái': 6, 'đầu': 3, 'trọc': 1, 'nhẵn': 1, 'chúi': 1, 'Hình': 1, 'như': 5, 'lo': 1, 'lắng': 1, 'chật': 1, 'vật': 1, 'trong': 3, 'ngày': 1, 'đè': 1, 'xuống': 2, 'lưng': 2, 'to': 1, 'rộng': 1, 'gấu': 1, 'của': 3, 'hắn': 3, 'đói': 2, 'tràn': 1, 'đến': 1, 'tự': 1, 'Những': 1, 'gia': 1, 'đình': 1, 'từ': 1, 'vùng': 1, 'Nam': 1, 'Định': 1, 'Thái': 1, 'Bình': 1, 'đội': 1, 'chiếu': 1, 'lũ': 1, 'lượt': 1, 'bồng': 1, 'dắt': 1, 'díu': 1, 'nhau': 1, 'xanh': 1, 'xám': 1, 'ma': 1, 'và': 3, 'nằm': 2, 'ngổn': 1, 'ngang': 1, 'khắp': 1, 'lều': 1, 'chợ': 2, 'Người': 2, 'chết': 1, 'ngả': 1, 'rạ': 1, 'Không': 2, 'buổi': 2, 'sáng': 2, 'người': 4, 'làng': 1, 'làm': 1, 'đồng': 1, 'gặp': 1, 'ba': 2, 'bốn': 2, 'thây': 1, 'còng': 1, 'queo': 1, 'khí': 1, 'vẩn': 1, 'mùi': 2, 'ẩm': 1, 'thối': 1, 'rác': 1, 'rưởi': 1, 'gây': 1, 'xác': 1, 'Giữa': 1, 'cảnh': 1, 'tối': 1, 'sầm': 1, 'vì': 1, 'khát': 1, 'bỗng': 1, 'thấy': 2, 'với': 1, 'đàn': 2, 'bà': 2, 'Mặt': 1, 'có': 2, 'vẻ': 2, 'gì': 1, 'phởn': 1, 'phơ': 1, 'khác': 1, 'thường': 1, 'Hắn': 1, 'tủm': 1, 'tỉm': 1, 'nụ': 1, 'mình': 1, 'hai': 1, 'mắt': 1, 'lấp': 1, 'lánh': 1, 'chừng': 1, 'Thị': 2, 'cắp': 1, 'thúng': 1, 'hơi': 1, 'cúi': 1, 'nón': 1, 'rách': 1, 'nghiêng': 2, 'che': 1, 'khuất': 1, 'nửa': 1, 'rón': 1, 'rén': 1, 'e': 1, 'thẹn': 1, 'Mấy': 1, 'lạ': 1, 'vội': 2, 'chạy': 1, 'xem': 1, 'Sợ': 1, 'đùa': 1, 'vàng': 1, 'nghiêm': 1, 'nét': 1, 'lắc': 1, 'hiệu': 1, 'bằng': 1, 'lòng': 1}\n"
     ]
    }
   ],
   "source": [
    "vanban = \"- A a a... Anh Tràng! Anh Tràng đã về chúng mày ơi! - Anh Tràng ơi bế em mấy... - Anh Tràng ơi đã uống rượu chưa? - Anh Tràng ơi!... Đứa túm đằng trước, đứa túm đằng sau, đứa cù, đứa kéo, đứa lôi chân không cho đi. Tràng chỉ ngửa mặt lên cười hềnh hệch. Cái xóm ngụ cư tồi tàn ấy mỗi chiều lại xôn xao lên được một lúc. Nhưng độ này thì trẻ con không đứa nào buồn ra đón Tràng nữa, chúng nó ngồi ủ rũ dưới những xó đường không buồn nhúc nhích. Trong bóng chiều nhá nhem, Tràng đi từng bước mệt mỏi, chiếc áo nâu tàng vắt sang một bên cánh tay, cái đầu trọc nhẵn chúi về đằng trước. Hình như những lo lắng, chật vật trong một ngày đè xuống cái lưng to rộng như lưng gấu của hắn. Cái đói đã tràn đến xóm này tự lúc nào. Những gia đình từ những vùng Nam Định, Thái Bình, đội chiếu lũ lượt bồng bế, dắt díu nhau lên xanh xám như những bóng ma, và nằm ngổn ngang khắp lều chợ. Người chết như ngả rạ. Không buổi sáng nào người trong làng đi chợ, đi làm đồng không gặp ba bốn cái thây nằm còng queo bên đường. Không khí vẩn lên mùi ẩm thối của rác rưởi và mùi gây của xác người. Giữa cái cảnh tối sầm lại vì đói khát ấy, một buổi chiều người trong xóm bỗng thấy Tràng về với một người đàn bà nữa. Mặt hắn có một vẻ gì phởn phơ khác thường. Hắn tủm tỉm cười nụ một mình và hai mắt thì sáng lên lấp lánh. Người đàn bà đi sau hắn chừng ba bốn bước. Thị cắp cái thúng con, đầu hơi cúi xuống, cái nón rách tàng nghiêng nghiêng che khuất đi nửa mặt. Thị có vẻ rón rén, e thẹn. Mấy đứa trẻ con thấy lạ vội chạy ra đón xem. Sợ chúng nó đùa như trước, Tràng vội vàng nghiêm nét mặt, lắc đầu ra hiệu không bằng lòng.\"\n",
    "## xóa đi các dấu câu:\n",
    "vanban = vanban.replace(\"!\",\"\")\n",
    "vanban = vanban.replace(\".\",\"\")\n",
    "vanban = vanban.replace(\",\",\"\")\n",
    "vanban = vanban.replace(\"-\",\"\")\n",
    "vanban = vanban.replace(\"?\",\"\")\n",
    "\n",
    "## cắt chuỗi vanban thành dạng list\n",
    "vanban = vanban.split()\n",
    "\n",
    "## key là từ - giá trị là số lượng từ\n",
    "D = {}\n",
    "\n",
    "for i in vanban:\n",
    "    if i not in D:\n",
    "        D[i] = vanban.count(i) ## khi mà chương trình chạy hàm count thì nó là duyệt list\n",
    "        \n",
    "print(D)\n",
    "\n",
    "# print(vanban)"
   ]
  },
  {
   "cell_type": "markdown",
   "id": "57c6f1e7",
   "metadata": {},
   "source": [
    "Viết chương trình cho phép người dùng quản lý sản phẩm, gồm các chức năng sau: \n",
    "\n",
    "- Hiển thị danh sách sản phẩm\n",
    "- Thêm sản phẩm mới vào danh sách\n",
    "- Sửa tên của sản phẩm trong danh sách\n",
    "- Xoá một sản phẩm khỏi danh sách"
   ]
  },
  {
   "cell_type": "code",
   "execution_count": null,
   "id": "8541b8c3",
   "metadata": {},
   "outputs": [],
   "source": [
    "## mình sẽ có 4 chức năng, yêu cầu người dùng nhập:\n",
    "## H - Hiển thị\n",
    "## T - Thêm\n",
    "## S - Sửa\n",
    "## X - Xóa\n",
    "## 0 - Thoát\n",
    "\n",
    "## Nếu nhập H thì hiển thị ra\n",
    "## Nếu nhập T thì:\n",
    "#### Yêu cầu người dùng nhập vào ID muốn thêm\n",
    "###### Trong trường hợp ID đã tồn tại, yêu cầu người dùng nhập lại\n",
    "###### Ngược lại: yêu cầu người dùng nhập tên sản phẩm\n",
    "## Nếu nhập S thì:\n",
    "#### Yêu cầu người dùng nhập vào ID muốn sửa\n",
    "###### Trong trường hợp ID không tồn tại, yêu cầu người dùng nhập lại\n",
    "###### Ngược lại: yêu cầu người dùng nhập tên sản phẩm mới\n",
    "## Nếu nhập X thì:\n",
    "#### Yêu cầu người dùng nhập vào ID muốn xóa\n",
    "###### Trong trường hợp ID không tồn tại, yêu cầu người dùng nhập lại\n",
    "###### Ngược lại: hỏi người dùng có chắc muốn xóa chưa? nếu chắc thì nhập C\n",
    "## Nếu nhập 0 thì thoát chương trình\n",
    "\n",
    "## tạo một Dictionary rỗng hoặc có một vài sản phẩm\n",
    "## Ví dụ: D_ds = {\"1\":\"Phở bò\",\"2\":\"Phở gà\"}"
   ]
  },
  {
   "cell_type": "code",
   "execution_count": 2,
   "id": "11a31265",
   "metadata": {},
   "outputs": [],
   "source": [
    "D_ds = {\"1\":\"Phở bò\",\"2\":\"Phở gà\"}\n",
    "# D_ds = {}"
   ]
  },
  {
   "cell_type": "code",
   "execution_count": 3,
   "id": "13b39adb",
   "metadata": {},
   "outputs": [
    {
     "name": "stdout",
     "output_type": "stream",
     "text": [
      "Nhập H - hiển thị sản phẩm\n",
      "Nhập T - thêm sản phẩm\n",
      "Nhập S - sửa sản phẩm\n",
      "Nhập X - xóa sản phẩm\n",
      "Mời nhập vào tính năng!H\n",
      "----------------\n",
      "\n",
      "1:Phở bò\n",
      "2:Phở gà\n",
      "\n",
      "----------------\n",
      "Mời nhập vào tính năng!T\n",
      "----------------\n",
      "\n",
      "1:Phở bò\n",
      "2:Phở gà\n",
      "\n",
      "----------------\n",
      "Mời nhập vào ID, nếu muốn thoát chức năng thì nhập 0:3\n",
      "Mời nhập tên sản phẩm:Phở sườn\n",
      "Mời nhập vào tính năng!H\n",
      "----------------\n",
      "\n",
      "1:Phở bò\n",
      "2:Phở gà\n",
      "3:Phở sườn\n",
      "\n",
      "----------------\n",
      "Mời nhập vào tính năng!S\n",
      "----------------\n",
      "\n",
      "1:Phở bò\n",
      "2:Phở gà\n",
      "3:Phở sườn\n",
      "\n",
      "----------------\n",
      "Mời nhập vào ID, nếu muốn thoát chức năng thì nhập 0:2\n",
      "Mời nhập tên sản phẩm muốn sửa:Phở nạm gầu\n",
      "Mời nhập vào tính năng!H\n",
      "----------------\n",
      "\n",
      "1:Phở bò\n",
      "2:Phở nạm gầu\n",
      "3:Phở sườn\n",
      "\n",
      "----------------\n",
      "Mời nhập vào tính năng!X\n",
      "----------------\n",
      "\n",
      "1:Phở bò\n",
      "2:Phở nạm gầu\n",
      "3:Phở sườn\n",
      "\n",
      "----------------\n",
      "Mời nhập vào ID, nếu muốn thoát chức năng thì nhập 0:3\n",
      "Bạn có chắc muốn xóa sản phẩm này không? Nếu có gõ C, ngược lại gõ bất kỳ:C\n",
      "Sản phẩm đã được xóa!\n",
      "Mời nhập vào tính năng!H\n",
      "----------------\n",
      "\n",
      "1:Phở bò\n",
      "2:Phở nạm gầu\n",
      "\n",
      "----------------\n",
      "Mời nhập vào tính năng!0\n"
     ]
    }
   ],
   "source": [
    "def hienthi(D):\n",
    "    print(\"----------------\")\n",
    "    print()\n",
    "    if len(D) == 0:\n",
    "        print(\"Chưa có sản phẩm nào!\")\n",
    "    for i in D:\n",
    "        print(i,\":\",D[i],sep = \"\")\n",
    "    print()\n",
    "    print(\"----------------\")\n",
    "    \n",
    "def themsanpham(D):\n",
    "    hienthi(D)\n",
    "    while True:\n",
    "        ma_id = input(\"Mời nhập vào ID, nếu muốn thoát chức năng thì nhập 0:\")\n",
    "        if ma_id == \"0\":\n",
    "            return\n",
    "        if ma_id in D:\n",
    "            print(\"ID đã tồn tại, mời nhập ID khác\")\n",
    "        else:\n",
    "            break\n",
    "    name = input(\"Mời nhập tên sản phẩm:\")\n",
    "    D[ma_id] = name\n",
    "    \n",
    "def suasanpham(D):\n",
    "    hienthi(D)\n",
    "    while True:\n",
    "        ma_id = input(\"Mời nhập vào ID, nếu muốn thoát chức năng thì nhập 0:\")\n",
    "        if ma_id == \"0\":\n",
    "            return\n",
    "        if ma_id not in D:\n",
    "            print(\"ID không tồn tại, mời nhập ID khác\")\n",
    "        else:\n",
    "            break\n",
    "    name = input(\"Mời nhập tên sản phẩm muốn sửa:\")\n",
    "    D[ma_id] = name\n",
    "    \n",
    "def xoasanpham(D):\n",
    "    hienthi(D)\n",
    "    while True:\n",
    "        ma_id = input(\"Mời nhập vào ID, nếu muốn thoát chức năng thì nhập 0:\")\n",
    "        if ma_id == \"0\":\n",
    "            return\n",
    "        if ma_id not in D:\n",
    "            print(\"ID không tồn tại, mời nhập ID khác\")\n",
    "        else:\n",
    "            break\n",
    "    chac_xoa = input(\"Bạn có chắc muốn xóa sản phẩm này không? Nếu có gõ C, ngược lại gõ bất kỳ:\")\n",
    "    if chac_xoa == \"C\":\n",
    "        D.pop(ma_id)\n",
    "        print(\"Sản phẩm đã được xóa!\")\n",
    "\n",
    "print(\"Nhập H - hiển thị sản phẩm\")\n",
    "print(\"Nhập T - thêm sản phẩm\")\n",
    "print(\"Nhập S - sửa sản phẩm\")\n",
    "print(\"Nhập X - xóa sản phẩm\")\n",
    "        \n",
    "while True:\n",
    "    \n",
    "    tinh_nang = input(\"Mời nhập vào tính năng!\")\n",
    "    if tinh_nang == \"H\":\n",
    "        hienthi(D_ds)\n",
    "    elif tinh_nang == \"T\":\n",
    "        themsanpham(D_ds)\n",
    "    elif tinh_nang == \"S\":\n",
    "        suasanpham(D_ds)\n",
    "    elif tinh_nang == \"X\":\n",
    "        xoasanpham(D_ds)\n",
    "    elif tinh_nang == \"0\":\n",
    "        break\n",
    "    \n",
    "# xoasanpham(D_ds)\n",
    "# hienthi(D_ds)"
   ]
  }
 ],
 "metadata": {
  "kernelspec": {
   "display_name": "Python 3 (ipykernel)",
   "language": "python",
   "name": "python3"
  },
  "language_info": {
   "codemirror_mode": {
    "name": "ipython",
    "version": 3
   },
   "file_extension": ".py",
   "mimetype": "text/x-python",
   "name": "python",
   "nbconvert_exporter": "python",
   "pygments_lexer": "ipython3",
   "version": "3.10.4"
  }
 },
 "nbformat": 4,
 "nbformat_minor": 5
}
