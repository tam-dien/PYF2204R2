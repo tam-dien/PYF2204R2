{
 "cells": [
  {
   "cell_type": "markdown",
   "id": "73456e5e",
   "metadata": {},
   "source": [
    "# Hàm\n",
    "\n",
    "### Hàm\n",
    "\n",
    "Cú pháp:\n",
    "\n",
    "`def <tên hàm>(<tham số)>:\n",
    "    //Nội dung hàm`\n",
    "\n",
    "Gọi hàm:\n",
    "`<tên hàm>(<giá trị đầu vào>)`\n",
    "\n",
    "Ví dụ:\n",
    "\n",
    "Hãy viết 1 hàm số để tính tổng 2 số đầu vào và in nó ra màn hình"
   ]
  },
  {
   "cell_type": "code",
   "execution_count": 3,
   "id": "af5b9f6d",
   "metadata": {},
   "outputs": [
    {
     "name": "stdout",
     "output_type": "stream",
     "text": [
      "Xin chào!\n",
      "Xin chào!\n"
     ]
    }
   ],
   "source": [
    "def xinchao(): ## def dùng để khai báo hàm, chỉ khai báo, chưa thực hiện hàm\n",
    "    print(\"Xin chào!\") ## những câu lệnh bên trong hàm sẽ không được thực hiện cho đến khi ta gọi nó\n",
    "    \n",
    "xinchao()\n",
    "xinchao()"
   ]
  },
  {
   "cell_type": "code",
   "execution_count": 5,
   "id": "e4b19761",
   "metadata": {},
   "outputs": [
    {
     "name": "stdout",
     "output_type": "stream",
     "text": [
      "hi\n",
      "hello\n",
      "hi\n",
      "hello\n"
     ]
    }
   ],
   "source": [
    "def hamdemo():\n",
    "    print(\"hi\")\n",
    "    print(\"hello\")\n",
    "    \n",
    "hamdemo()\n",
    "hamdemo()"
   ]
  },
  {
   "cell_type": "code",
   "execution_count": 14,
   "id": "15c7edac",
   "metadata": {},
   "outputs": [
    {
     "name": "stdout",
     "output_type": "stream",
     "text": [
      "Nhập tên: Tùng\n",
      "Nhập năm sinh: 90\n",
      "Xin chào Tùng, bạn có 1932 tuổi\n"
     ]
    },
    {
     "ename": "NameError",
     "evalue": "name 'ten' is not defined",
     "output_type": "error",
     "traceback": [
      "\u001b[1;31m---------------------------------------------------------------------------\u001b[0m",
      "\u001b[1;31mNameError\u001b[0m                                 Traceback (most recent call last)",
      "\u001b[1;32m~\\AppData\\Local\\Temp/ipykernel_11584/2003484493.py\u001b[0m in \u001b[0;36m<module>\u001b[1;34m\u001b[0m\n\u001b[0;32m     10\u001b[0m \u001b[0ma\u001b[0m \u001b[1;33m=\u001b[0m \u001b[1;36m2\u001b[0m \u001b[1;31m## Biến a được tạo ngoài hàm\u001b[0m\u001b[1;33m\u001b[0m\u001b[1;33m\u001b[0m\u001b[0m\n\u001b[0;32m     11\u001b[0m \u001b[0mthongtin\u001b[0m\u001b[1;33m(\u001b[0m\u001b[1;33m)\u001b[0m\u001b[1;33m\u001b[0m\u001b[1;33m\u001b[0m\u001b[0m\n\u001b[1;32m---> 12\u001b[1;33m \u001b[0mprint\u001b[0m\u001b[1;33m(\u001b[0m\u001b[0mten\u001b[0m\u001b[1;33m)\u001b[0m\u001b[1;33m\u001b[0m\u001b[1;33m\u001b[0m\u001b[0m\n\u001b[0m",
      "\u001b[1;31mNameError\u001b[0m: name 'ten' is not defined"
     ]
    }
   ],
   "source": [
    "### Viết 1 hàm cho nhập vào tên, năm sinh\n",
    "### In ra thông tin: Xin chào {tên}, bạn có {tuổi} tuổi\n",
    "def thongtin():\n",
    "    ## NHỮNG BIẾN ĐƯỢC TẠO TRONG HÀM NGƯỜI TA GỌI LÀ BIẾN LOCAL (CỤC BỘ)\n",
    "    ## Những biến Local chỉ được sử dụng bên trong hàm mà nó được tạo\n",
    "    ten = input('Nhập tên: ') ## Biến ten được tạo bên trong hàm\n",
    "    namsinh = int(input('Nhập năm sinh: ')) ## Biến namsinh được tạo bên trong hàm\n",
    "    print(\"Xin chào \",ten,', bạn có ',2022 - namsinh,' tuổi',sep = \"\")\n",
    "\n",
    "a = 2 ## Biến a được tạo ngoài hàm\n",
    "thongtin()\n",
    "print(ten) ## Biến ten ở đây sẽ không gọi được"
   ]
  },
  {
   "cell_type": "code",
   "execution_count": 15,
   "id": "c8236e48",
   "metadata": {},
   "outputs": [
    {
     "name": "stdout",
     "output_type": "stream",
     "text": [
      "2\n"
     ]
    }
   ],
   "source": [
    "def hamdemo():\n",
    "    print(a)\n",
    "    \n",
    "a = 2\n",
    "## Biến a được khai báo ở ngoài hàm thì người ta gọi biến a là biến global (toàn cục)\n",
    "## Biến global có thể được sử dụng ở bất kỳ đâu trong chương trình\n",
    "hamdemo()"
   ]
  },
  {
   "cell_type": "code",
   "execution_count": 1,
   "id": "6b3ffff2",
   "metadata": {},
   "outputs": [
    {
     "name": "stdout",
     "output_type": "stream",
     "text": [
      "2\n"
     ]
    },
    {
     "ename": "NameError",
     "evalue": "name 'a' is not defined",
     "output_type": "error",
     "traceback": [
      "\u001b[1;31m---------------------------------------------------------------------------\u001b[0m",
      "\u001b[1;31mNameError\u001b[0m                                 Traceback (most recent call last)",
      "\u001b[1;32m~\\AppData\\Local\\Temp/ipykernel_19844/1502363423.py\u001b[0m in \u001b[0;36m<module>\u001b[1;34m\u001b[0m\n\u001b[0;32m      8\u001b[0m \u001b[1;33m\u001b[0m\u001b[0m\n\u001b[0;32m      9\u001b[0m \u001b[0mhamdemo1\u001b[0m\u001b[1;33m(\u001b[0m\u001b[1;33m)\u001b[0m\u001b[1;33m\u001b[0m\u001b[1;33m\u001b[0m\u001b[0m\n\u001b[1;32m---> 10\u001b[1;33m \u001b[0mhamdemo2\u001b[0m\u001b[1;33m(\u001b[0m\u001b[1;33m)\u001b[0m\u001b[1;33m\u001b[0m\u001b[1;33m\u001b[0m\u001b[0m\n\u001b[0m",
      "\u001b[1;32m~\\AppData\\Local\\Temp/ipykernel_19844/1502363423.py\u001b[0m in \u001b[0;36mhamdemo2\u001b[1;34m()\u001b[0m\n\u001b[0;32m      5\u001b[0m \u001b[1;32mdef\u001b[0m \u001b[0mhamdemo2\u001b[0m\u001b[1;33m(\u001b[0m\u001b[1;33m)\u001b[0m\u001b[1;33m:\u001b[0m\u001b[1;33m\u001b[0m\u001b[1;33m\u001b[0m\u001b[0m\n\u001b[0;32m      6\u001b[0m     \u001b[0mb\u001b[0m \u001b[1;33m=\u001b[0m \u001b[1;36m3\u001b[0m\u001b[1;33m\u001b[0m\u001b[1;33m\u001b[0m\u001b[0m\n\u001b[1;32m----> 7\u001b[1;33m     \u001b[0mprint\u001b[0m\u001b[1;33m(\u001b[0m\u001b[0ma\u001b[0m\u001b[1;33m)\u001b[0m\u001b[1;33m\u001b[0m\u001b[1;33m\u001b[0m\u001b[0m\n\u001b[0m\u001b[0;32m      8\u001b[0m \u001b[1;33m\u001b[0m\u001b[0m\n\u001b[0;32m      9\u001b[0m \u001b[0mhamdemo1\u001b[0m\u001b[1;33m(\u001b[0m\u001b[1;33m)\u001b[0m\u001b[1;33m\u001b[0m\u001b[1;33m\u001b[0m\u001b[0m\n",
      "\u001b[1;31mNameError\u001b[0m: name 'a' is not defined"
     ]
    }
   ],
   "source": [
    "def hamdemo1():\n",
    "    a = 2\n",
    "    print(a)\n",
    "    \n",
    "def hamdemo2():\n",
    "    b = 3\n",
    "    print(a)\n",
    "    \n",
    "hamdemo1()\n",
    "hamdemo2()"
   ]
  },
  {
   "cell_type": "code",
   "execution_count": 2,
   "id": "f0531b74",
   "metadata": {},
   "outputs": [
    {
     "name": "stdout",
     "output_type": "stream",
     "text": [
      "2\n"
     ]
    }
   ],
   "source": [
    "def hamdemo1():\n",
    "    a = 2 ## Khởi tạo 1 biến local tên là a có giá trị 2\n",
    "    print(a)\n",
    "    \n",
    "a = 7\n",
    "hamdemo1()\n",
    "print(a)"
   ]
  },
  {
   "cell_type": "code",
   "execution_count": 3,
   "id": "ca35519d",
   "metadata": {
    "scrolled": true
   },
   "outputs": [
    {
     "ename": "UnboundLocalError",
     "evalue": "local variable 'a' referenced before assignment",
     "output_type": "error",
     "traceback": [
      "\u001b[1;31m---------------------------------------------------------------------------\u001b[0m",
      "\u001b[1;31mUnboundLocalError\u001b[0m                         Traceback (most recent call last)",
      "\u001b[1;32m~\\AppData\\Local\\Temp/ipykernel_19844/1890234540.py\u001b[0m in \u001b[0;36m<module>\u001b[1;34m\u001b[0m\n\u001b[0;32m      4\u001b[0m \u001b[1;33m\u001b[0m\u001b[0m\n\u001b[0;32m      5\u001b[0m \u001b[0ma\u001b[0m \u001b[1;33m=\u001b[0m \u001b[1;36m7\u001b[0m\u001b[1;33m\u001b[0m\u001b[1;33m\u001b[0m\u001b[0m\n\u001b[1;32m----> 6\u001b[1;33m \u001b[0mhamdemo1\u001b[0m\u001b[1;33m(\u001b[0m\u001b[1;33m)\u001b[0m\u001b[1;33m\u001b[0m\u001b[1;33m\u001b[0m\u001b[0m\n\u001b[0m\u001b[0;32m      7\u001b[0m \u001b[0mprint\u001b[0m\u001b[1;33m(\u001b[0m\u001b[0ma\u001b[0m\u001b[1;33m)\u001b[0m\u001b[1;33m\u001b[0m\u001b[1;33m\u001b[0m\u001b[0m\n",
      "\u001b[1;32m~\\AppData\\Local\\Temp/ipykernel_19844/1890234540.py\u001b[0m in \u001b[0;36mhamdemo1\u001b[1;34m()\u001b[0m\n\u001b[0;32m      1\u001b[0m \u001b[1;32mdef\u001b[0m \u001b[0mhamdemo1\u001b[0m\u001b[1;33m(\u001b[0m\u001b[1;33m)\u001b[0m\u001b[1;33m:\u001b[0m\u001b[1;33m\u001b[0m\u001b[1;33m\u001b[0m\u001b[0m\n\u001b[1;32m----> 2\u001b[1;33m     \u001b[0mprint\u001b[0m\u001b[1;33m(\u001b[0m\u001b[0ma\u001b[0m\u001b[1;33m)\u001b[0m\u001b[1;33m\u001b[0m\u001b[1;33m\u001b[0m\u001b[0m\n\u001b[0m\u001b[0;32m      3\u001b[0m     \u001b[0ma\u001b[0m \u001b[1;33m=\u001b[0m \u001b[1;36m2\u001b[0m\u001b[1;33m\u001b[0m\u001b[1;33m\u001b[0m\u001b[0m\n\u001b[0;32m      4\u001b[0m \u001b[1;33m\u001b[0m\u001b[0m\n\u001b[0;32m      5\u001b[0m \u001b[0ma\u001b[0m \u001b[1;33m=\u001b[0m \u001b[1;36m7\u001b[0m\u001b[1;33m\u001b[0m\u001b[1;33m\u001b[0m\u001b[0m\n",
      "\u001b[1;31mUnboundLocalError\u001b[0m: local variable 'a' referenced before assignment"
     ]
    }
   ],
   "source": [
    "def hamdemo1():\n",
    "    print(a) ## Chỉ cần trong hàm có lệnh a = ??? thì hàm sẽ hiểu a là biến local dù cho ta đặt lệnh a = ở đâu đi chăng nữa\n",
    "    a = 2\n",
    "    \n",
    "a = 7\n",
    "hamdemo1()\n",
    "print(a)"
   ]
  },
  {
   "cell_type": "code",
   "execution_count": 4,
   "id": "2c676e09",
   "metadata": {},
   "outputs": [
    {
     "name": "stdout",
     "output_type": "stream",
     "text": [
      "7\n",
      "7\n"
     ]
    }
   ],
   "source": [
    "def hamdemo1():\n",
    "    print(a) ## Xài biến global\n",
    "    \n",
    "a = 7\n",
    "hamdemo1()\n",
    "print(a)"
   ]
  },
  {
   "cell_type": "code",
   "execution_count": 5,
   "id": "ed62deb2",
   "metadata": {},
   "outputs": [
    {
     "name": "stdout",
     "output_type": "stream",
     "text": [
      "3\n",
      "3\n"
     ]
    }
   ],
   "source": [
    "## Mình muốn thay đổi giá trị biến a global bên trong hàm thì phải làm sao?\n",
    "\n",
    "def hamdemo1():\n",
    "    global a\n",
    "    a = 3 ## a vẫn là biến global, khi ta thay đổi giá trị a tức ta đang thay đổi giá trị biến global\n",
    "    print(a)\n",
    "    \n",
    "a = 7\n",
    "hamdemo1()\n",
    "print(a)"
   ]
  },
  {
   "cell_type": "code",
   "execution_count": 2,
   "id": "6c665bd5",
   "metadata": {},
   "outputs": [
    {
     "name": "stdout",
     "output_type": "stream",
     "text": [
      "9\n"
     ]
    }
   ],
   "source": [
    "def mu2(a): ## a là tham số của hàm, a là biến LOCAL, giá trị của a sẽ phụ thuộc vào giá trị mà ta đưa vào khi gọi hàm\n",
    "    b = a**2\n",
    "    print(b)\n",
    "    \n",
    "mu2(3)"
   ]
  },
  {
   "cell_type": "code",
   "execution_count": 3,
   "id": "9df29c65",
   "metadata": {},
   "outputs": [
    {
     "ename": "SyntaxError",
     "evalue": "name 'a' is parameter and global (Temp/ipykernel_19068/1983799306.py, line 2)",
     "output_type": "error",
     "traceback": [
      "\u001b[1;36m  File \u001b[1;32m\"C:\\Users\\tamdi\\AppData\\Local\\Temp/ipykernel_19068/1983799306.py\"\u001b[1;36m, line \u001b[1;32m2\u001b[0m\n\u001b[1;33m    global a\u001b[0m\n\u001b[1;37m    ^\u001b[0m\n\u001b[1;31mSyntaxError\u001b[0m\u001b[1;31m:\u001b[0m name 'a' is parameter and global\n"
     ]
    }
   ],
   "source": [
    "def mu2(a): ## a là tham số của hàm, a là biến LOCAL\n",
    "    global a ## khi a đã là tham số của hàm thì KHÔNG được global a\n",
    "    b = a**2\n",
    "    print(b)\n",
    "    \n",
    "a = 7 ## a là biến global\n",
    "mu2(3)"
   ]
  },
  {
   "cell_type": "code",
   "execution_count": 6,
   "id": "5055a1ca",
   "metadata": {},
   "outputs": [
    {
     "name": "stdout",
     "output_type": "stream",
     "text": [
      "7 x 1 = 7\n",
      "7 x 2 = 14\n",
      "7 x 3 = 21\n",
      "7 x 4 = 28\n",
      "7 x 5 = 35\n",
      "7 x 6 = 42\n",
      "7 x 7 = 49\n",
      "7 x 8 = 56\n",
      "7 x 9 = 63\n",
      "7 x 10 = 70\n"
     ]
    }
   ],
   "source": [
    "## viết hàm đưa vào 1 tham số đầu vào, sau đó in ra bảng cửu chương của số đó\n",
    "def bangcuuchuong(a):\n",
    "    for i in range (1,11):\n",
    "        print(a,'x',i,'=', a*i)\n",
    "        \n",
    "bangcuuchuong(7)"
   ]
  },
  {
   "cell_type": "code",
   "execution_count": 8,
   "id": "c3d299e1",
   "metadata": {
    "scrolled": true
   },
   "outputs": [
    {
     "name": "stdout",
     "output_type": "stream",
     "text": [
      "10\n",
      "29\n"
     ]
    }
   ],
   "source": [
    "def tong(a,b):\n",
    "    c = a + b\n",
    "    print(c)\n",
    "\n",
    "tong(3,7)\n",
    "tong(14,15)"
   ]
  },
  {
   "cell_type": "code",
   "execution_count": 11,
   "id": "89b57d00",
   "metadata": {},
   "outputs": [
    {
     "ename": "TypeError",
     "evalue": "bad operand type for abs(): 'str'",
     "output_type": "error",
     "traceback": [
      "\u001b[1;31m---------------------------------------------------------------------------\u001b[0m",
      "\u001b[1;31mTypeError\u001b[0m                                 Traceback (most recent call last)",
      "\u001b[1;32m~\\AppData\\Local\\Temp/ipykernel_19068/3396835749.py\u001b[0m in \u001b[0;36m<module>\u001b[1;34m\u001b[0m\n\u001b[0;32m      1\u001b[0m \u001b[0ma\u001b[0m \u001b[1;33m=\u001b[0m \u001b[0mabs\u001b[0m\u001b[1;33m(\u001b[0m\u001b[1;33m-\u001b[0m\u001b[1;36m7\u001b[0m\u001b[1;33m)\u001b[0m \u001b[1;31m## Hàm abs là hàm trị tuyệt đối\u001b[0m\u001b[1;33m\u001b[0m\u001b[1;33m\u001b[0m\u001b[0m\n\u001b[1;32m----> 2\u001b[1;33m \u001b[0ma\u001b[0m \u001b[1;33m=\u001b[0m \u001b[0mabs\u001b[0m\u001b[1;33m(\u001b[0m\u001b[1;34m'-7'\u001b[0m\u001b[1;33m)\u001b[0m\u001b[1;33m\u001b[0m\u001b[1;33m\u001b[0m\u001b[0m\n\u001b[0m\u001b[0;32m      3\u001b[0m \u001b[0mprint\u001b[0m\u001b[1;33m(\u001b[0m\u001b[0ma\u001b[0m\u001b[1;33m)\u001b[0m\u001b[1;33m\u001b[0m\u001b[1;33m\u001b[0m\u001b[0m\n",
      "\u001b[1;31mTypeError\u001b[0m: bad operand type for abs(): 'str'"
     ]
    }
   ],
   "source": [
    "a = abs(-7) ## Hàm abs là hàm trị tuyệt đối\n",
    "a = abs('-7') ## Do mình đưa sai kiểu dữ liệu\n",
    "print(a)"
   ]
  },
  {
   "cell_type": "code",
   "execution_count": 13,
   "id": "a47b80a9",
   "metadata": {},
   "outputs": [
    {
     "name": "stdout",
     "output_type": "stream",
     "text": [
      "0.7\n"
     ]
    }
   ],
   "source": [
    "def demo(a): ## Mọi người có biết tham số người ta đưa vào có kiểu dữ gì không??\n",
    "    ## Cần quy định kiểu dữ liệu của tham số\n",
    "    b = a / 10\n",
    "    print(b)\n",
    "\n",
    "demo(7) ## Đã đối xử với a như là số thì phải gọi nó với kiểu số"
   ]
  },
  {
   "cell_type": "code",
   "execution_count": 15,
   "id": "a88aa059",
   "metadata": {
    "scrolled": false
   },
   "outputs": [
    {
     "ename": "AttributeError",
     "evalue": "'int' object has no attribute 'upper'",
     "output_type": "error",
     "traceback": [
      "\u001b[1;31m---------------------------------------------------------------------------\u001b[0m",
      "\u001b[1;31mAttributeError\u001b[0m                            Traceback (most recent call last)",
      "\u001b[1;32m~\\AppData\\Local\\Temp/ipykernel_19068/3559987701.py\u001b[0m in \u001b[0;36m<module>\u001b[1;34m\u001b[0m\n\u001b[0;32m      3\u001b[0m     \u001b[0mprint\u001b[0m\u001b[1;33m(\u001b[0m\u001b[0ma\u001b[0m\u001b[1;33m)\u001b[0m\u001b[1;33m\u001b[0m\u001b[1;33m\u001b[0m\u001b[0m\n\u001b[0;32m      4\u001b[0m \u001b[1;33m\u001b[0m\u001b[0m\n\u001b[1;32m----> 5\u001b[1;33m \u001b[0mdemo\u001b[0m\u001b[1;33m(\u001b[0m\u001b[1;36m7\u001b[0m\u001b[1;33m)\u001b[0m\u001b[1;33m\u001b[0m\u001b[1;33m\u001b[0m\u001b[0m\n\u001b[0m",
      "\u001b[1;32m~\\AppData\\Local\\Temp/ipykernel_19068/3559987701.py\u001b[0m in \u001b[0;36mdemo\u001b[1;34m(s)\u001b[0m\n\u001b[0;32m      1\u001b[0m \u001b[1;32mdef\u001b[0m \u001b[0mdemo\u001b[0m\u001b[1;33m(\u001b[0m\u001b[0ms\u001b[0m\u001b[1;33m)\u001b[0m\u001b[1;33m:\u001b[0m\u001b[1;33m\u001b[0m\u001b[1;33m\u001b[0m\u001b[0m\n\u001b[1;32m----> 2\u001b[1;33m     \u001b[0ma\u001b[0m \u001b[1;33m=\u001b[0m \u001b[0ms\u001b[0m\u001b[1;33m.\u001b[0m\u001b[0mupper\u001b[0m\u001b[1;33m(\u001b[0m\u001b[1;33m)\u001b[0m\u001b[1;33m\u001b[0m\u001b[1;33m\u001b[0m\u001b[0m\n\u001b[0m\u001b[0;32m      3\u001b[0m     \u001b[0mprint\u001b[0m\u001b[1;33m(\u001b[0m\u001b[0ma\u001b[0m\u001b[1;33m)\u001b[0m\u001b[1;33m\u001b[0m\u001b[1;33m\u001b[0m\u001b[0m\n\u001b[0;32m      4\u001b[0m \u001b[1;33m\u001b[0m\u001b[0m\n\u001b[0;32m      5\u001b[0m \u001b[0mdemo\u001b[0m\u001b[1;33m(\u001b[0m\u001b[1;36m7\u001b[0m\u001b[1;33m)\u001b[0m\u001b[1;33m\u001b[0m\u001b[1;33m\u001b[0m\u001b[0m\n",
      "\u001b[1;31mAttributeError\u001b[0m: 'int' object has no attribute 'upper'"
     ]
    }
   ],
   "source": [
    "def demo(s):\n",
    "    a = s.upper()\n",
    "    print(a)\n",
    "    \n",
    "demo(7)"
   ]
  },
  {
   "cell_type": "code",
   "execution_count": 17,
   "id": "6b5df072",
   "metadata": {},
   "outputs": [
    {
     "name": "stdout",
     "output_type": "stream",
     "text": [
      "12\n",
      "8\n",
      "5.0\n",
      "20\n"
     ]
    }
   ],
   "source": [
    "## Viết hàm có 2 tham số đầu vào là 2 kiểu số nguyên. Hãy tính tổng, tích, thương, hiệu của 2 số đó rồi in ra màn hình\n",
    "def tinh2so(a,b):\n",
    "    t = a + b\n",
    "    h = a -b\n",
    "    th= a/b\n",
    "    ti= a*b \n",
    "    print(t)\n",
    "    print(h)\n",
    "    print(th)\n",
    "    print(ti)\n",
    "    \n",
    "tinh2so(10,2)"
   ]
  },
  {
   "cell_type": "code",
   "execution_count": 19,
   "id": "7c5b0ff5",
   "metadata": {},
   "outputs": [
    {
     "name": "stdout",
     "output_type": "stream",
     "text": [
      "Tên sản phẩm: Bột giặt\n",
      "Giá: 150000\n",
      "Nhập số lượng cần mua:15\n",
      "Số tiền cần trả là: 2250000\n"
     ]
    }
   ],
   "source": [
    "## Viết hàm có 2 tham số đầu vào là s và a, với s - kiểu chuỗi, a - kiểu số nguyên\n",
    "## S là tên của sản phẩm, a là giá tiền của sản phẩm đó\n",
    "## Hãy in ra màn hình và mời người nhập vào số lượng cần mua của sản phẩm\n",
    "## Tính và in ra tổng giá tiền cần phải trả\n",
    "\n",
    "def hanghoa(S,a):\n",
    "    print(\"Tên sản phẩm:\",S)\n",
    "    print(\"Giá:\",a)\n",
    "    l = int(input(\"Nhập số lượng cần mua:\"))\n",
    "    l = l * a\n",
    "    print(\"Số tiền cần trả là:\",l)\n",
    "    \n",
    "hanghoa(\"Bột giặt\",150000)"
   ]
  },
  {
   "cell_type": "markdown",
   "id": "21f5432f",
   "metadata": {},
   "source": [
    "### Giá trị trả về của hàm\n",
    "\n",
    "# return\n",
    "\n",
    "Cú pháp:\n",
    "\n",
    "`retrun <giá trị trả về>`\n",
    "\n",
    "##### Lưu ý: Sau khi thực hiện lệnh return, chương trình sẽ thoát khỏi hàm ngay lập tức (những lệnh sau đó không được thực hiện)\n",
    "\n",
    "Ví dụ:\n",
    "\n",
    "Hãy viết 1 hàm trả về giá trị trung bình của 2 số bất kỳ"
   ]
  },
  {
   "cell_type": "code",
   "execution_count": 20,
   "id": "02671c8a",
   "metadata": {},
   "outputs": [
    {
     "name": "stdout",
     "output_type": "stream",
     "text": [
      "7\n"
     ]
    }
   ],
   "source": [
    "a = abs(7) ## Giá trị của hàm abs là 7, và ta chứa giá trị đó vào a\n",
    "print(a)"
   ]
  },
  {
   "cell_type": "code",
   "execution_count": 22,
   "id": "dc485444",
   "metadata": {},
   "outputs": [
    {
     "name": "stdout",
     "output_type": "stream",
     "text": [
      "22\n"
     ]
    }
   ],
   "source": [
    "def tong(a,b):\n",
    "    S = a + b\n",
    "    return S\n",
    "\n",
    "c = tong(10,12) ## c mang giá trị là 22\n",
    "print(c)"
   ]
  },
  {
   "cell_type": "code",
   "execution_count": 23,
   "id": "b2f4897f",
   "metadata": {},
   "outputs": [
    {
     "name": "stdout",
     "output_type": "stream",
     "text": [
      "Tên sản phẩm: Bột giặt\n",
      "Giá: 150000\n",
      "Nhập số lượng cần mua:10\n",
      "1500000\n"
     ]
    }
   ],
   "source": [
    "## Viết hàm có 2 tham số đầu vào là s và a, với s - kiểu chuỗi, a - kiểu số nguyên\n",
    "## S là tên của sản phẩm, a là giá tiền của sản phẩm đó\n",
    "## Hãy in ra màn hình và mời người nhập vào số lượng cần mua của sản phẩm\n",
    "## Tính và trả về tổng giá tiền cần phải trả\n",
    "\n",
    "def hanghoa(S,a):\n",
    "    print(\"Tên sản phẩm:\",S)\n",
    "    print(\"Giá:\",a)\n",
    "    l = int(input(\"Nhập số lượng cần mua:\"))\n",
    "    l = l * a\n",
    "    return l\n",
    "#     print(\"Số tiền cần trả là:\",l)\n",
    "    \n",
    "a = hanghoa(\"Bột giặt\",150000)\n",
    "print(a)"
   ]
  },
  {
   "cell_type": "code",
   "execution_count": 26,
   "id": "917e02e0",
   "metadata": {},
   "outputs": [
    {
     "name": "stdout",
     "output_type": "stream",
     "text": [
      "Tên sản phẩm: Cơm sườn\n",
      "Giá: 30000\n",
      "Nhập số lượng cần mua:10\n",
      "----------------\n",
      "Tên sản phẩm: Cơm gà\n",
      "Giá: 35000\n",
      "Nhập số lượng cần mua:5\n",
      "----------------\n",
      "Tên sản phẩm: Cơm trứng\n",
      "Giá: 25000\n",
      "Nhập số lượng cần mua:10\n",
      "----------------\n",
      "Tổng: 725000\n"
     ]
    }
   ],
   "source": [
    "## Dựa vào hàm đã viết ở bài trên, viết chương trình hỏi người dùng số lượng cần mua 3 sản phẩm sau:\n",
    "## Cơm sườn - 30000\n",
    "## Cơm gà - 35000\n",
    "## Cơm trứng - 25000\n",
    "## Sau khi người dùng đã nhập số lượng, tính và in ra tổng toàn bộ số tiền cần phải trả\n",
    "\n",
    "def hanghoa(S,a):\n",
    "    print(\"Tên sản phẩm:\",S)\n",
    "    print(\"Giá:\",a)\n",
    "    l = int(input(\"Nhập số lượng cần mua:\"))\n",
    "    l = l * a\n",
    "    return l\n",
    "\n",
    "gia_suon = hanghoa(\"Cơm sườn\",30000)\n",
    "print(\"----------------\")\n",
    "gia_ga = hanghoa(\"Cơm gà\",35000)\n",
    "print(\"----------------\")\n",
    "gia_trung = hanghoa(\"Cơm trứng\",25000)\n",
    "print(\"----------------\")\n",
    "tong = gia_suon + gia_ga + gia_trung\n",
    "print(\"Tổng:\",tong)"
   ]
  },
  {
   "cell_type": "markdown",
   "id": "1d7f8db0",
   "metadata": {},
   "source": [
    "### Bài tập"
   ]
  },
  {
   "cell_type": "markdown",
   "id": "75fb488b",
   "metadata": {},
   "source": [
    "Viết hàm kiểm tra số nguyên tố"
   ]
  },
  {
   "cell_type": "code",
   "execution_count": 31,
   "id": "63701bd7",
   "metadata": {},
   "outputs": [
    {
     "name": "stdout",
     "output_type": "stream",
     "text": [
      "True\n"
     ]
    }
   ],
   "source": [
    "### Đưa vào hàm 1 tham số là số nguyên, kiểm tra xem số đó có phải là số nguyên hay không, nếu có thì trả về True\n",
    "### nếu không thì trả về False\n",
    "\n",
    "def checknum(a):\n",
    "    kiemtra = True\n",
    "    if (a < 2):\n",
    "        return False\n",
    "    else:\n",
    "        for i in range(2,a): ## i sẽ chạy từ 2 đến a-1\n",
    "            if a % i == 0: ## nếu phát hiện i là số mà n không chia hết thì\n",
    "                kiemtra = False ## cho kiểm tra bằng False (để tí nữa return False)\n",
    "                break ## ngừng dòng for\n",
    "        return kiemtra ## nếu chạy hết for mà không tìm thấy được i nào mà n chia hết thì return True\n",
    "    \n",
    "print(checknum(11))\n"
   ]
  },
  {
   "cell_type": "markdown",
   "id": "221103cf",
   "metadata": {},
   "source": [
    "Nhập vào 3 điểm toán, lý, hóa\n",
    "\n",
    "Hãy viết hàm in điểm trung bung bình rồi tính điểm trung bình của toán lý, toán hóa, lý hóa và toán lý hóa"
   ]
  },
  {
   "cell_type": "code",
   "execution_count": 33,
   "id": "1ba1d8ae",
   "metadata": {},
   "outputs": [
    {
     "name": "stdout",
     "output_type": "stream",
     "text": [
      "nhap vao diem toan: 8\n",
      "nhap vao diem ly: 9\n",
      "nhap vao diem hoa: 10\n",
      "Điểm trung 3 môn là:\n",
      "9.0\n",
      "Điểm trung 2 môn toán lý là:\n",
      "8.5\n",
      "Điểm trung 2 môn toán hóa là:\n",
      "9.0\n",
      "Điểm trung 2 môn hóa lý là:\n",
      "9.5\n"
     ]
    }
   ],
   "source": [
    "## Viết hàm tính và trả về điểm trung bình của toán lý, toán hóa, lý hóa và toán lý hóa\n",
    "## Mình cần viết 2 hàm\n",
    "## 1 hàm sẽ có 3 tham số (hàm tính điểm trung bình của 3 môn)\n",
    "## 1 hàm sẽ có 2 tham số (hàm tính điểm trung bình của 2 môn)\n",
    "\n",
    "def tinhtb3(a,b,c):\n",
    "    dtb = (a+b+c)/3\n",
    "    print(dtb)\n",
    "    \n",
    "def tinhtb2(a,b):\n",
    "    print((a+b)/2)\n",
    "    \n",
    "toan = float(input(\"nhap vao diem toan: \"))\n",
    "ly = float(input(\"nhap vao diem ly: \"))\n",
    "hoa = float(input(\"nhap vao diem hoa: \"))\n",
    "\n",
    "print(\"Điểm trung 3 môn là:\")\n",
    "tinhtb3(toan,ly,hoa)\n",
    "print(\"Điểm trung 2 môn toán lý là:\")\n",
    "tinhtb2(toan,ly)\n",
    "print(\"Điểm trung 2 môn toán hóa là:\")\n",
    "tinhtb2(toan,hoa)\n",
    "print(\"Điểm trung 2 môn hóa lý là:\")\n",
    "tinhtb2(hoa,ly)"
   ]
  },
  {
   "cell_type": "markdown",
   "id": "06eb5c4a",
   "metadata": {},
   "source": [
    "Viết hàm tính giai thừa của một số"
   ]
  },
  {
   "cell_type": "code",
   "execution_count": 35,
   "id": "7b91ddf0",
   "metadata": {},
   "outputs": [
    {
     "name": "stdout",
     "output_type": "stream",
     "text": [
      "5040\n"
     ]
    }
   ],
   "source": [
    "## Giai thừa:\n",
    "## 1! = 1\n",
    "## 2! = 1*2\n",
    "## 3! = 1*2*3\n",
    "## 4! = 1*2*3*4\n",
    "## Viết hàm giaithua có 1 tham số đầu vào là số nguyên, tính và trả về giá trị giai thừa của số nguyên đó\n",
    "def giaithua(a):\n",
    "    if a == 0:\n",
    "        return 1\n",
    "    else:\n",
    "        kq = 1\n",
    "        for i in range(1,a+1): ## i sẽ chạy từ 1 đến a\n",
    "            kq *= i\n",
    "        return kq\n",
    "    \n",
    "print(giaithua(7))"
   ]
  },
  {
   "cell_type": "markdown",
   "id": "50f43307",
   "metadata": {},
   "source": [
    "Viết hàm đếm số lượng từ của một chuỗi đưa vào"
   ]
  },
  {
   "cell_type": "code",
   "execution_count": null,
   "id": "be785b29",
   "metadata": {},
   "outputs": [],
   "source": []
  },
  {
   "cell_type": "markdown",
   "id": "696aa7d2",
   "metadata": {},
   "source": [
    "Viết hàm có giá trị đầu vào là tên sản phẩm, giá một sản phẩm và số lượng sản phẩm, tính và trả về tổng giá tiền"
   ]
  },
  {
   "cell_type": "code",
   "execution_count": null,
   "id": "da2213a2",
   "metadata": {},
   "outputs": [],
   "source": []
  },
  {
   "cell_type": "markdown",
   "id": "acdf1356",
   "metadata": {},
   "source": [
    "Viết hàm lấy tên đệm\n",
    "\n",
    "Ví dụ: Nhập vào \"Nguyễn Tâm Điền\"\n",
    "\n",
    "Kết quả in ra là: \"Tâm\""
   ]
  },
  {
   "cell_type": "code",
   "execution_count": null,
   "id": "a5255f7a",
   "metadata": {},
   "outputs": [],
   "source": []
  },
  {
   "cell_type": "markdown",
   "id": "b4adef40",
   "metadata": {},
   "source": [
    "Viết một hàm vẽ hình tròn, một hàm vẽ hình vuông và một hàm vẽ hình tam giác đều (giá trị đầu vào là a)\n",
    "\n",
    "Tất cả hàm này, bắt đầu từ 1 vị trí, sau khi vẽ ra, con trỏ sẽ tiến tới vị trí tiếp theo, cách vì đầu một khoảng a + 10 theo chiều x từ trái sang"
   ]
  },
  {
   "cell_type": "code",
   "execution_count": null,
   "id": "e405d1d4",
   "metadata": {},
   "outputs": [],
   "source": []
  }
 ],
 "metadata": {
  "kernelspec": {
   "display_name": "Python 3 (ipykernel)",
   "language": "python",
   "name": "python3"
  },
  "language_info": {
   "codemirror_mode": {
    "name": "ipython",
    "version": 3
   },
   "file_extension": ".py",
   "mimetype": "text/x-python",
   "name": "python",
   "nbconvert_exporter": "python",
   "pygments_lexer": "ipython3",
   "version": "3.10.4"
  }
 },
 "nbformat": 4,
 "nbformat_minor": 5
}
