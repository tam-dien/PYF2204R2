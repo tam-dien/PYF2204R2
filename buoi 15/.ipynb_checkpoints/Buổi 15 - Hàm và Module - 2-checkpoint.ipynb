{
 "cells": [
  {
   "cell_type": "markdown",
   "id": "f7589d41",
   "metadata": {},
   "source": [
    "### Bài tập"
   ]
  },
  {
   "cell_type": "markdown",
   "id": "26d8e592",
   "metadata": {},
   "source": [
    "Viết hàm đếm số lượng từ của một chuỗi đưa vào"
   ]
  },
  {
   "cell_type": "code",
   "execution_count": null,
   "id": "c753ca53",
   "metadata": {},
   "outputs": [],
   "source": []
  },
  {
   "cell_type": "markdown",
   "id": "2098e926",
   "metadata": {},
   "source": [
    "Viết hàm tìm ƯCLN của 2 số đưa vào"
   ]
  },
  {
   "cell_type": "code",
   "execution_count": null,
   "id": "cb65fd8d",
   "metadata": {},
   "outputs": [],
   "source": []
  },
  {
   "cell_type": "markdown",
   "id": "c8424536",
   "metadata": {},
   "source": [
    "Viết hàm vẽ hình lục giác với kích thước đưa vào"
   ]
  },
  {
   "cell_type": "code",
   "execution_count": null,
   "id": "3272b492",
   "metadata": {},
   "outputs": [],
   "source": []
  },
  {
   "cell_type": "markdown",
   "id": "e60585f8",
   "metadata": {},
   "source": [
    "Nhập vào a, b, c\n",
    "\n",
    "Hãy viết hàm sắp xếp a, b, c theo thứ tự từ bé đến lớn"
   ]
  },
  {
   "cell_type": "code",
   "execution_count": null,
   "id": "38f78d2e",
   "metadata": {},
   "outputs": [],
   "source": []
  }
 ],
 "metadata": {
  "kernelspec": {
   "display_name": "Python 3 (ipykernel)",
   "language": "python",
   "name": "python3"
  },
  "language_info": {
   "codemirror_mode": {
    "name": "ipython",
    "version": 3
   },
   "file_extension": ".py",
   "mimetype": "text/x-python",
   "name": "python",
   "nbconvert_exporter": "python",
   "pygments_lexer": "ipython3",
   "version": "3.9.5"
  }
 },
 "nbformat": 4,
 "nbformat_minor": 5
}
