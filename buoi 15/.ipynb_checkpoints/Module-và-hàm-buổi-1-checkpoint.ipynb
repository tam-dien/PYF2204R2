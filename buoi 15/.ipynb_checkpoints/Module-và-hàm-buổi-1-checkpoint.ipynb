{
 "cells": [
  {
   "cell_type": "markdown",
   "id": "05948314",
   "metadata": {},
   "source": [
    "# Function"
   ]
  },
  {
   "cell_type": "markdown",
   "id": "3b68247e",
   "metadata": {},
   "source": [
    "## Function(hàm) là gì?"
   ]
  },
  {
   "cell_type": "markdown",
   "id": "cf84a685",
   "metadata": {},
   "source": [
    "Hàm (function) là một khối lệnh đặc biệt, nó được đặt tên, giúp mã chương trình dễ đọc hơn, và có thể gọi để sử dụng ở các nơi khác nhau trong chương trình. Hàm chính là khối lệnh có thể tái sử dụng (reuseable)."
   ]
  },
  {
   "cell_type": "markdown",
   "id": "18f95aa8",
   "metadata": {},
   "source": [
    "### Ví dụ: Hàm in"
   ]
  },
  {
   "cell_type": "code",
   "execution_count": null,
   "id": "0d5f66b5",
   "metadata": {},
   "outputs": [],
   "source": []
  },
  {
   "cell_type": "markdown",
   "id": "29c55e2b",
   "metadata": {},
   "source": [
    "### Ví dụ: Hàm tính giá trị tuyệt đối"
   ]
  },
  {
   "cell_type": "code",
   "execution_count": null,
   "id": "e492700a",
   "metadata": {},
   "outputs": [],
   "source": []
  },
  {
   "cell_type": "markdown",
   "id": "07fa617d",
   "metadata": {},
   "source": [
    "### Ví dụ: Hàm vẽ hình tròn"
   ]
  },
  {
   "cell_type": "code",
   "execution_count": null,
   "id": "2a2dec85",
   "metadata": {},
   "outputs": [],
   "source": []
  },
  {
   "cell_type": "markdown",
   "id": "c4575e29",
   "metadata": {},
   "source": [
    "## Xây dựng và sử dụng hàm trong python"
   ]
  },
  {
   "cell_type": "markdown",
   "id": "00ac6720",
   "metadata": {},
   "source": [
    "### Hàm say_hello"
   ]
  },
  {
   "cell_type": "code",
   "execution_count": null,
   "id": "47575691",
   "metadata": {},
   "outputs": [],
   "source": []
  },
  {
   "cell_type": "markdown",
   "id": "f9b6f894",
   "metadata": {},
   "source": [
    "### Hàm vẽ cây thông"
   ]
  },
  {
   "cell_type": "code",
   "execution_count": null,
   "id": "7ffc1c65",
   "metadata": {},
   "outputs": [],
   "source": []
  },
  {
   "cell_type": "markdown",
   "id": "77fa1ef1",
   "metadata": {},
   "source": [
    "## doc_string cho hàm"
   ]
  },
  {
   "cell_type": "code",
   "execution_count": 6,
   "id": "8dcf448b",
   "metadata": {},
   "outputs": [
    {
     "name": "stdout",
     "output_type": "stream",
     "text": [
      "Hàm calculate_rectangle_perimeter dùng để tính chu vi của hình chữ nhật với chiều dài và chiều rộng cho trước\n",
      "Nhận vào: chieu_dai, chieu_rong\n",
      "Trả ra: chu_vi hình chữ nhật\n"
     ]
    }
   ],
   "source": []
  },
  {
   "cell_type": "markdown",
   "id": "4cb69485",
   "metadata": {},
   "source": [
    "## Giá trị trả về của hàm"
   ]
  },
  {
   "cell_type": "code",
   "execution_count": 22,
   "id": "24592238",
   "metadata": {
    "scrolled": true
   },
   "outputs": [
    {
     "name": "stdout",
     "output_type": "stream",
     "text": [
      "Độ dài của chuỗi 1 là 10\n",
      "Độ dài của chuỗi 2 là 9\n"
     ]
    },
    {
     "data": {
      "text/plain": [
       "'\\nif len1 <= len2:\\n    print(\"Chuỗi 2 dài hơn\")\\nelse: \\n    print(\"Chuỗi 1 dài hơn\")\\n'"
      ]
     },
     "execution_count": 22,
     "metadata": {},
     "output_type": "execute_result"
    }
   ],
   "source": [
    "# Hàm tính chiều dài của chuỗi\n",
    "def len_string(string):\n",
    "    # process\n",
    "    return len(string)\n",
    "\n",
    "len1 = len_string(\"Windows 11\")\n",
    "print(f\"Độ dài của chuỗi 1 là {len1}\")\n",
    "\n",
    "len2 = len_string(\"iPhone 13\")\n",
    "print(f\"Độ dài của chuỗi 2 là {len2}\")\n",
    "\n",
    "# Bài toán: nhập vào 2 chuỗi và cho biết chuỗi nào có độ dài lớn hơn\n",
    "if len1 <= len2:\n",
    "    print(\"Chuỗi 2 dài hơn\")\n",
    "else: \n",
    "    print(\"Chuỗi 1 dài hơn\")"
   ]
  },
  {
   "cell_type": "code",
   "execution_count": 24,
   "id": "56d947d8",
   "metadata": {},
   "outputs": [
    {
     "name": "stdout",
     "output_type": "stream",
     "text": [
      "Nhập a: 4\n",
      "Nhập b: 3\n",
      "4 ^ 3 = 64\n"
     ]
    }
   ],
   "source": [
    "# Hàm tính lũy thừa\n",
    "# Hãy viết hàm nhập vào hai số nguyên dương a, b và tính lũy thừa a^b\n",
    "\n",
    "# 1. Viết function input_data thực hiện công việc nhập dữ liệu\n",
    "def input_data():\n",
    "    a = int(input(\"Nhập a: \"))\n",
    "    b = int(input(\"Nhập b: \"))\n",
    "    return a, b\n",
    "\n",
    "# 2. Viết function calc_pow thực hiện việc tính lũy thừa a^b\n",
    "def calc_pow(a, b):\n",
    "    return a ** b\n",
    "\n",
    "# 3. Viết hàm process để thực hiện các công việc theo từng bước\n",
    "def process():\n",
    "    a, b = input_data()\n",
    "    result = calc_pow(a, b)\n",
    "    print(f\"{a} ^ {b} = {result}\")\n",
    "    \n",
    "process()"
   ]
  },
  {
   "cell_type": "code",
   "execution_count": null,
   "id": "0178d43e",
   "metadata": {},
   "outputs": [],
   "source": [
    "# Hàm kiểm tra năm nhuận"
   ]
  }
 ],
 "metadata": {
  "kernelspec": {
   "display_name": "Python 3 (ipykernel)",
   "language": "python",
   "name": "python3"
  },
  "language_info": {
   "codemirror_mode": {
    "name": "ipython",
    "version": 3
   },
   "file_extension": ".py",
   "mimetype": "text/x-python",
   "name": "python",
   "nbconvert_exporter": "python",
   "pygments_lexer": "ipython3",
   "version": "3.9.5"
  }
 },
 "nbformat": 4,
 "nbformat_minor": 5
}
