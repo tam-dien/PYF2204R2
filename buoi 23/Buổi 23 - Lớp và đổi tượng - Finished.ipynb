{
 "cells": [
  {
   "cell_type": "markdown",
   "id": "1c805421",
   "metadata": {},
   "source": [
    "# Lớp và đối tượng\n",
    "\n",
    "### Lớp (class) là gì?\n",
    "\n",
    "Lớp (Class) là tập hợp tất cả các đối tượng có chung các thuộc tính và hành vi."
   ]
  },
  {
   "cell_type": "markdown",
   "id": "812bf15e",
   "metadata": {},
   "source": [
    "### Khai báo lớp\n",
    "\n",
    "`class <tên lớp>:\n",
    "    <khai báo biến>\n",
    "    <khai báo hàm>`\n",
    "    \n",
    "Ví dụ:\n",
    "\n",
    "`class giangvien:\n",
    "    ten = \"Nguyễn Tâm Điền\"\n",
    "    mon = \"Python căn bản\"\n",
    "    def inten(self):\n",
    "        print(self.ten)        \n",
    "dien = giangvien()\n",
    "print(dien.mon)\n",
    "dien.inten()`\n",
    "\n",
    "##### Lưu ý:\n",
    "\n",
    "- giangvien là 1 lớp\n",
    "- dien là 1 đối tượng có tất cả thuộc tính (có biến ten, mon và hàm inten) của lớp giangvien\n",
    "- inten là 1 hàm trong lớp giangvien\n",
    "- dien.mon là 1 biến trong đối tượng dien\n",
    "- dien.inten() là cách để gọi hàm inten trong đối tượng dien\n",
    "\n",
    "\n",
    "<b> Hãy chạy thử đoạn lệnh ở ví dụ: </b>"
   ]
  },
  {
   "cell_type": "code",
   "execution_count": 5,
   "id": "40598ff8",
   "metadata": {},
   "outputs": [
    {
     "name": "stdout",
     "output_type": "stream",
     "text": [
      "Python siêu cấp\n"
     ]
    }
   ],
   "source": [
    "class giangvien: ## là khuôn mẫu cho đối tượng\n",
    "    ten = \"Nguyễn Tâm Điền\"\n",
    "    mon = \"Python căn bản\"\n",
    "    \n",
    "dien = giangvien() ## 1 đối tượng tên là dien\n",
    "## đối tượng này có 2 thuộc tính là ten và mon\n",
    "khanh = giangvien()\n",
    "khanh.ten = \"Vũ Ngọc Khánh\" ## thay đổi thuộc tính ten của đối tượng khanh\n",
    "khanh.mon = \"Python siêu cấp\"\n",
    "## đối tượng khanh có bao nhiêu thuộc tính và các thuộc tính đó mang giá trị gì?\n",
    "print(khanh.mon)"
   ]
  },
  {
   "cell_type": "code",
   "execution_count": 10,
   "id": "756e9745",
   "metadata": {},
   "outputs": [
    {
     "name": "stdout",
     "output_type": "stream",
     "text": [
      "Nguyễn Tâm Điền\n",
      "Kiên Nguyễn\n",
      "Môn: Python căn bản\n"
     ]
    }
   ],
   "source": [
    "class giangvien: ## là khuôn mẫu cho đối tượng\n",
    "    ten = \"Nguyễn Tâm Điền\"\n",
    "    mon = \"Python căn bản\"\n",
    "    def inten(self): ## đây là hành vi (hàm)\n",
    "        print(self.ten)\n",
    "    def inmon(self):\n",
    "        print(\"Môn:\",self.mon)\n",
    "\n",
    "dien = giangvien()\n",
    "dien.inten()\n",
    "kien = giangvien()\n",
    "kien.ten = \"Kiên Nguyễn\"\n",
    "kien.inten()\n",
    "kien.inmon()"
   ]
  },
  {
   "cell_type": "markdown",
   "id": "6c4daedf",
   "metadata": {},
   "source": [
    "<b> Hãy tạo 1 class hocvien với 1 biến và 1 def giúp in giá trị biến đó ra màn hình </b>"
   ]
  },
  {
   "cell_type": "code",
   "execution_count": 25,
   "id": "5358318d",
   "metadata": {},
   "outputs": [
    {
     "name": "stdout",
     "output_type": "stream",
     "text": [
      "Tên:  Nam Trần\n",
      "Điểm:  9.5\n",
      "Phạm Xuân Tùng\n"
     ]
    }
   ],
   "source": [
    "## tạo class hocvien có:\n",
    "## 2 thuộc tính: ten, diem\n",
    "## 1 hành vi là in ten và diem của đối tượng ra theo dạng:\n",
    "## Tên: {ten}\n",
    "## Điểm: {diem}\n",
    "\n",
    "class hocvien: ## là khuôn mẫu cho đối tượng\n",
    "    ten = \"Nguyễn Văn A\"\n",
    "    diem = 8\n",
    "    def inten(self): ## đây là hành vi (hàm)\n",
    "        print('Tên: ',self.ten)\n",
    "        print('Điểm: ', self.diem)\n",
    "    def nhanheso(self,a): ### a là hệ số (a chấp nhận từ 0 đến 1)\n",
    "        ### khi thực hiện hàm này, số điểm mới của học viên sẽ là diem = diem*a\n",
    "        diem = self.diem*a ## thì mình chỉ thay đổi biến local diem, biến self.diem vẫn giữ nguyên\n",
    "    def nhanheso2(self,a): ### a là hệ số (a chấp nhận từ 0 đến 1)\n",
    "        ### khi thực hiện hàm này, số điểm mới của học viên sẽ là diem = diem*a\n",
    "        self.diem = self.diem*a ## thay đổi thuộc tính của đối tượng\n",
    "    def sosanhdiem(self,HV2): ## HV2 là một đối tượng thuộc lớp hocvien\n",
    "        ## in ra tên đối tượng có điểm cao hơn\n",
    "        ## hàm này có 2 đối tượng, đối tượng 1 là self, đượng tượng 2 là HV\n",
    "        if self.diem > HV2.diem:\n",
    "            print(self.ten)\n",
    "        else:\n",
    "            print(HV2.ten)\n",
    "    def capnhatdiem(self,diem): ### hàm này giúp cập nhật điểm của đối tượng\n",
    "        ## nếu điểm đưa vào không đúng chuẩn (không thuộc khoảng từ 0 đến 10) thì giữ nguyên điểm\n",
    "        ## nếu điểm đúng chuẩn thì thay đổi\n",
    "        if 0 <= diem <= 10:\n",
    "            self.diem = diem\n",
    "    \n",
    "nam = hocvien()\n",
    "nam.ten = \"Nam Trần\"\n",
    "nam.diem = 9\n",
    "nam.capnhatdiem(9.5)\n",
    "nam.inten()\n",
    "tung = hocvien()\n",
    "tung.ten = \"Phạm Xuân Tùng\"\n",
    "tung.diem = 10\n",
    "nam.sosanhdiem(tung) ## tung là một đối tượng\n",
    "# print(nam) ## không in đối tượng trực tiếp"
   ]
  },
  {
   "cell_type": "markdown",
   "id": "b2481280",
   "metadata": {},
   "source": [
    "### Tham số self\n",
    "\n",
    "Tham số self là tham số được sử dụng khi khai báo các hàm trong lớp\n",
    "\n",
    "Tham số self miêu tả chính lớp ta đang xây dựng, giúp chúng ta sử dụng được những biến và hàm của lớp đó\n",
    "\n",
    "Ví dụ:\n",
    "\n",
    "`class giangvien:\n",
    "    ten = \"Nguyễn Tâm Điền\"\n",
    "    mon = \"Python căn bản\"\n",
    "    def doiten(self,ten):\n",
    "        self.ten = ten\n",
    "    def inten(self):\n",
    "        print(self.ten)        \n",
    "dien = giangvien()\n",
    "dien.doiten(\"NTD\")\n",
    "dien.inten()`\n",
    "\n",
    "Sau khi thực hiện đoạn code trên, giá trị của biến ten trong đối tượng dien đã bị thay đổi thành \"NTD\"\n",
    "\n",
    "<b> Hãy chạy thử đoạn lệnh ở ví dụ: </b>"
   ]
  },
  {
   "cell_type": "code",
   "execution_count": null,
   "id": "fd2f5d7c",
   "metadata": {},
   "outputs": [],
   "source": []
  },
  {
   "cell_type": "markdown",
   "id": "4dfd8d1d",
   "metadata": {},
   "source": [
    "<b> Hãy thêm 1 def vào class hocvien giúp thay đổi giá trị biến bất kỳ trong class </b>"
   ]
  },
  {
   "cell_type": "code",
   "execution_count": null,
   "id": "98d911c0",
   "metadata": {},
   "outputs": [],
   "source": []
  },
  {
   "cell_type": "markdown",
   "id": "b2909dd4",
   "metadata": {},
   "source": [
    "### Hàm \\_\\_init__\n",
    "\n",
    "Hàm \\_\\_init__ là hàm khởi tạo\n",
    "\n",
    "Ví dụ:\n",
    "\n",
    "`class giangvien:\n",
    "    def __init__(self,ten,mon):\n",
    "        self.ten = ten\n",
    "        self.mon = mon\n",
    "    def doiten(self,ten):\n",
    "        self.ten = ten\n",
    "    def inten(self):\n",
    "        print(self.ten)   \n",
    "dien = giangvien(\"Điền\",\"Python căn bản\")\n",
    "thang = giangvien(\"Thắng\",\"Python siêu cấp\")\n",
    "dien.inten()\n",
    "thang.inten()`\n",
    "\n",
    "<b> Hãy chạy thử đoạn lệnh ở ví dụ: </b>"
   ]
  },
  {
   "cell_type": "code",
   "execution_count": 27,
   "id": "f15266fb",
   "metadata": {},
   "outputs": [
    {
     "name": "stdout",
     "output_type": "stream",
     "text": [
      "Hoàng Thị Hải Hà\n"
     ]
    }
   ],
   "source": [
    "class giangvien:\n",
    "    def __init__(self,ten,mon):\n",
    "        self.ten = ten\n",
    "        self.mon = mon\n",
    "        \n",
    "dien = giangvien(\"Nguyễn Tâm Điền\",\"Python căn bản\")\n",
    "ha = giangvien(\"Hoàng Thị Hải Hà\",\"Python siêu cấp\")\n",
    "print(ha.ten)"
   ]
  },
  {
   "cell_type": "markdown",
   "id": "9064cc0a",
   "metadata": {},
   "source": [
    "<b> Hãy thêm 1 def \\_\\_init__ vào class hocvien để khởi tạo tên và tuổi của học viên </b>"
   ]
  },
  {
   "cell_type": "code",
   "execution_count": null,
   "id": "3e6a0dae",
   "metadata": {},
   "outputs": [],
   "source": [
    "## viết class hocvien có hàm khởi tạo tên, tuổi của học viên\n",
    "class hocvien: \n",
    "    def _init_(self,ten,tuoi)\n",
    "        self.ten = ten\n",
    "        self.tuoi = tuoi\n",
    "    def sosanhtuoi(self,HV2):\n",
    "        ## nếu ai nhỏ tuổi hơn thì in tên người đó\n",
    "        if self.tuoi<HV2.tuoi:\n",
    "            print(self.ten)\n",
    "        else:\n",
    "            print(HV2.ten)"
   ]
  },
  {
   "cell_type": "markdown",
   "id": "d137f2f5",
   "metadata": {},
   "source": [
    "### Bài tập"
   ]
  },
  {
   "cell_type": "markdown",
   "id": "d243726c",
   "metadata": {},
   "source": [
    "Hãy xây dựng 1 class hình tròn có các thuộc tính sau:\n",
    "\n",
    "- biến x và y chứa tọa độ tâm đường tròn\n",
    "- biến r chứa bán kính đường chọn\n",
    "- hàm draw: để vẽ đường tròn"
   ]
  },
  {
   "cell_type": "code",
   "execution_count": 33,
   "id": "4121525f",
   "metadata": {},
   "outputs": [],
   "source": [
    "import turtle\n",
    "\n",
    "t = turtle.Turtle()\n",
    "\n",
    "class hinhtron:\n",
    "    def __init__(self,x,y,r):\n",
    "        self.x = x\n",
    "        self.y = y\n",
    "        self.r = r\n",
    "    def draw(self):\n",
    "        t.penup()\n",
    "        t.goto(self.x,self.y-self.r)\n",
    "        t.pendown()\n",
    "        t.circle(self.r)\n",
    "        \n",
    "ht1 = hinhtron(0,0,50)\n",
    "ht1.draw()"
   ]
  },
  {
   "cell_type": "markdown",
   "id": "9017050f",
   "metadata": {},
   "source": [
    "Tạo một lớp phân số có các thuộc tính:\n",
    "\n",
    "- biến tử số và mẫu số\n",
    "- hàm cong: để cộng với một đối tượng khác có lớp phân số rồi trả về dối tượng có phân số mới\n",
    "- hàm tru: để trừ với một đối tượng khác có lớp phân số rồi trả về dối tượng có phân số mới\n",
    "- hàm nhan: để nhân với một đối tượng khác có lớp phân số rồi trả về dối tượng có phân số mới\n",
    "- hàm chia: để chia với một đối tượng khác có lớp phân số rồi trả về dối tượng có phân số mới\n",
    "- hàm toigian: để tối giản phân số rồi trả về dối tượng có phân số mới"
   ]
  },
  {
   "cell_type": "code",
   "execution_count": 3,
   "id": "2ae72d93",
   "metadata": {},
   "outputs": [
    {
     "name": "stdout",
     "output_type": "stream",
     "text": [
      "9 9\n"
     ]
    }
   ],
   "source": [
    "class phanso:\n",
    "    def __init__(self, tu_so, mau_so):\n",
    "        self.tu_so = tu_so\n",
    "        self.mau_so = mau_so\n",
    "    def cong(self,psA): ## psA là một đối tượng có lớp phanso\n",
    "        tuso_moi = self.tu_so*psA.mau_so + self.mau_so*psA.tu_so\n",
    "        mauso_moi = psA.mau_so*self.mau_so\n",
    "        return phanso(tuso_moi,mauso_moi)\n",
    "    \n",
    "ps1 = phanso(1,3)\n",
    "ps2 = phanso(2,3)\n",
    "ps3 = ps1.cong(ps2) ## ps3 cũng là một đối tượng có lớp phanso\n",
    "print(ps3.tu_so,ps3.mau_so)"
   ]
  },
  {
   "cell_type": "markdown",
   "id": "39a8cb80",
   "metadata": {},
   "source": [
    "Viết class NhanVien gồm các thuộc tính:\n",
    "\n",
    "<b> Các biến </b>\n",
    "\n",
    "- Tên\n",
    "- Tuổi\n",
    "- Địa chỉ\n",
    "- Tiền lương\n",
    "- Tổng số giờ làm\n",
    "\n",
    "<b> Các hàm </b>\n",
    "\n",
    "- nhap : Nhập các thông tin cho nhân viên từ bàn phím\n",
    "- in : In ra tất cả các thông tin của nhân viên\n",
    "- thuong: Tính toán và trả về số tiền thưởng của nhân viên theo công thức sau:\n",
    "\n",
    "    Nếu tổng số giờ làm của nhân viên >=200 thì thưởng = lương * 20%\n",
    "    \n",
    "    Nếu tổng số giờ làm của nhân viên <200 và >=100 thì thưởng = lương * 10%\n",
    "    \n",
    "    Nếu tổng số giờ làm của nhân viên <100 thì thưởng = 0"
   ]
  },
  {
   "cell_type": "code",
   "execution_count": null,
   "id": "26d12a44",
   "metadata": {},
   "outputs": [],
   "source": []
  }
 ],
 "metadata": {
  "kernelspec": {
   "display_name": "Python 3 (ipykernel)",
   "language": "python",
   "name": "python3"
  },
  "language_info": {
   "codemirror_mode": {
    "name": "ipython",
    "version": 3
   },
   "file_extension": ".py",
   "mimetype": "text/x-python",
   "name": "python",
   "nbconvert_exporter": "python",
   "pygments_lexer": "ipython3",
   "version": "3.10.4"
  }
 },
 "nbformat": 4,
 "nbformat_minor": 5
}
