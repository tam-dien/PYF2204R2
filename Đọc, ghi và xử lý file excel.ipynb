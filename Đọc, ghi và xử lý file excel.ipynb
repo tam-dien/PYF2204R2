{
 "cells": [
  {
   "cell_type": "code",
   "execution_count": 30,
   "id": "386369ae",
   "metadata": {
    "scrolled": false
   },
   "outputs": [
    {
     "name": "stdout",
     "output_type": "stream",
     "text": [
      "['STT', 'Danh mục', 'Số lượng', 'Đơn giá', 'Chi phí', 'Ghi chú']\n",
      "['Đăng ký kinh doanh', 'Đăng ký vệ sinh an toàn thực phẩm', 'Bán lẻ rượu tại chỗ', 'Bán lẻ thuốc lá', 'Bôi trơn phường - quận', 'Ghế nhựa', 'Bàn nhựa', 'Bộ bàn ăn gỗ 6 ghế', 'Kho lạnh', 'Tủ đông 2 ngăn > 300 lít', 'Tủ đựng nước 1 ngăn mát', 'Cọc thuê nhà', 'Thuê nhà', 'Sửa nhà', 'Máy chiếu', 'Mua đồ ăn + bia lần đầu', 'Bếp chính', 'Bếp phụ', 'Phục vụ', 'Rửa bát - dọn dẹp', 'Bảo vệ', 'Bàn chế biến thực phẩm', 'Giá chứa xoong nồi', 'Xoong nồi nấu nướng', 'Kệ để đồ ăn', 'Bếp nướng', 'Bát đĩa', 'Cốc - chén', 'Khay bê đồ', 'Chậu rửa 2 ngăn công nghiệp', 'Bếp công nghiệp', 'Dao thớt - Đồ bếp', 'Quạt công nghiệp', 'Quạt hút mùi', 'Điều hòa', 'Ống thông gió thổi mùi', 'Đi nhậu']\n"
     ]
    }
   ],
   "source": [
    "import pandas as pd\n",
    "\n",
    "excel = pd.read_excel('Chi phí dự trù.xlsx', usecols=\"A:F\")\n",
    "\n",
    "## excel là một đối tượng\n",
    "\n",
    "caccot = list(excel.columns.values)\n",
    "\n",
    "print(caccot)\n",
    "\n",
    "D = {}\n",
    "\n",
    "# for i in caccot:\n",
    "#     D[i] = list(excel[i])\n",
    "\n",
    "# for i in D:\n",
    "#     print(i,\":\",D[i])\n",
    "    \n",
    "print(list(excel[\"Danh mục\"]))\n",
    "\n",
    "# print(excel.values[0])\n",
    "\n",
    "# print(len(excel))"
   ]
  }
 ],
 "metadata": {
  "kernelspec": {
   "display_name": "Python 3 (ipykernel)",
   "language": "python",
   "name": "python3"
  },
  "language_info": {
   "codemirror_mode": {
    "name": "ipython",
    "version": 3
   },
   "file_extension": ".py",
   "mimetype": "text/x-python",
   "name": "python",
   "nbconvert_exporter": "python",
   "pygments_lexer": "ipython3",
   "version": "3.10.4"
  }
 },
 "nbformat": 4,
 "nbformat_minor": 5
}
