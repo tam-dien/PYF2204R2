{
 "cells": [
  {
   "cell_type": "code",
   "execution_count": 2,
   "id": "386369ae",
   "metadata": {
    "scrolled": false
   },
   "outputs": [
    {
     "name": "stdout",
     "output_type": "stream",
     "text": [
      "['STT', 'Danh mục', 'Số lượng', 'Đơn giá', 'Chi phí', 'Ghi chú']\n",
      "['Đăng ký kinh doanh', 'Đăng ký vệ sinh an toàn thực phẩm', 'Bán lẻ rượu tại chỗ', 'Bán lẻ thuốc lá', 'Bôi trơn phường - quận', 'Ghế nhựa', 'Bàn nhựa', 'Bộ bàn ăn gỗ 6 ghế', 'Kho lạnh', 'Tủ đông 2 ngăn > 300 lít', 'Tủ đựng nước 1 ngăn mát', 'Cọc thuê nhà', 'Thuê nhà', 'Sửa nhà', 'Máy chiếu', 'Mua đồ ăn + bia lần đầu', 'Bếp chính', 'Bếp phụ', 'Phục vụ', 'Rửa bát - dọn dẹp', 'Bảo vệ', 'Bàn chế biến thực phẩm', 'Giá chứa xoong nồi', 'Xoong nồi nấu nướng', 'Kệ để đồ ăn', 'Bếp nướng', 'Bát đĩa', 'Cốc - chén', 'Khay bê đồ', 'Chậu rửa 2 ngăn công nghiệp', 'Bếp công nghiệp', 'Dao thớt - Đồ bếp', 'Quạt công nghiệp', 'Quạt hút mùi', 'Điều hòa', 'Ống thông gió thổi mùi', 'Khai trương']\n"
     ]
    }
   ],
   "source": [
    "import pandas as pd\n",
    "\n",
    "excel = pd.read_excel('Chi phí dự trù.xlsx', usecols=\"A:F\")\n",
    "\n",
    "## excel là một đối tượng\n",
    "\n",
    "caccot = list(excel.columns.values)\n",
    "\n",
    "print(caccot)\n",
    "\n",
    "D = {}\n",
    "\n",
    "# for i in caccot:\n",
    "#     D[i] = list(excel[i])\n",
    "\n",
    "# for i in D:\n",
    "#     print(i,\":\",D[i])\n",
    "    \n",
    "print(list(excel[\"Danh mục\"]))\n",
    "\n",
    "# print(excel.values[0])\n",
    "\n",
    "# print(len(excel))"
   ]
  },
  {
   "cell_type": "code",
   "execution_count": 3,
   "id": "fe887250",
   "metadata": {},
   "outputs": [
    {
     "name": "stdout",
     "output_type": "stream",
     "text": [
      "    STT                           Danh mục  Số lượng    Đơn giá    Chi phí  \\\n",
      "0     1                 Đăng ký kinh doanh         1    1500000    1500000   \n",
      "1     2  Đăng ký vệ sinh an toàn thực phẩm         1    1000000    1000000   \n",
      "2     3                Bán lẻ rượu tại chỗ         1    1200000    1200000   \n",
      "3     4                    Bán lẻ thuốc lá         1     200000     200000   \n",
      "4     5             Bôi trơn phường - quận         1   20000000   20000000   \n",
      "5     6                           Ghế nhựa       160     100000   16000000   \n",
      "6     7                           Bàn nhựa        20      90000    1800000   \n",
      "7     8                 Bộ bàn ăn gỗ 6 ghế        20    5500000  110000000   \n",
      "8     9                           Kho lạnh         1   80000000   80000000   \n",
      "9    10           Tủ đông 2 ngăn > 300 lít         2   10000000   20000000   \n",
      "10   11            Tủ đựng nước 1 ngăn mát         1   33000000   33000000   \n",
      "11   12                       Cọc thuê nhà         1   50000000   50000000   \n",
      "12   13                           Thuê nhà         6   35000000  210000000   \n",
      "13   14                            Sửa nhà         1  200000000  200000000   \n",
      "14   15                          Máy chiếu         1    3000000    3000000   \n",
      "15   16            Mua đồ ăn + bia lần đầu         1   30000000   30000000   \n",
      "16   17                          Bếp chính         3   20000000   60000000   \n",
      "17   18                            Bếp phụ         6   12000000   72000000   \n",
      "18   19                            Phục vụ        15    4500000   67500000   \n",
      "19   20                  Rửa bát - dọn dẹp         6    4500000   27000000   \n",
      "20   21                             Bảo vệ         6    4500000   27000000   \n",
      "21   22             Bàn chế biến thực phẩm         3   10000000   30000000   \n",
      "22   23                 Giá chứa xoong nồi         1    3000000    3000000   \n",
      "23   24                Xoong nồi nấu nướng         1   20000000   20000000   \n",
      "24   25                        Kệ để đồ ăn         1    3500000    3500000   \n",
      "25   26                          Bếp nướng         1    5000000    5000000   \n",
      "26   27                            Bát đĩa        40    1500000   60000000   \n",
      "27   28                         Cốc - chén       300       2500     750000   \n",
      "28   29                         Khay bê đồ         8     100000     800000   \n",
      "29   30        Chậu rửa 2 ngăn công nghiệp         1   10000000   10000000   \n",
      "30   31                    Bếp công nghiệp         1   20000000   20000000   \n",
      "31   32                  Dao thớt - Đồ bếp         1   10000000   10000000   \n",
      "32   33                   Quạt công nghiệp         7    1500000   10500000   \n",
      "33   34                       Quạt hút mùi         1    2000000    2000000   \n",
      "34   35                           Điều hòa         4   12000000   48000000   \n",
      "35   36             Ống thông gió thổi mùi         1    2000000    2000000   \n",
      "36   37                        Khai trương         1   15000000   15000000   \n",
      "\n",
      "                                              Ghi chú  \n",
      "0                                  Chưa tính bôi trơn  \n",
      "1                                                 NaN  \n",
      "2                                                 NaN  \n",
      "3                                                 NaN  \n",
      "4                                            Tính lại  \n",
      "5                                                 NaN  \n",
      "6                                                 NaN  \n",
      "7                                                 NaN  \n",
      "8            Kích thước khoảng 50m khối - Xem xét lại  \n",
      "9                                                 NaN  \n",
      "10                  Chứa nước lạnh - Đồ mới - Xem lại  \n",
      "11                                                NaN  \n",
      "12                               Thanh toán 6 tháng 1  \n",
      "13                Bao gồm bóc tách tường - ngăn phòng  \n",
      "14                                            Loại cũ  \n",
      "15                                                NaN  \n",
      "16     Dự trù ít nhất thuê 3 tháng cần chuẩn bị trước  \n",
      "17  Dự trù ít nhất thuê 3 tháng cần chuẩn bị trước...  \n",
      "18  Dự trù ít nhất thuê 3 tháng cần chuẩn bị trước...  \n",
      "19  Dự trù ít nhất thuê 3 tháng cần chuẩn bị trước...  \n",
      "20  Dự trù ít nhất thuê 3 tháng cần chuẩn bị trước...  \n",
      "21  2 bàn ngoài chế biến sống chín. 1 bàn trong ch...  \n",
      "22                                                NaN  \n",
      "23                          Khả năng thiếu - Tính lại  \n",
      "24                                                NaN  \n",
      "25                         Loại lớn (Có thể cân nhắc)  \n",
      "26  Đồ này nên mua mới. Dự kiến đủ bộ bát đĩa 1 bà...  \n",
      "27                                                NaN  \n",
      "28                                                NaN  \n",
      "29                                   Rửa đồ bên ngoài  \n",
      "30                                    3 bếp liền nhau  \n",
      "31                                         Đồ làm bếp  \n",
      "32                                                NaN  \n",
      "33                                Chỉ cần 1 cái ở bếp  \n",
      "34            Loại 18000 cũ cho 2 phòng x2 - Tính lại  \n",
      "35                                        Đặt tại bếp  \n",
      "36                       Có thể có hoặc ko - Cân nhắc  \n"
     ]
    }
   ],
   "source": [
    "print(excel)"
   ]
  },
  {
   "cell_type": "code",
   "execution_count": 10,
   "id": "2ed8e826",
   "metadata": {},
   "outputs": [
    {
     "name": "stdout",
     "output_type": "stream",
     "text": [
      "     0     1      2     3\n",
      "0  Tom  nick  krish  jack\n",
      "1   20    21     19    18\n"
     ]
    }
   ],
   "source": [
    "import pandas as pd\n",
    "\n",
    "data = [['Tom', 'nick', 'krish', 'jack'],[20, 21, 19, 18]]\n",
    "\n",
    "excel = pd.DataFrame(data)\n",
    "\n",
    "# excel.at[2,\"Name\"] = \"Karik\"\n",
    "\n",
    "excel.to_excel(r'hoadon.xlsx', index = False,header=None)\n",
    "\n",
    "print(excel)"
   ]
  }
 ],
 "metadata": {
  "kernelspec": {
   "display_name": "Python 3 (ipykernel)",
   "language": "python",
   "name": "python3"
  },
  "language_info": {
   "codemirror_mode": {
    "name": "ipython",
    "version": 3
   },
   "file_extension": ".py",
   "mimetype": "text/x-python",
   "name": "python",
   "nbconvert_exporter": "python",
   "pygments_lexer": "ipython3",
   "version": "3.10.4"
  }
 },
 "nbformat": 4,
 "nbformat_minor": 5
}
