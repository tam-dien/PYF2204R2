{
 "cells": [
  {
   "cell_type": "markdown",
   "id": "dcdb816e",
   "metadata": {},
   "source": [
    "# Thực hành cấu trúc điều khiển\n",
    "\n",
    "### Bài 1\n",
    "\n",
    "Cho phương trình bậc 2: ax^2 + bx + c = 0\n",
    "\n",
    "Nhập a, b, c\n",
    "\n",
    "Giải và biện luận phương trình trên"
   ]
  },
  {
   "cell_type": "code",
   "execution_count": 4,
   "id": "b5a5c325",
   "metadata": {},
   "outputs": [
    {
     "name": "stdout",
     "output_type": "stream",
     "text": [
      "Nhập vào a:1\n",
      "Nhập vào b:-5\n",
      "Nhập vào c:6\n",
      "Đây là phương có 2 nghiệm: 3.0 và 2.0\n"
     ]
    }
   ],
   "source": [
    "a = float(input(\"Nhập vào a:\"))\n",
    "b = float(input(\"Nhập vào b:\"))\n",
    "c = float(input(\"Nhập vào c:\"))\n",
    "if a == 0:\n",
    "    if (b == 0):\n",
    "        if (c == 0):\n",
    "            print(\"Đây là phương trình vô số nghiệm!\")\n",
    "        else:\n",
    "            print(\"Đây là phương trình vô nghiệm!\")\n",
    "    else:\n",
    "        x = -b/a\n",
    "        print(\"Nghiệm của phương trình là:\",x)\n",
    "else:\n",
    "    delta = b**2 - 4*a*c\n",
    "    if delta < 0:\n",
    "        print(\"Đây là phương trình vô nghiệm!\")\n",
    "    elif delta == 0:\n",
    "        print(\"Đây là phương trình có nghiệm kép:\",-b/(2*a))\n",
    "    else:\n",
    "        candelta = delta**0.5\n",
    "        x1 = (-b + candelta)/(2*a)\n",
    "        x2 = (-b - candelta)/(2*a)\n",
    "        print(\"Đây là phương có 2 nghiệm:\",x1,\"và\",x2)"
   ]
  },
  {
   "cell_type": "markdown",
   "id": "6f7d329d",
   "metadata": {},
   "source": [
    "### Bài 2\n",
    "\n",
    "Hãy nhập vào một số\n",
    "\n",
    "Xác định coi đó có phải là số nguyên tố hay không"
   ]
  },
  {
   "cell_type": "code",
   "execution_count": 10,
   "id": "049c85f5",
   "metadata": {},
   "outputs": [
    {
     "name": "stdout",
     "output_type": "stream",
     "text": [
      "Nhập vào a:7\n",
      "Đây là số nguyên tố!\n"
     ]
    }
   ],
   "source": [
    "a = int(input(\"Nhập vào a:\"))\n",
    "k = 1\n",
    "dem = 0\n",
    "for i in range(a): # k sẽ chạy từ 1 đến a\n",
    "    if (a % k == 0): # nếu k là ước của a thì ta cộng đếm lên 1 đơn vị\n",
    "        dem += 1\n",
    "    k += 1\n",
    "if dem == 2: # nếu ta có 2 ước thì đây là số nguyên tố\n",
    "    print(\"Đây là số nguyên tố!\")\n",
    "else:\n",
    "    print(\"Đây không là số nguyên tố!\")"
   ]
  },
  {
   "cell_type": "markdown",
   "id": "75f7717b",
   "metadata": {},
   "source": [
    "### Bài 3\n",
    "\n",
    "Hãy nhập vào số n\n",
    "\n",
    "Hãy đếm số chữ số 0 tận cùng của n giai thừa\n",
    "\n",
    "(Bài này nâng cao, mọi người có thể bỏ qua)"
   ]
  },
  {
   "cell_type": "code",
   "execution_count": null,
   "id": "61405d2c",
   "metadata": {},
   "outputs": [
    {
     "name": "stdout",
     "output_type": "stream",
     "text": [
      "a = 150000\n"
     ]
    }
   ],
   "source": [
    "a = int(input(\"a = \"))\n",
    "b = 1\n",
    "# for i in range(a):\n",
    "#     b *= (i+1)\n",
    "# print(b)\n",
    "c = 0\n",
    "for i in range(a):\n",
    "    d = a // (5**(i+1))\n",
    "    c += d\n",
    "print(c)"
   ]
  },
  {
   "cell_type": "code",
   "execution_count": 4,
   "id": "789e0e76",
   "metadata": {},
   "outputs": [
    {
     "name": "stdout",
     "output_type": "stream",
     "text": [
      "nhập n: 120\n",
      "giai thừa của n = 6689502913449127057588118054090372586752746333138029810295671352301633557244962989366874165271984981308157637893214090552534408589408121859898481114389650005964960521256960000000000000000000000000000\n",
      "số chữ số 0 tận cùng của  120  giai thừa là: 28\n"
     ]
    }
   ],
   "source": [
    "n = int(input('nhập n: '))\n",
    "a = 1\n",
    "count = 0\n",
    "\n",
    "for i in range(1,n+1):\n",
    "    a = a * i\n",
    "print('giai thừa của n =',a)\n",
    "\n",
    "s = str(a)\n",
    "r = s[::-1] # đảo ngược chuỗi\n",
    "for i in r:\n",
    "    if int(i) == 0:\n",
    "        count = count + 1\n",
    "    else:\n",
    "        break\n",
    "\n",
    "print('số chữ số 0 tận cùng của ',n,' giai thừa là:',count)"
   ]
  },
  {
   "cell_type": "code",
   "execution_count": 3,
   "id": "13d19086",
   "metadata": {},
   "outputs": [
    {
     "name": "stdout",
     "output_type": "stream",
     "text": [
      "nhập n: 120\n",
      "28\n"
     ]
    }
   ],
   "source": [
    "n = int(input('nhập n: '))\n",
    "so = 5\n",
    "dem = 0\n",
    "for i in range(n):\n",
    "    if n//so > 0:\n",
    "        dem += n//so\n",
    "    else:\n",
    "        break\n",
    "    so *= 5\n",
    "print(dem)"
   ]
  },
  {
   "cell_type": "markdown",
   "id": "29cd6c81",
   "metadata": {},
   "source": [
    "### Bài 4\n",
    "\n",
    "In ra tất cả các số chia hết cho 3 nhỏ hơn 100"
   ]
  },
  {
   "cell_type": "code",
   "execution_count": 5,
   "id": "0b848981",
   "metadata": {},
   "outputs": [
    {
     "name": "stdout",
     "output_type": "stream",
     "text": [
      "0\n",
      "3\n",
      "6\n",
      "9\n",
      "12\n",
      "15\n",
      "18\n",
      "21\n",
      "24\n",
      "27\n",
      "30\n",
      "33\n",
      "36\n",
      "39\n",
      "42\n",
      "45\n",
      "48\n",
      "51\n",
      "54\n",
      "57\n",
      "60\n",
      "63\n",
      "66\n",
      "69\n",
      "72\n",
      "75\n",
      "78\n",
      "81\n",
      "84\n",
      "87\n",
      "90\n",
      "93\n",
      "96\n",
      "99\n"
     ]
    }
   ],
   "source": [
    "k = 0\n",
    "for i in range(100):\n",
    "    if (k % 3 == 0):\n",
    "        print(k)\n",
    "    k += 1"
   ]
  },
  {
   "cell_type": "markdown",
   "id": "04dbf99b",
   "metadata": {},
   "source": [
    "### Bài 5\n",
    "\n",
    "In ra tất cả các số lẻ nhưng không chia hết cho 3 nhỏ hơn 100"
   ]
  },
  {
   "cell_type": "code",
   "execution_count": 6,
   "id": "769eb439",
   "metadata": {},
   "outputs": [
    {
     "name": "stdout",
     "output_type": "stream",
     "text": [
      "1\n",
      "5\n",
      "7\n",
      "11\n",
      "13\n",
      "17\n",
      "19\n",
      "23\n",
      "25\n",
      "29\n",
      "31\n",
      "35\n",
      "37\n",
      "41\n",
      "43\n",
      "47\n",
      "49\n",
      "53\n",
      "55\n",
      "59\n",
      "61\n",
      "65\n",
      "67\n",
      "71\n",
      "73\n",
      "77\n",
      "79\n",
      "83\n",
      "85\n",
      "89\n",
      "91\n",
      "95\n",
      "97\n"
     ]
    }
   ],
   "source": [
    "k = 1\n",
    "for i in range(50):\n",
    "    if (k % 3 != 0):\n",
    "        print(k)\n",
    "    k += 2"
   ]
  },
  {
   "cell_type": "markdown",
   "id": "26dd47fb",
   "metadata": {},
   "source": [
    "### Bài 5\n",
    "\n",
    "Tại một cửa hàng nọ có menu như sau:\n",
    "\n",
    "1. Gà rán giá 35k\n",
    "2. Hamburger giá 50k\n",
    "3. Pesi giá 10k\n",
    "\n",
    "Nhập số lượng món hàng cần mua\n",
    "\n",
    "Tính và in ra tổng giá tiền (hiển thị có dấu chấm mỗi 3 chữ số để người dùng để quan sát)\n",
    "\n",
    "Nếu giá trị đơn hàng trên 2 triệu, giảm 10% cho khách, trên 4 triệu, giảm 15%\n",
    "\n",
    "Tính và in ra tổng giá tiền được giảm (hiển thị có dấu chấm mỗi 3 chữ số để người dùng để quan sát)\n",
    "\n",
    "Tính và in ra tổng giá tiền khách cần trả (hiển thị có dấu chấm mỗi 3 chữ số để người dùng để quan sát)\n",
    "\n",
    "In ra dòng chữ \"Cảm ơn quý khách đã mua hàng\""
   ]
  },
  {
   "cell_type": "code",
   "execution_count": 15,
   "id": "8509df1e",
   "metadata": {},
   "outputs": [
    {
     "name": "stdout",
     "output_type": "stream",
     "text": [
      "1. Gà rán giá 35k\n",
      "2. Hamburger giá 50k\n",
      "3. Pesi giá 10k\n",
      "\n",
      "Nhập số lượng gà rán: 54\n",
      "Nhập số lượng hamburger: 58\n",
      "Nhập số lượng pesi 51\n",
      "\n",
      "Số tiền được giảm giá là: 795.000 VNĐ\n",
      "Số tiền cần thanh toán là: 4.505.000 VNĐ\n",
      "\n",
      "Cảm ơn quý khách đã mua hàng!\n"
     ]
    }
   ],
   "source": [
    "print(\"1. Gà rán giá 35k\")\n",
    "print(\"2. Hamburger giá 50k\")\n",
    "print(\"3. Pesi giá 10k\")\n",
    "print()\n",
    "\n",
    "garan = int(input(\"Nhập số lượng gà rán: \"))\n",
    "hamburger = int(input(\"Nhập số lượng hamburger: \"))\n",
    "pepsi = int(input(\"Nhập số lượng pesi: \"))\n",
    "\n",
    "tong = garan*35000 + pepsi*10000 + hamburger*50000\n",
    "\n",
    "if 4000000 >= tong > 2000000:\n",
    "    tiengiam = int(tong*0.1)\n",
    "    tong = tong - tiengiam\n",
    "    \n",
    "elif tong>4000000:\n",
    "    tiengiam = int(tong*0.15)\n",
    "    tong = tong-tiengiam\n",
    "else:\n",
    "    tiengiam = 0\n",
    "\n",
    "tiengiam = str(tiengiam)\n",
    "sodaucham = (len(tiengiam) - 1)//3\n",
    "vt = len(tiengiam) - 3\n",
    "for i in range(sodaucham):\n",
    "    tiengiam = tiengiam[:vt] + \".\" + tiengiam[vt:]\n",
    "    vt -= 3\n",
    "    \n",
    "tong = str(tong)\n",
    "sodaucham = (len(tong) - 1)//3\n",
    "vt = len(tong) - 3\n",
    "for i in range(sodaucham):\n",
    "    tong = tong[:vt] + \".\" + tong[vt:]\n",
    "    vt -= 3\n",
    "    \n",
    "print()\n",
    "print(\"Số tiền được giảm giá là:\",tiengiam,\"VNĐ\")\n",
    "print(\"Số tiền cần thanh toán là:\",tong,\"VNĐ\")\n",
    "print()\n",
    "print(\"Cảm ơn quý khách đã mua hàng!\")"
   ]
  },
  {
   "cell_type": "markdown",
   "id": "ab10a1ce",
   "metadata": {},
   "source": [
    "### Bài 6\n",
    "\n",
    "Nhập vào chiều cao (cm) và cân nặng (kg), tính số BMI và xét rồi xin kết quả theo dữ liệu sau:\n",
    "\n",
    "- BMI < 16: Gầy cấp độ III\n",
    "- 16 <= BMI < 17:  Gầy cấp độ II\n",
    "- 17<= BMI < 18.5: Gầy cấp độ I\n",
    "- 18.5 <= BMI < 25: Bình thường\n",
    "- 25 <= BMI < 30: Thừa cân\n",
    "- 30 <= BMI < 35 : Béo phì cấp độ I\n",
    "- 35 <= BMI < 40: Béo phì cấp độ II\n",
    "- BMI > 40: Béo phì cấp độ III"
   ]
  },
  {
   "cell_type": "code",
   "execution_count": null,
   "id": "1058f441",
   "metadata": {},
   "outputs": [],
   "source": []
  },
  {
   "cell_type": "markdown",
   "id": "f7620342",
   "metadata": {},
   "source": [
    "### Bài 7\n",
    "\n",
    "Nhập ngày, tháng, năm. Hãy tính và in ra màn hình kể từ đầu năm đến ngày vừa nhập là bao nhiêu ngày."
   ]
  },
  {
   "cell_type": "code",
   "execution_count": null,
   "id": "4c57f0a5",
   "metadata": {},
   "outputs": [],
   "source": []
  }
 ],
 "metadata": {
  "kernelspec": {
   "display_name": "Python 3 (ipykernel)",
   "language": "python",
   "name": "python3"
  },
  "language_info": {
   "codemirror_mode": {
    "name": "ipython",
    "version": 3
   },
   "file_extension": ".py",
   "mimetype": "text/x-python",
   "name": "python",
   "nbconvert_exporter": "python",
   "pygments_lexer": "ipython3",
   "version": "3.10.4"
  }
 },
 "nbformat": 4,
 "nbformat_minor": 5
}
