{
 "cells": [
  {
   "cell_type": "markdown",
   "id": "dcdb816e",
   "metadata": {},
   "source": [
    "# Thực hành cấu trúc điều khiển\n",
    "\n",
    "### Bài 1\n",
    "\n",
    "Cho phương trình bậc 2: ax^2 + bx + c = 0\n",
    "\n",
    "Nhập a, b, c\n",
    "\n",
    "Giải và biện luận phương trình trên"
   ]
  },
  {
   "cell_type": "code",
   "execution_count": 1,
   "id": "b5a5c325",
   "metadata": {},
   "outputs": [
    {
     "name": "stdout",
     "output_type": "stream",
     "text": [
      "nhap vao gia tri  a: 2\n",
      "nhap vao gia tri  b: 3\n",
      "nhap vao gia tri  c: 4\n",
      "Phuong trinh vo nghiem\n"
     ]
    }
   ],
   "source": [
    "a = float(input(\"nhap vao gia tri  a: \"))\n",
    "b = float(input(\"nhap vao gia tri  b: \"))\n",
    "c = float(input(\"nhap vao gia tri  c: \"))\n",
    "import math\n",
    "delta = b*b - 4*a*c\n",
    "if delta == 0:\n",
    "    print(\"Phuong trinh co nghiem kep: \", -b/(2*a))\n",
    "elif delta > 0:\n",
    "    nghiem1 = (-b + math.sqrt(delta))/(2*a)\n",
    "    nghiem2 = (-b - math.sqrt(delta))/(2*a)\n",
    "    print(\"Phuong trinh co 2 nghiem, x1=\", nghiem1)\n",
    "    print(\"x2=\", nghiem2)\n",
    "else:\n",
    "    print(\"Phuong trinh vo nghiem\")"
   ]
  },
  {
   "cell_type": "markdown",
   "id": "6f7d329d",
   "metadata": {},
   "source": [
    "### Bài 2\n",
    "\n",
    "Hãy nhập vào một số\n",
    "\n",
    "Xác định coi đó có phải là số nguyên tố hay không"
   ]
  },
  {
   "cell_type": "code",
   "execution_count": 4,
   "id": "049c85f5",
   "metadata": {},
   "outputs": [
    {
     "name": "stdout",
     "output_type": "stream",
     "text": [
      "Nhập vào số n:7\n",
      "1\n",
      "7\n",
      "Đây là số nguyên tố\n"
     ]
    }
   ],
   "source": [
    "n = int(input(\"Nhập vào số n:\"))\n",
    "if (n < 2):\n",
    "    print(\"Đây không là số nguyên tố\")\n",
    "else:\n",
    "    dem = 0\n",
    "    a = 1\n",
    "    for i in range(n):\n",
    "        if n % a == 0:\n",
    "            dem += 1\n",
    "            print(a)\n",
    "        a = a + 1\n",
    "    if (dem == 2):\n",
    "        print(\"Đây là số nguyên tố\")\n",
    "    else:\n",
    "        print(\"Đây không là số nguyên tố\")"
   ]
  },
  {
   "cell_type": "code",
   "execution_count": 2,
   "id": "987db7c9",
   "metadata": {},
   "outputs": [
    {
     "name": "stdout",
     "output_type": "stream",
     "text": [
      "Nhập vào số n:5\n",
      "Đây là số nguyên tố\n"
     ]
    }
   ],
   "source": [
    "n = int(input(\"Nhập vào số n:\"))\n",
    "if (n < 2):\n",
    "    print(\"Đây không là số nguyên tố\")\n",
    "else:\n",
    "    kiemtra = True\n",
    "    a = 2\n",
    "    for i in range(n - 2):\n",
    "        if (n % a == 0):\n",
    "            kiemtra = False\n",
    "            break\n",
    "    if (kiemtra):\n",
    "        print(\"Đây là số nguyên tố\")\n",
    "    else:\n",
    "        print(\"Đây không là số nguyên tố\")\n",
    "        "
   ]
  },
  {
   "cell_type": "markdown",
   "id": "75f7717b",
   "metadata": {},
   "source": [
    "### Bài 3\n",
    "\n",
    "Hãy nhập vào số n\n",
    "\n",
    "Hãy đếm số chữ số 0 tận cùng của n giai thừa"
   ]
  },
  {
   "cell_type": "code",
   "execution_count": null,
   "id": "789e0e76",
   "metadata": {},
   "outputs": [],
   "source": [
    "n=int(input(\"nhap vao so can kiem tra:\"))\n",
    "bac=1\n",
    "dem=0\n",
    "for i in range(n):\n",
    "    if n<(5**i):\n",
    "        maxx=i\n",
    "        break\n",
    "for i in range(maxx-1):\n",
    "    '''\n",
    "    for j in range(1,n+1):\n",
    "        if j%(5**bac)==0:\n",
    "            dem=dem+1       \n",
    "    bac=bac+1\n",
    "    '''\n",
    "    dem += n // (5**bac)\n",
    "    bac=bac+1\n",
    "\n",
    "print(dem)"
   ]
  },
  {
   "cell_type": "markdown",
   "id": "29cd6c81",
   "metadata": {},
   "source": [
    "### Bài 4\n",
    "\n",
    "In ra tất cả các số chia hết cho 3 nhỏ hơn 100"
   ]
  },
  {
   "cell_type": "code",
   "execution_count": 6,
   "id": "0b848981",
   "metadata": {},
   "outputs": [
    {
     "name": "stdout",
     "output_type": "stream",
     "text": [
      "3\n",
      "6\n",
      "9\n",
      "12\n",
      "15\n",
      "18\n",
      "21\n",
      "24\n",
      "27\n",
      "30\n",
      "33\n",
      "36\n",
      "39\n",
      "42\n",
      "45\n",
      "48\n",
      "51\n",
      "54\n",
      "57\n",
      "60\n",
      "63\n",
      "66\n",
      "69\n",
      "72\n",
      "75\n",
      "78\n",
      "81\n",
      "84\n",
      "87\n",
      "90\n",
      "93\n",
      "96\n",
      "99\n"
     ]
    }
   ],
   "source": [
    "a = 1\n",
    "for i in range(99):\n",
    "  if a % 3 == 0:\n",
    "    print(a)\n",
    "  a=a+1"
   ]
  },
  {
   "cell_type": "markdown",
   "id": "04dbf99b",
   "metadata": {},
   "source": [
    "### Bài 5\n",
    "\n",
    "In ra tất cả các số lẻ nhưng không chia hết cho 3 nhỏ hơn 100"
   ]
  },
  {
   "cell_type": "code",
   "execution_count": 7,
   "id": "769eb439",
   "metadata": {},
   "outputs": [
    {
     "name": "stdout",
     "output_type": "stream",
     "text": [
      "1\n",
      "5\n",
      "7\n",
      "11\n",
      "13\n",
      "17\n",
      "19\n",
      "23\n",
      "25\n",
      "29\n",
      "31\n",
      "35\n",
      "37\n",
      "41\n",
      "43\n",
      "47\n",
      "49\n",
      "53\n",
      "55\n",
      "59\n",
      "61\n",
      "65\n",
      "67\n",
      "71\n",
      "73\n",
      "77\n",
      "79\n",
      "83\n",
      "85\n",
      "89\n",
      "91\n",
      "95\n",
      "97\n"
     ]
    }
   ],
   "source": [
    "a = 1\n",
    "for i in range(99):\n",
    "  if a % 2 != 0 and a % 3 != 0:\n",
    "    print(a)\n",
    "  a=a+1"
   ]
  },
  {
   "cell_type": "markdown",
   "id": "26dd47fb",
   "metadata": {},
   "source": [
    "### Bài 5\n",
    "\n",
    "Tại một cửa hàng nọ có menu như sau:\n",
    "\n",
    "1. Gà rán giá 35k\n",
    "2. Hamburger giá 50k\n",
    "3. Pesi giá 10k\n",
    "\n",
    "Nhập số lượng món hàng cần mua\n",
    "\n",
    "Tính và in ra tổng giá tiền (hiển thị có dấu chấm mỗi 3 chữ số để người dùng để quan sát)\n",
    "\n",
    "Nếu giá trị đơn hàng trên 2 triệu, giảm 10% cho khách, trên 4 triệu, giảm 15%\n",
    "\n",
    "Tính và in ra tổng giá tiền được giảm (hiển thị có dấu chấm mỗi 3 chữ số để người dùng để quan sát)\n",
    "\n",
    "Tính và in ra tổng giá tiền khách cần trả (hiển thị có dấu chấm mỗi 3 chữ số để người dùng để quan sát)\n",
    "\n",
    "In ra dòng chữ \"Cảm ơn quý khách đã mua hàng\""
   ]
  },
  {
   "cell_type": "code",
   "execution_count": 17,
   "id": "8509df1e",
   "metadata": {},
   "outputs": [
    {
     "name": "stdout",
     "output_type": "stream",
     "text": [
      "Nhập số lượng gà rán khách mua:100\n",
      "Nhập số lượng hamburger khách mua:100\n",
      "Nhập số lượng pesi khách mua:15\n",
      "Tổng giá tiền đơn hàng là: 8.650.000\n",
      "Tổng tiền được giảm là: 1.297.500\n",
      "Tổng tiền phải thanh toán: 7.352.500\n",
      "Cảm ơn quý khách đã mua\n"
     ]
    }
   ],
   "source": [
    "garan = int(input(\"Nhập số lượng gà rán khách mua:\"))\n",
    "hamburger = int(input(\"Nhập số lượng hamburger khách mua:\"))\n",
    "pesi = int(input(\"Nhập số lượng pesi khách mua:\"))\n",
    "\n",
    "tong = garan*35000 + hamburger*50000 + pesi*10000\n",
    "\n",
    "chuoitong = str(tong)\n",
    "a = len(chuoitong) - 1\n",
    "dem = 0\n",
    "for i in range(len(chuoitong)):\n",
    "    if (dem < 2):\n",
    "        dem += 1\n",
    "    else:\n",
    "        if (a != 0):\n",
    "            chuoitong = chuoitong[:a] + \".\" + chuoitong[a:]\n",
    "            dem = 0\n",
    "    a -= 1\n",
    "\n",
    "if tong > 4000000:\n",
    "    giam = int(tong*0.15)\n",
    "    conlai = int(tong*0.85)\n",
    "elif tong > 2000000:\n",
    "    giam = int(tong*0.1)\n",
    "    conlai = int(tong*0.9)\n",
    "    \n",
    "chuoigiam = str(giam)\n",
    "\n",
    "a = len(chuoigiam) - 1\n",
    "dem = 0\n",
    "\n",
    "for i in range(len(chuoigiam)):\n",
    "    if (dem < 2):\n",
    "        dem += 1\n",
    "    else:\n",
    "        if (a != 0):\n",
    "            chuoigiam = chuoigiam[:a] + \".\" + chuoigiam[a:]\n",
    "            dem = 0\n",
    "    a -= 1\n",
    "\n",
    "chuoiconlai = str(conlai)\n",
    "    \n",
    "a = len(chuoiconlai) - 1\n",
    "dem = 0\n",
    "\n",
    "for i in range(len(chuoiconlai)):\n",
    "    if (dem < 2):\n",
    "        dem += 1\n",
    "    else:\n",
    "        if (a != 0):\n",
    "            chuoiconlai = chuoiconlai[:a] + \".\" + chuoiconlai[a:]\n",
    "            dem = 0\n",
    "    a -= 1\n",
    "\n",
    "print(\"Tổng giá tiền đơn hàng là:\",chuoitong)\n",
    "print(\"Tổng tiền được giảm là:\",chuoigiam)\n",
    "print(\"Tổng tiền phải thanh toán:\",chuoiconlai)\n",
    "print(\"Cảm ơn quý khách đã mua\")"
   ]
  },
  {
   "cell_type": "markdown",
   "id": "ab10a1ce",
   "metadata": {},
   "source": [
    "### Bài 6\n",
    "\n",
    "Nhập vào chiều cao (cm) và cân nặng (kg), tính số BMI và xét rồi xin kết quả theo dữ liệu sau:\n",
    "\n",
    "- BMI < 16: Gầy cấp độ III\n",
    "- 16 <= BMI < 17:  Gầy cấp độ II\n",
    "- 17<= BMI < 18.5: Gầy cấp độ I\n",
    "- 18.5 <= BMI < 25: Bình thường\n",
    "- 25 <= BMI < 30: Thừa cân\n",
    "- 30 <= BMI < 35 : Béo phì cấp độ I\n",
    "- 35 <= BMI < 40: Béo phì cấp độ II\n",
    "- BMI > 40: Béo phì cấp độ III"
   ]
  },
  {
   "cell_type": "code",
   "execution_count": 19,
   "id": "1058f441",
   "metadata": {},
   "outputs": [
    {
     "name": "stdout",
     "output_type": "stream",
     "text": [
      "Nhập chiều cao (cm) : 166\n",
      "Nhập cân nặng (kg) : 80\n",
      "Chỉ số BMI của bạn là:  29.03178980984178\n",
      "Thừa cân\n"
     ]
    }
   ],
   "source": [
    "chieucao = int(input(\"Nhập chiều cao (cm) : \"))\n",
    "cannang = int(input(\"Nhập cân nặng (kg) : \"))\n",
    "BMI = cannang/((chieucao/100)**2)\n",
    "print(\"Chỉ số BMI của bạn là: \",BMI)\n",
    "\n",
    "if BMI<16:\n",
    "    print(\"Gầy cấp độ 3\")\n",
    "elif BMI<17:\n",
    "    print(\"Gầy cấp độ 2\")\n",
    "elif BMI<18.5:\n",
    "    print(\"Gầy cấp độ 1\")\n",
    "elif BMI<25:\n",
    "    print(\"Bình thường\")\n",
    "elif BMI<30:\n",
    "    print(\"Thừa cân\")\n",
    "elif BMI<35:\n",
    "    print(\"Béo phì cấp độ 1\")\n",
    "elif BMI<40:\n",
    "    print(\"Béo phì cấp độ 2\")\n",
    "else:\n",
    "    print(\"Béo phì cấp độ 3\")\n"
   ]
  },
  {
   "cell_type": "markdown",
   "id": "f7620342",
   "metadata": {},
   "source": [
    "### Bài 7\n",
    "\n",
    "Nhập ngày, tháng, năm. Hãy tính và in ra màn hình kể từ đầu năm đến ngày vừa nhập là bao nhiêu ngày."
   ]
  },
  {
   "cell_type": "code",
   "execution_count": 23,
   "id": "4c57f0a5",
   "metadata": {},
   "outputs": [
    {
     "name": "stdout",
     "output_type": "stream",
     "text": [
      "Nhập ngày:15\n",
      "Nhập tháng:3\n",
      "Nhập năm:2000\n",
      "74\n"
     ]
    }
   ],
   "source": [
    "ngay = int(input(\"Nhập ngày:\"))\n",
    "thang = int(input(\"Nhập tháng:\"))\n",
    "nam = int(input(\"Nhập năm:\"))\n",
    "kq = 0\n",
    "\n",
    "a = 1\n",
    "for i in range(thang - 1):\n",
    "    if a <= 7:\n",
    "        if (a % 2 != 0):\n",
    "            kq += 31\n",
    "        elif (a == 2):\n",
    "            if (nam % 4 == 0):\n",
    "                kq += 29\n",
    "            else:\n",
    "                kq += 28\n",
    "        else:\n",
    "            kq += 30\n",
    "    else:\n",
    "        if (a % 2 != 0):\n",
    "            kq += 30\n",
    "        else:\n",
    "            kq += 31\n",
    "    a += 1\n",
    "\n",
    "kq += ngay - 1\n",
    "\n",
    "print(kq)"
   ]
  },
  {
   "cell_type": "markdown",
   "id": "7b66d8d5",
   "metadata": {},
   "source": [
    "### Bài 8\n",
    "\n",
    "Dựa vào bài vẽ đồ thị trong buổi học 6\n",
    "\n",
    "Hãy nhập vào 3 dữ liệu a, b, c bất kỳ (số thực)\n",
    "\n",
    "Tính toán và vẽ đồ thị với chiều cao của cột cao nhất là 300 đơn vị"
   ]
  },
  {
   "cell_type": "code",
   "execution_count": null,
   "id": "e950e96c",
   "metadata": {},
   "outputs": [],
   "source": []
  }
 ],
 "metadata": {
  "kernelspec": {
   "display_name": "Python 3 (ipykernel)",
   "language": "python",
   "name": "python3"
  },
  "language_info": {
   "codemirror_mode": {
    "name": "ipython",
    "version": 3
   },
   "file_extension": ".py",
   "mimetype": "text/x-python",
   "name": "python",
   "nbconvert_exporter": "python",
   "pygments_lexer": "ipython3",
   "version": "3.9.5"
  }
 },
 "nbformat": 4,
 "nbformat_minor": 5
}
