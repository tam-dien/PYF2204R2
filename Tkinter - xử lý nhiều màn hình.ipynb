{
 "cells": [
  {
   "cell_type": "code",
   "execution_count": 10,
   "id": "08af88fb",
   "metadata": {},
   "outputs": [],
   "source": [
    "from tkinter import *\n",
    "\n",
    "sc = Tk()\n",
    "\n",
    "def clickme():\n",
    "    bt1.grid_forget()\n",
    "    lb1.grid(column = 1,row = 1)\n",
    "    lb2.grid(column = 1,row = 2)\n",
    "    lb3.grid(column = 1,row = 3)\n",
    "    lb4.grid(column = 1,row = 4)\n",
    "\n",
    "bt1 = Button(sc,text = \"click me!\",font = (\"Arial\",20),command = clickme)\n",
    "\n",
    "lb1 = Label(sc,text = \"Tên: Nguyễn Tâm Điền\",font = (\"Arial\",20))\n",
    "lb2 = Label(sc,text = \"Tuổi: 30\",font = (\"Arial\",20))\n",
    "lb3 = Label(sc,text = \"Địa chỉ: 123 Hồng Hà\",font = (\"Arial\",20))\n",
    "lb4 = Label(sc,text = \"Nội dung!\",font = (\"Arial\",20))\n",
    "\n",
    "bt1.grid(column = 1,row = 1, padx = (50,50), pady = (50,50))\n",
    "\n",
    "sc.mainloop()"
   ]
  }
 ],
 "metadata": {
  "kernelspec": {
   "display_name": "Python 3 (ipykernel)",
   "language": "python",
   "name": "python3"
  },
  "language_info": {
   "codemirror_mode": {
    "name": "ipython",
    "version": 3
   },
   "file_extension": ".py",
   "mimetype": "text/x-python",
   "name": "python",
   "nbconvert_exporter": "python",
   "pygments_lexer": "ipython3",
   "version": "3.10.4"
  }
 },
 "nbformat": 4,
 "nbformat_minor": 5
}
