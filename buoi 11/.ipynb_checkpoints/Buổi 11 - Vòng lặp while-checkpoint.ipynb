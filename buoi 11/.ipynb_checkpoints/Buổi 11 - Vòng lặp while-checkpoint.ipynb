{
 "cells": [
  {
   "attachments": {
    "image.png": {
     "image/png": "[encoded data removed]"
    }
   },
   "cell_type": "markdown",
   "id": "16f175de",
   "metadata": {},
   "source": [
    "# Vòng lặp While\n",
    "\n",
    "### Lệnh while\n",
    "\n",
    "`while (điểu kiện):\n",
    "    //Câu lệnh 1\n",
    "//Câu lệnh 2`\n",
    "\n",
    "Sơ đồ tư duy của lệnh while\n",
    "\n",
    "![image.png](attachment:image.png)\n",
    "\n",
    "#### Ví dụ\n",
    "\n",
    "Sử dụng lệnh while và in ra 10 lần câu \"Hello mọi người\""
   ]
  },
  {
   "cell_type": "code",
   "execution_count": null,
   "id": "585ce3e5",
   "metadata": {},
   "outputs": [],
   "source": []
  },
  {
   "cell_type": "markdown",
   "id": "e6610d5d",
   "metadata": {},
   "source": [
    "Nhập vào một số nguyên a\n",
    "\n",
    "Cho S(k) = 1 + 2 + 3 + ... + k\n",
    "\n",
    "Lựa chọn k sao cho S(k) > a với k nhỏ nhất\n",
    "\n",
    "In S(k) và k lên màn hình"
   ]
  },
  {
   "cell_type": "code",
   "execution_count": null,
   "id": "2a440b57",
   "metadata": {},
   "outputs": [],
   "source": []
  },
  {
   "cell_type": "markdown",
   "id": "c69d294c",
   "metadata": {},
   "source": [
    "### Lệnh Break\n",
    "\n",
    "Cú pháp:\n",
    "\n",
    "`break`\n",
    "\n",
    "Lệnh break sẽ giúp hủy vòng lặp đang thực hiện\n",
    "\n",
    "##### Lưu ý:\n",
    "\n",
    "##### - Lệnh break <b>BẮT BUỘC</b> phải được đặt trong vòng lặp\n",
    "##### - Lệnh break sẽ hủy vòng lặp gần nhất (trong trường hợp có nhiều vòng lắp lồng vào nhau)\n",
    "\n",
    "#### Ví dụ\n",
    "\n",
    "Sử dụng lệnh `while (True)` và break và in ra 10 lần câu \"Hello mọi người\""
   ]
  },
  {
   "cell_type": "code",
   "execution_count": null,
   "id": "11c8a215",
   "metadata": {},
   "outputs": [],
   "source": []
  },
  {
   "cell_type": "markdown",
   "id": "08be8b7f",
   "metadata": {},
   "source": [
    "### Lệnh continue\n",
    "\n",
    "Cú pháp:\n",
    "\n",
    "`continue`\n",
    "\n",
    "Lệnh countinue giúp bỏ qua lần lặp hiện tại, tiến tới lần lặp tiếp theo\n",
    "\n",
    "Lưu ý:\n",
    "\n",
    "##### - Lệnh continue <b>BẮT BUỘC</b> phải được đặt trong vòng lặp\n",
    "##### - Lệnh continue sẽ bỏ qua lần lặp trong vòng lặp gần nhất (trong trường hợp có nhiều vòng lắp lồng vào nhau)\n",
    "\n",
    "#### Ví dụ\n",
    "\n",
    "Sử dụng lệnh continue, in ra những số từ 0 và 10, trừ những số 3, 5 và 7"
   ]
  },
  {
   "cell_type": "code",
   "execution_count": null,
   "id": "caa028b2",
   "metadata": {},
   "outputs": [],
   "source": []
  },
  {
   "cell_type": "markdown",
   "id": "fc113824",
   "metadata": {},
   "source": [
    "### Bài tập\n",
    "\n",
    "Nhập vào số a, kiểm tra coi a có phải là số nguyên dương hay không! Nếu a là số nguyên dương, in ra \"Nhập đúng quy định\", nếu a không là số nguyên dương, yêu cầu nhập lại\n",
    "\n",
    "##### Kể từ bài tập này, những bài tập sau của lớp thầy Điền cần phải yêu cầu nhập lại nếu người dùng nhập sai quy định của đề!"
   ]
  },
  {
   "cell_type": "code",
   "execution_count": null,
   "id": "8b48d3c1",
   "metadata": {},
   "outputs": [],
   "source": []
  },
  {
   "cell_type": "markdown",
   "id": "e25d3051",
   "metadata": {},
   "source": [
    "Nhập vào một số nguyên dương a, đếm các ước chẳn của số a"
   ]
  },
  {
   "cell_type": "code",
   "execution_count": null,
   "id": "7e14ae4f",
   "metadata": {},
   "outputs": [],
   "source": []
  },
  {
   "cell_type": "markdown",
   "id": "934b7ace",
   "metadata": {},
   "source": [
    "Nhập vào số nguyên dương a và b, in ra những ước chung của a và b"
   ]
  },
  {
   "cell_type": "code",
   "execution_count": null,
   "id": "9cec7e09",
   "metadata": {},
   "outputs": [],
   "source": []
  },
  {
   "cell_type": "markdown",
   "id": "0fa7131b",
   "metadata": {},
   "source": [
    "Nhập vào số nguyên dương a và b, in ra ước chung lón nhất của a và b"
   ]
  },
  {
   "cell_type": "code",
   "execution_count": null,
   "id": "f8b08df3",
   "metadata": {},
   "outputs": [],
   "source": []
  },
  {
   "cell_type": "markdown",
   "id": "541cbb88",
   "metadata": {},
   "source": [
    "Nhập vào số nguyên dương n, hãy in các số chính phương bé hơn n"
   ]
  },
  {
   "cell_type": "code",
   "execution_count": null,
   "id": "cc609f05",
   "metadata": {},
   "outputs": [],
   "source": []
  },
  {
   "cell_type": "markdown",
   "id": "ea93934b",
   "metadata": {},
   "source": [
    "Số hoàn hảo là số có tổng các ước (không bao gồm nó) của nó bằng chính nó\n",
    "\n",
    "Ví dụ: số 6 là số hoàn hảo vì số 6 có các ước 1, 2, 3. Các ước này cộng lại ra 6.\n",
    "\n",
    "Nhập vào số nguyên dương a, kiểm tra xem a có phải là số hoàn hảo hay không."
   ]
  },
  {
   "cell_type": "code",
   "execution_count": null,
   "id": "a3a7967e",
   "metadata": {},
   "outputs": [],
   "source": []
  },
  {
   "cell_type": "markdown",
   "id": "dda6390e",
   "metadata": {},
   "source": [
    "Nhập vào một số nguyên dương, hãy đếm xem a có bao nhiêu chữ số"
   ]
  },
  {
   "cell_type": "code",
   "execution_count": null,
   "id": "802f4680",
   "metadata": {},
   "outputs": [],
   "source": []
  },
  {
   "cell_type": "code",
   "execution_count": null,
   "id": "3653c87a",
   "metadata": {},
   "outputs": [],
   "source": []
  },
  {
   "cell_type": "markdown",
   "id": "1854837f",
   "metadata": {},
   "source": [
    "Nhập vào một số nguyên dương a, hãy tính tổng các chữ số của a\n",
    "\n",
    "#### Cách 1 (không dùng chuỗi):"
   ]
  },
  {
   "cell_type": "code",
   "execution_count": null,
   "id": "ee8e1b6c",
   "metadata": {},
   "outputs": [],
   "source": []
  },
  {
   "cell_type": "markdown",
   "id": "ca6d3ba9",
   "metadata": {},
   "source": [
    "#### Cách 2 (dùng chuỗi):"
   ]
  },
  {
   "cell_type": "code",
   "execution_count": null,
   "id": "9f38244d",
   "metadata": {},
   "outputs": [],
   "source": []
  }
 ],
 "metadata": {
  "kernelspec": {
   "display_name": "Python 3 (ipykernel)",
   "language": "python",
   "name": "python3"
  },
  "language_info": {
   "codemirror_mode": {
    "name": "ipython",
    "version": 3
   },
   "file_extension": ".py",
   "mimetype": "text/x-python",
   "name": "python",
   "nbconvert_exporter": "python",
   "pygments_lexer": "ipython3",
   "version": "3.9.5"
  }
 },
 "nbformat": 4,
 "nbformat_minor": 5
}
